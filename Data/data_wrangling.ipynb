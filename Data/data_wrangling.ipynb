{
 "cells": [
  {
   "cell_type": "markdown",
   "id": "03ecac1a",
   "metadata": {},
   "source": [
    "# Context of the problem"
   ]
  },
  {
   "cell_type": "markdown",
   "id": "d0c15893",
   "metadata": {},
   "source": [
    "Cintas is a company that delivers clean uniforms to customers around the city.  While GPS can help navigate routes in real-time, route planning is done in advance based on sequencing stops based on geographical considerations. In fact, after speaking with a representative, I found that they plan routes entirely on zipcodes. The zipcode of a series of stops is not always the greatest predictor of what will complete the series of stops in the least amount of time. Can we predict traffic issues before they occur so that we may avoid them?\n",
    "\n",
    "We will explore the Real-Time Traffic Incident Reports from Austin's Open Data Portal.\n",
    "(https://data.austintexas.gov/Transportation-and-Mobility/Real-Time-Traffic-Incident-Reports/dx9v-zd7x)"
   ]
  },
  {
   "cell_type": "markdown",
   "id": "d9075e31",
   "metadata": {},
   "source": [
    "# Import necessary libraries"
   ]
  },
  {
   "cell_type": "code",
   "execution_count": 22,
   "id": "da3f64fd",
   "metadata": {},
   "outputs": [],
   "source": [
    "import pandas as pd\n",
    "import numpy as np\n",
    "from datetime import datetime"
   ]
  },
  {
   "cell_type": "markdown",
   "id": "b22e01ec",
   "metadata": {},
   "source": [
    "# Data Collection/Organization\n",
    "\n",
    "I'm importing the spreadsheet changing the published/status date columns to datetime objects."
   ]
  },
  {
   "cell_type": "code",
   "execution_count": 23,
   "id": "aab2f618",
   "metadata": {},
   "outputs": [],
   "source": [
    "file = 'Real-Time_Traffic_Incident_Reports.csv'"
   ]
  },
  {
   "cell_type": "code",
   "execution_count": 24,
   "id": "48d10ad4",
   "metadata": {},
   "outputs": [
    {
     "data": {
      "text/html": [
       "<div>\n",
       "<style scoped>\n",
       "    .dataframe tbody tr th:only-of-type {\n",
       "        vertical-align: middle;\n",
       "    }\n",
       "\n",
       "    .dataframe tbody tr th {\n",
       "        vertical-align: top;\n",
       "    }\n",
       "\n",
       "    .dataframe thead th {\n",
       "        text-align: right;\n",
       "    }\n",
       "</style>\n",
       "<table border=\"1\" class=\"dataframe\">\n",
       "  <thead>\n",
       "    <tr style=\"text-align: right;\">\n",
       "      <th></th>\n",
       "      <th>Traffic Report ID</th>\n",
       "      <th>Published Date</th>\n",
       "      <th>Issue Reported</th>\n",
       "      <th>Location</th>\n",
       "      <th>Latitude</th>\n",
       "      <th>Longitude</th>\n",
       "      <th>Address</th>\n",
       "      <th>Status</th>\n",
       "      <th>Status Date</th>\n",
       "    </tr>\n",
       "  </thead>\n",
       "  <tbody>\n",
       "    <tr>\n",
       "      <th>0</th>\n",
       "      <td>C163BCD1CF90C984E9EDA4DBA311BCA369A7D1A1_15288...</td>\n",
       "      <td>2018-06-13 06:35:59+00:00</td>\n",
       "      <td>Crash Service</td>\n",
       "      <td>(30.283797,-97.741906)</td>\n",
       "      <td>30.283797</td>\n",
       "      <td>-97.741906</td>\n",
       "      <td>W 21ST ST &amp; GUADALUPE ST</td>\n",
       "      <td>ARCHIVED</td>\n",
       "      <td>2018-06-13 09:00:03+00:00</td>\n",
       "    </tr>\n",
       "    <tr>\n",
       "      <th>1</th>\n",
       "      <td>6B20382196FB454E9FD06A33E60142902A2F0706_15288...</td>\n",
       "      <td>2018-06-13 10:15:36+00:00</td>\n",
       "      <td>Traffic Hazard</td>\n",
       "      <td>(30.339593,-97.700963)</td>\n",
       "      <td>30.339593</td>\n",
       "      <td>-97.700963</td>\n",
       "      <td>400-717 E ANDERSON LN EB</td>\n",
       "      <td>ARCHIVED</td>\n",
       "      <td>2018-06-13 11:20:03+00:00</td>\n",
       "    </tr>\n",
       "    <tr>\n",
       "      <th>2</th>\n",
       "      <td>2A7A84FC69D56A2C379C274D2F0831442D3E7B8E_15871...</td>\n",
       "      <td>2020-04-17 21:25:03+00:00</td>\n",
       "      <td>Crash Urgent</td>\n",
       "      <td>(30.329455,-97.638105)</td>\n",
       "      <td>30.329455</td>\n",
       "      <td>-97.638105</td>\n",
       "      <td>E US 290 HWY SVRD EB &amp; EASTERN HEIGHTS BLVD</td>\n",
       "      <td>ARCHIVED</td>\n",
       "      <td>2020-04-17 21:55:03+00:00</td>\n",
       "    </tr>\n",
       "    <tr>\n",
       "      <th>3</th>\n",
       "      <td>89D3B75BB5932F10D25B5852A9902DA26C3DF11A_15871...</td>\n",
       "      <td>2020-04-17 21:40:52+00:00</td>\n",
       "      <td>Traffic Hazard</td>\n",
       "      <td>(30.202806,-97.760701)</td>\n",
       "      <td>30.202806</td>\n",
       "      <td>-97.760701</td>\n",
       "      <td>5300-blk S Ih 35 Sb</td>\n",
       "      <td>ARCHIVED</td>\n",
       "      <td>2020-04-17 21:55:03+00:00</td>\n",
       "    </tr>\n",
       "    <tr>\n",
       "      <th>4</th>\n",
       "      <td>E7F9EFF0E81057A5C8FE41CABE4D9C6EEA82DAA0_15871...</td>\n",
       "      <td>2020-04-17 21:00:55+00:00</td>\n",
       "      <td>Crash Urgent</td>\n",
       "      <td>(30.184265,-97.687339)</td>\n",
       "      <td>30.184265</td>\n",
       "      <td>-97.687339</td>\n",
       "      <td>4500-4720 S Us 183 Hwy Sb</td>\n",
       "      <td>ARCHIVED</td>\n",
       "      <td>2020-04-17 23:30:04+00:00</td>\n",
       "    </tr>\n",
       "  </tbody>\n",
       "</table>\n",
       "</div>"
      ],
      "text/plain": [
       "                                   Traffic Report ID  \\\n",
       "0  C163BCD1CF90C984E9EDA4DBA311BCA369A7D1A1_15288...   \n",
       "1  6B20382196FB454E9FD06A33E60142902A2F0706_15288...   \n",
       "2  2A7A84FC69D56A2C379C274D2F0831442D3E7B8E_15871...   \n",
       "3  89D3B75BB5932F10D25B5852A9902DA26C3DF11A_15871...   \n",
       "4  E7F9EFF0E81057A5C8FE41CABE4D9C6EEA82DAA0_15871...   \n",
       "\n",
       "             Published Date  Issue Reported                Location  \\\n",
       "0 2018-06-13 06:35:59+00:00   Crash Service  (30.283797,-97.741906)   \n",
       "1 2018-06-13 10:15:36+00:00  Traffic Hazard  (30.339593,-97.700963)   \n",
       "2 2020-04-17 21:25:03+00:00    Crash Urgent  (30.329455,-97.638105)   \n",
       "3 2020-04-17 21:40:52+00:00  Traffic Hazard  (30.202806,-97.760701)   \n",
       "4 2020-04-17 21:00:55+00:00    Crash Urgent  (30.184265,-97.687339)   \n",
       "\n",
       "    Latitude  Longitude                                      Address  \\\n",
       "0  30.283797 -97.741906                     W 21ST ST & GUADALUPE ST   \n",
       "1  30.339593 -97.700963                     400-717 E ANDERSON LN EB   \n",
       "2  30.329455 -97.638105  E US 290 HWY SVRD EB & EASTERN HEIGHTS BLVD   \n",
       "3  30.202806 -97.760701                          5300-blk S Ih 35 Sb   \n",
       "4  30.184265 -97.687339                    4500-4720 S Us 183 Hwy Sb   \n",
       "\n",
       "     Status               Status Date  \n",
       "0  ARCHIVED 2018-06-13 09:00:03+00:00  \n",
       "1  ARCHIVED 2018-06-13 11:20:03+00:00  \n",
       "2  ARCHIVED 2020-04-17 21:55:03+00:00  \n",
       "3  ARCHIVED 2020-04-17 21:55:03+00:00  \n",
       "4  ARCHIVED 2020-04-17 23:30:04+00:00  "
      ]
     },
     "execution_count": 24,
     "metadata": {},
     "output_type": "execute_result"
    }
   ],
   "source": [
    "\n",
    "df = pd.read_csv(file, parse_dates=['Published Date', 'Status Date'])\n",
    "\n",
    "df.head()\n"
   ]
  },
  {
   "cell_type": "code",
   "execution_count": 25,
   "id": "7d6e6245",
   "metadata": {},
   "outputs": [
    {
     "data": {
      "text/plain": [
       "Traffic Report ID                 object\n",
       "Published Date       datetime64[ns, UTC]\n",
       "Issue Reported                    object\n",
       "Location                          object\n",
       "Latitude                          object\n",
       "Longitude                        float64\n",
       "Address                           object\n",
       "Status                            object\n",
       "Status Date          datetime64[ns, UTC]\n",
       "dtype: object"
      ]
     },
     "execution_count": 25,
     "metadata": {},
     "output_type": "execute_result"
    }
   ],
   "source": [
    "df.dtypes"
   ]
  },
  {
   "cell_type": "code",
   "execution_count": 26,
   "id": "28c0fc79",
   "metadata": {},
   "outputs": [
    {
     "data": {
      "text/plain": [
       "(249650, 9)"
      ]
     },
     "execution_count": 26,
     "metadata": {},
     "output_type": "execute_result"
    }
   ],
   "source": [
    "df.shape"
   ]
  },
  {
   "cell_type": "code",
   "execution_count": null,
   "id": "7b027194",
   "metadata": {},
   "outputs": [],
   "source": []
  },
  {
   "cell_type": "markdown",
   "id": "dc8327a9",
   "metadata": {},
   "source": [
    "There are 249,650 rows and 9 columns"
   ]
  },
  {
   "cell_type": "markdown",
   "id": "23814f6b",
   "metadata": {},
   "source": [
    "# Data Wrangling"
   ]
  },
  {
   "cell_type": "markdown",
   "id": "969889b8",
   "metadata": {},
   "source": [
    "The column names have spaces in them. This will prove to be a problem with creating visualizations later so I'm going to change the variable names for the applicable columns."
   ]
  },
  {
   "cell_type": "code",
   "execution_count": 27,
   "id": "4e03473b",
   "metadata": {},
   "outputs": [
    {
     "data": {
      "text/html": [
       "<div>\n",
       "<style scoped>\n",
       "    .dataframe tbody tr th:only-of-type {\n",
       "        vertical-align: middle;\n",
       "    }\n",
       "\n",
       "    .dataframe tbody tr th {\n",
       "        vertical-align: top;\n",
       "    }\n",
       "\n",
       "    .dataframe thead th {\n",
       "        text-align: right;\n",
       "    }\n",
       "</style>\n",
       "<table border=\"1\" class=\"dataframe\">\n",
       "  <thead>\n",
       "    <tr style=\"text-align: right;\">\n",
       "      <th></th>\n",
       "      <th>tr_ID</th>\n",
       "      <th>published_date</th>\n",
       "      <th>issue_reported</th>\n",
       "      <th>Location</th>\n",
       "      <th>Latitude</th>\n",
       "      <th>Longitude</th>\n",
       "      <th>Address</th>\n",
       "      <th>Status</th>\n",
       "      <th>status_date</th>\n",
       "    </tr>\n",
       "  </thead>\n",
       "  <tbody>\n",
       "    <tr>\n",
       "      <th>0</th>\n",
       "      <td>C163BCD1CF90C984E9EDA4DBA311BCA369A7D1A1_15288...</td>\n",
       "      <td>2018-06-13 06:35:59+00:00</td>\n",
       "      <td>Crash Service</td>\n",
       "      <td>(30.283797,-97.741906)</td>\n",
       "      <td>30.283797</td>\n",
       "      <td>-97.741906</td>\n",
       "      <td>W 21ST ST &amp; GUADALUPE ST</td>\n",
       "      <td>ARCHIVED</td>\n",
       "      <td>2018-06-13 09:00:03+00:00</td>\n",
       "    </tr>\n",
       "    <tr>\n",
       "      <th>1</th>\n",
       "      <td>6B20382196FB454E9FD06A33E60142902A2F0706_15288...</td>\n",
       "      <td>2018-06-13 10:15:36+00:00</td>\n",
       "      <td>Traffic Hazard</td>\n",
       "      <td>(30.339593,-97.700963)</td>\n",
       "      <td>30.339593</td>\n",
       "      <td>-97.700963</td>\n",
       "      <td>400-717 E ANDERSON LN EB</td>\n",
       "      <td>ARCHIVED</td>\n",
       "      <td>2018-06-13 11:20:03+00:00</td>\n",
       "    </tr>\n",
       "    <tr>\n",
       "      <th>2</th>\n",
       "      <td>2A7A84FC69D56A2C379C274D2F0831442D3E7B8E_15871...</td>\n",
       "      <td>2020-04-17 21:25:03+00:00</td>\n",
       "      <td>Crash Urgent</td>\n",
       "      <td>(30.329455,-97.638105)</td>\n",
       "      <td>30.329455</td>\n",
       "      <td>-97.638105</td>\n",
       "      <td>E US 290 HWY SVRD EB &amp; EASTERN HEIGHTS BLVD</td>\n",
       "      <td>ARCHIVED</td>\n",
       "      <td>2020-04-17 21:55:03+00:00</td>\n",
       "    </tr>\n",
       "    <tr>\n",
       "      <th>3</th>\n",
       "      <td>89D3B75BB5932F10D25B5852A9902DA26C3DF11A_15871...</td>\n",
       "      <td>2020-04-17 21:40:52+00:00</td>\n",
       "      <td>Traffic Hazard</td>\n",
       "      <td>(30.202806,-97.760701)</td>\n",
       "      <td>30.202806</td>\n",
       "      <td>-97.760701</td>\n",
       "      <td>5300-blk S Ih 35 Sb</td>\n",
       "      <td>ARCHIVED</td>\n",
       "      <td>2020-04-17 21:55:03+00:00</td>\n",
       "    </tr>\n",
       "    <tr>\n",
       "      <th>4</th>\n",
       "      <td>E7F9EFF0E81057A5C8FE41CABE4D9C6EEA82DAA0_15871...</td>\n",
       "      <td>2020-04-17 21:00:55+00:00</td>\n",
       "      <td>Crash Urgent</td>\n",
       "      <td>(30.184265,-97.687339)</td>\n",
       "      <td>30.184265</td>\n",
       "      <td>-97.687339</td>\n",
       "      <td>4500-4720 S Us 183 Hwy Sb</td>\n",
       "      <td>ARCHIVED</td>\n",
       "      <td>2020-04-17 23:30:04+00:00</td>\n",
       "    </tr>\n",
       "  </tbody>\n",
       "</table>\n",
       "</div>"
      ],
      "text/plain": [
       "                                               tr_ID  \\\n",
       "0  C163BCD1CF90C984E9EDA4DBA311BCA369A7D1A1_15288...   \n",
       "1  6B20382196FB454E9FD06A33E60142902A2F0706_15288...   \n",
       "2  2A7A84FC69D56A2C379C274D2F0831442D3E7B8E_15871...   \n",
       "3  89D3B75BB5932F10D25B5852A9902DA26C3DF11A_15871...   \n",
       "4  E7F9EFF0E81057A5C8FE41CABE4D9C6EEA82DAA0_15871...   \n",
       "\n",
       "             published_date  issue_reported                Location  \\\n",
       "0 2018-06-13 06:35:59+00:00   Crash Service  (30.283797,-97.741906)   \n",
       "1 2018-06-13 10:15:36+00:00  Traffic Hazard  (30.339593,-97.700963)   \n",
       "2 2020-04-17 21:25:03+00:00    Crash Urgent  (30.329455,-97.638105)   \n",
       "3 2020-04-17 21:40:52+00:00  Traffic Hazard  (30.202806,-97.760701)   \n",
       "4 2020-04-17 21:00:55+00:00    Crash Urgent  (30.184265,-97.687339)   \n",
       "\n",
       "    Latitude  Longitude                                      Address  \\\n",
       "0  30.283797 -97.741906                     W 21ST ST & GUADALUPE ST   \n",
       "1  30.339593 -97.700963                     400-717 E ANDERSON LN EB   \n",
       "2  30.329455 -97.638105  E US 290 HWY SVRD EB & EASTERN HEIGHTS BLVD   \n",
       "3  30.202806 -97.760701                          5300-blk S Ih 35 Sb   \n",
       "4  30.184265 -97.687339                    4500-4720 S Us 183 Hwy Sb   \n",
       "\n",
       "     Status               status_date  \n",
       "0  ARCHIVED 2018-06-13 09:00:03+00:00  \n",
       "1  ARCHIVED 2018-06-13 11:20:03+00:00  \n",
       "2  ARCHIVED 2020-04-17 21:55:03+00:00  \n",
       "3  ARCHIVED 2020-04-17 21:55:03+00:00  \n",
       "4  ARCHIVED 2020-04-17 23:30:04+00:00  "
      ]
     },
     "execution_count": 27,
     "metadata": {},
     "output_type": "execute_result"
    }
   ],
   "source": [
    "df=df.rename(columns = {'Published Date':'published_date'})\n",
    "df=df.rename(columns = {'Status Date':'status_date'})\n",
    "df=df.rename(columns = {'Issue Reported':'issue_reported'})\n",
    "df=df.rename(columns = {'Traffic Report ID':'tr_ID'})\n",
    "df.head()"
   ]
  },
  {
   "cell_type": "code",
   "execution_count": 29,
   "id": "45f580dd",
   "metadata": {},
   "outputs": [
    {
     "data": {
      "text/plain": [
       "Timestamp('2017-09-26 16:11:00+0000', tz='UTC')"
      ]
     },
     "execution_count": 29,
     "metadata": {},
     "output_type": "execute_result"
    }
   ],
   "source": [
    "df['published_date'].min()"
   ]
  },
  {
   "cell_type": "code",
   "execution_count": 30,
   "id": "11cfc1d8",
   "metadata": {},
   "outputs": [
    {
     "data": {
      "text/plain": [
       "Timestamp('2021-12-13 19:35:58+0000', tz='UTC')"
      ]
     },
     "execution_count": 30,
     "metadata": {},
     "output_type": "execute_result"
    }
   ],
   "source": [
    "df['published_date'].max()"
   ]
  },
  {
   "cell_type": "markdown",
   "id": "3a7587e2",
   "metadata": {},
   "source": [
    "# Exploring the Data and Converting Datatypes"
   ]
  },
  {
   "cell_type": "code",
   "execution_count": 7,
   "id": "0672785d",
   "metadata": {},
   "outputs": [
    {
     "data": {
      "text/html": [
       "<div>\n",
       "<style scoped>\n",
       "    .dataframe tbody tr th:only-of-type {\n",
       "        vertical-align: middle;\n",
       "    }\n",
       "\n",
       "    .dataframe tbody tr th {\n",
       "        vertical-align: top;\n",
       "    }\n",
       "\n",
       "    .dataframe thead th {\n",
       "        text-align: right;\n",
       "    }\n",
       "</style>\n",
       "<table border=\"1\" class=\"dataframe\">\n",
       "  <thead>\n",
       "    <tr style=\"text-align: right;\">\n",
       "      <th></th>\n",
       "      <th>Longitude</th>\n",
       "    </tr>\n",
       "  </thead>\n",
       "  <tbody>\n",
       "    <tr>\n",
       "      <th>count</th>\n",
       "      <td>249571.000000</td>\n",
       "    </tr>\n",
       "    <tr>\n",
       "      <th>mean</th>\n",
       "      <td>-97.551690</td>\n",
       "    </tr>\n",
       "    <tr>\n",
       "      <th>std</th>\n",
       "      <td>4.211096</td>\n",
       "    </tr>\n",
       "    <tr>\n",
       "      <th>min</th>\n",
       "      <td>-98.816154</td>\n",
       "    </tr>\n",
       "    <tr>\n",
       "      <th>25%</th>\n",
       "      <td>-97.776950</td>\n",
       "    </tr>\n",
       "    <tr>\n",
       "      <th>50%</th>\n",
       "      <td>-97.734295</td>\n",
       "    </tr>\n",
       "    <tr>\n",
       "      <th>75%</th>\n",
       "      <td>-97.687038</td>\n",
       "    </tr>\n",
       "    <tr>\n",
       "      <th>max</th>\n",
       "      <td>0.000000</td>\n",
       "    </tr>\n",
       "  </tbody>\n",
       "</table>\n",
       "</div>"
      ],
      "text/plain": [
       "           Longitude\n",
       "count  249571.000000\n",
       "mean      -97.551690\n",
       "std         4.211096\n",
       "min       -98.816154\n",
       "25%       -97.776950\n",
       "50%       -97.734295\n",
       "75%       -97.687038\n",
       "max         0.000000"
      ]
     },
     "execution_count": 7,
     "metadata": {},
     "output_type": "execute_result"
    }
   ],
   "source": [
    "df.describe()\n",
    "#Only one column appear as it's the only one with a numerical data type(float)"
   ]
  },
  {
   "cell_type": "markdown",
   "id": "fd2704f9",
   "metadata": {},
   "source": [
    "Having the 'Latitude' column remain an object makes no sense. It need to be converted into a float so that it may be used in conjunction with the 'Longitude' column."
   ]
  },
  {
   "cell_type": "code",
   "execution_count": 8,
   "id": "1e55393a",
   "metadata": {},
   "outputs": [
    {
     "name": "stdout",
     "output_type": "stream",
     "text": [
      "<class 'pandas.core.frame.DataFrame'>\n",
      "RangeIndex: 249650 entries, 0 to 249649\n",
      "Data columns (total 9 columns):\n",
      " #   Column          Non-Null Count   Dtype              \n",
      "---  ------          --------------   -----              \n",
      " 0   tr_ID           249650 non-null  object             \n",
      " 1   published_date  249650 non-null  datetime64[ns, UTC]\n",
      " 2   issue_reported  249650 non-null  object             \n",
      " 3   Location        249107 non-null  object             \n",
      " 4   Latitude        249525 non-null  float64            \n",
      " 5   Longitude       249571 non-null  float64            \n",
      " 6   Address         249650 non-null  object             \n",
      " 7   Status          247957 non-null  object             \n",
      " 8   status_date     249650 non-null  datetime64[ns, UTC]\n",
      "dtypes: datetime64[ns, UTC](2), float64(2), object(5)\n",
      "memory usage: 17.1+ MB\n"
     ]
    }
   ],
   "source": [
    "df['Latitude'] = pd.to_numeric(df['Latitude'], errors = 'coerce') #Converting Latitude to numeric(float)\n",
    "df.info()\n"
   ]
  },
  {
   "cell_type": "markdown",
   "id": "f54bfab6",
   "metadata": {},
   "source": [
    "## Finding the Null Values"
   ]
  },
  {
   "cell_type": "markdown",
   "id": "a63a06d0",
   "metadata": {},
   "source": [
    "Finding the total number of nulls along with the total percentage of nulls per column."
   ]
  },
  {
   "cell_type": "code",
   "execution_count": 9,
   "id": "1420463e",
   "metadata": {},
   "outputs": [
    {
     "data": {
      "text/html": [
       "<div>\n",
       "<style scoped>\n",
       "    .dataframe tbody tr th:only-of-type {\n",
       "        vertical-align: middle;\n",
       "    }\n",
       "\n",
       "    .dataframe tbody tr th {\n",
       "        vertical-align: top;\n",
       "    }\n",
       "\n",
       "    .dataframe thead th {\n",
       "        text-align: right;\n",
       "    }\n",
       "</style>\n",
       "<table border=\"1\" class=\"dataframe\">\n",
       "  <thead>\n",
       "    <tr style=\"text-align: right;\">\n",
       "      <th></th>\n",
       "      <th>count</th>\n",
       "      <th>%</th>\n",
       "    </tr>\n",
       "  </thead>\n",
       "  <tbody>\n",
       "    <tr>\n",
       "      <th>tr_ID</th>\n",
       "      <td>0</td>\n",
       "      <td>0.000000</td>\n",
       "    </tr>\n",
       "    <tr>\n",
       "      <th>published_date</th>\n",
       "      <td>0</td>\n",
       "      <td>0.000000</td>\n",
       "    </tr>\n",
       "    <tr>\n",
       "      <th>issue_reported</th>\n",
       "      <td>0</td>\n",
       "      <td>0.000000</td>\n",
       "    </tr>\n",
       "    <tr>\n",
       "      <th>Address</th>\n",
       "      <td>0</td>\n",
       "      <td>0.000000</td>\n",
       "    </tr>\n",
       "    <tr>\n",
       "      <th>status_date</th>\n",
       "      <td>0</td>\n",
       "      <td>0.000000</td>\n",
       "    </tr>\n",
       "    <tr>\n",
       "      <th>Longitude</th>\n",
       "      <td>79</td>\n",
       "      <td>0.031644</td>\n",
       "    </tr>\n",
       "    <tr>\n",
       "      <th>Latitude</th>\n",
       "      <td>125</td>\n",
       "      <td>0.050070</td>\n",
       "    </tr>\n",
       "    <tr>\n",
       "      <th>Location</th>\n",
       "      <td>543</td>\n",
       "      <td>0.217505</td>\n",
       "    </tr>\n",
       "    <tr>\n",
       "      <th>Status</th>\n",
       "      <td>1693</td>\n",
       "      <td>0.678149</td>\n",
       "    </tr>\n",
       "  </tbody>\n",
       "</table>\n",
       "</div>"
      ],
      "text/plain": [
       "                count         %\n",
       "tr_ID               0  0.000000\n",
       "published_date      0  0.000000\n",
       "issue_reported      0  0.000000\n",
       "Address             0  0.000000\n",
       "status_date         0  0.000000\n",
       "Longitude          79  0.031644\n",
       "Latitude          125  0.050070\n",
       "Location          543  0.217505\n",
       "Status           1693  0.678149"
      ]
     },
     "execution_count": 9,
     "metadata": {},
     "output_type": "execute_result"
    }
   ],
   "source": [
    "missing = pd.concat([df.isnull().sum(), 100 * df.isnull().mean()], axis=1)\n",
    "missing.columns=['count', '%']\n",
    "missing.sort_values(by='count')"
   ]
  },
  {
   "cell_type": "markdown",
   "id": "174b1f16",
   "metadata": {},
   "source": [
    "## Null Summary "
   ]
  },
  {
   "cell_type": "markdown",
   "id": "ffa2d913",
   "metadata": {},
   "source": [
    "The columns are missing some values are:\n",
    "Longitude - 3%\n",
    "Latitude - 5%\n",
    "Location - 21%, This will be dropped later as it is redundant and has more null values\n",
    "Status - 67%"
   ]
  },
  {
   "cell_type": "markdown",
   "id": "095ca0f5",
   "metadata": {},
   "source": [
    "### Drop the Status Column"
   ]
  },
  {
   "cell_type": "markdown",
   "id": "d6882f23",
   "metadata": {},
   "source": [
    "The Status column will not be used for this analysis, it only inidicates whether a incident is archived or not. Everything in this dataset is archived.\n"
   ]
  },
  {
   "cell_type": "code",
   "execution_count": 10,
   "id": "0b720052",
   "metadata": {},
   "outputs": [
    {
     "data": {
      "text/html": [
       "<div>\n",
       "<style scoped>\n",
       "    .dataframe tbody tr th:only-of-type {\n",
       "        vertical-align: middle;\n",
       "    }\n",
       "\n",
       "    .dataframe tbody tr th {\n",
       "        vertical-align: top;\n",
       "    }\n",
       "\n",
       "    .dataframe thead th {\n",
       "        text-align: right;\n",
       "    }\n",
       "</style>\n",
       "<table border=\"1\" class=\"dataframe\">\n",
       "  <thead>\n",
       "    <tr style=\"text-align: right;\">\n",
       "      <th></th>\n",
       "      <th>tr_ID</th>\n",
       "      <th>published_date</th>\n",
       "      <th>issue_reported</th>\n",
       "      <th>Location</th>\n",
       "      <th>Latitude</th>\n",
       "      <th>Longitude</th>\n",
       "      <th>Address</th>\n",
       "      <th>status_date</th>\n",
       "    </tr>\n",
       "  </thead>\n",
       "  <tbody>\n",
       "    <tr>\n",
       "      <th>0</th>\n",
       "      <td>C163BCD1CF90C984E9EDA4DBA311BCA369A7D1A1_15288...</td>\n",
       "      <td>2018-06-13 06:35:59+00:00</td>\n",
       "      <td>Crash Service</td>\n",
       "      <td>(30.283797,-97.741906)</td>\n",
       "      <td>30.283797</td>\n",
       "      <td>-97.741906</td>\n",
       "      <td>W 21ST ST &amp; GUADALUPE ST</td>\n",
       "      <td>2018-06-13 09:00:03+00:00</td>\n",
       "    </tr>\n",
       "    <tr>\n",
       "      <th>1</th>\n",
       "      <td>6B20382196FB454E9FD06A33E60142902A2F0706_15288...</td>\n",
       "      <td>2018-06-13 10:15:36+00:00</td>\n",
       "      <td>Traffic Hazard</td>\n",
       "      <td>(30.339593,-97.700963)</td>\n",
       "      <td>30.339593</td>\n",
       "      <td>-97.700963</td>\n",
       "      <td>400-717 E ANDERSON LN EB</td>\n",
       "      <td>2018-06-13 11:20:03+00:00</td>\n",
       "    </tr>\n",
       "    <tr>\n",
       "      <th>2</th>\n",
       "      <td>2A7A84FC69D56A2C379C274D2F0831442D3E7B8E_15871...</td>\n",
       "      <td>2020-04-17 21:25:03+00:00</td>\n",
       "      <td>Crash Urgent</td>\n",
       "      <td>(30.329455,-97.638105)</td>\n",
       "      <td>30.329455</td>\n",
       "      <td>-97.638105</td>\n",
       "      <td>E US 290 HWY SVRD EB &amp; EASTERN HEIGHTS BLVD</td>\n",
       "      <td>2020-04-17 21:55:03+00:00</td>\n",
       "    </tr>\n",
       "  </tbody>\n",
       "</table>\n",
       "</div>"
      ],
      "text/plain": [
       "                                               tr_ID  \\\n",
       "0  C163BCD1CF90C984E9EDA4DBA311BCA369A7D1A1_15288...   \n",
       "1  6B20382196FB454E9FD06A33E60142902A2F0706_15288...   \n",
       "2  2A7A84FC69D56A2C379C274D2F0831442D3E7B8E_15871...   \n",
       "\n",
       "             published_date  issue_reported                Location  \\\n",
       "0 2018-06-13 06:35:59+00:00   Crash Service  (30.283797,-97.741906)   \n",
       "1 2018-06-13 10:15:36+00:00  Traffic Hazard  (30.339593,-97.700963)   \n",
       "2 2020-04-17 21:25:03+00:00    Crash Urgent  (30.329455,-97.638105)   \n",
       "\n",
       "    Latitude  Longitude                                      Address  \\\n",
       "0  30.283797 -97.741906                     W 21ST ST & GUADALUPE ST   \n",
       "1  30.339593 -97.700963                     400-717 E ANDERSON LN EB   \n",
       "2  30.329455 -97.638105  E US 290 HWY SVRD EB & EASTERN HEIGHTS BLVD   \n",
       "\n",
       "                status_date  \n",
       "0 2018-06-13 09:00:03+00:00  \n",
       "1 2018-06-13 11:20:03+00:00  \n",
       "2 2020-04-17 21:55:03+00:00  "
      ]
     },
     "execution_count": 10,
     "metadata": {},
     "output_type": "execute_result"
    }
   ],
   "source": [
    "\n",
    "df.drop(['Status'], axis=1, inplace=True)\n",
    "df.head(3)"
   ]
  },
  {
   "cell_type": "markdown",
   "id": "73af3d5c",
   "metadata": {},
   "source": [
    "### Addressing Nulls for 'Latitude' and 'Longitude' Columns"
   ]
  },
  {
   "cell_type": "code",
   "execution_count": 11,
   "id": "c774291a",
   "metadata": {},
   "outputs": [],
   "source": [
    "df.dropna(subset=['Latitude'],inplace=True)\n",
    "df.dropna(subset=['Longitude'],inplace=True)\n",
    "#Dropping null values in the above columns"
   ]
  },
  {
   "cell_type": "code",
   "execution_count": 12,
   "id": "9be34f04",
   "metadata": {},
   "outputs": [
    {
     "data": {
      "text/html": [
       "<div>\n",
       "<style scoped>\n",
       "    .dataframe tbody tr th:only-of-type {\n",
       "        vertical-align: middle;\n",
       "    }\n",
       "\n",
       "    .dataframe tbody tr th {\n",
       "        vertical-align: top;\n",
       "    }\n",
       "\n",
       "    .dataframe thead th {\n",
       "        text-align: right;\n",
       "    }\n",
       "</style>\n",
       "<table border=\"1\" class=\"dataframe\">\n",
       "  <thead>\n",
       "    <tr style=\"text-align: right;\">\n",
       "      <th></th>\n",
       "      <th>Latitude</th>\n",
       "      <th>Longitude</th>\n",
       "    </tr>\n",
       "  </thead>\n",
       "  <tbody>\n",
       "    <tr>\n",
       "      <th>count</th>\n",
       "      <td>249525.000000</td>\n",
       "      <td>249525.000000</td>\n",
       "    </tr>\n",
       "    <tr>\n",
       "      <th>mean</th>\n",
       "      <td>30.245476</td>\n",
       "      <td>-97.551618</td>\n",
       "    </tr>\n",
       "    <tr>\n",
       "      <th>std</th>\n",
       "      <td>1.308834</td>\n",
       "      <td>4.211477</td>\n",
       "    </tr>\n",
       "    <tr>\n",
       "      <th>min</th>\n",
       "      <td>0.000000</td>\n",
       "      <td>-98.816154</td>\n",
       "    </tr>\n",
       "    <tr>\n",
       "      <th>25%</th>\n",
       "      <td>30.231876</td>\n",
       "      <td>-97.776912</td>\n",
       "    </tr>\n",
       "    <tr>\n",
       "      <th>50%</th>\n",
       "      <td>30.294128</td>\n",
       "      <td>-97.734295</td>\n",
       "    </tr>\n",
       "    <tr>\n",
       "      <th>75%</th>\n",
       "      <td>30.373668</td>\n",
       "      <td>-97.687038</td>\n",
       "    </tr>\n",
       "    <tr>\n",
       "      <th>max</th>\n",
       "      <td>31.077333</td>\n",
       "      <td>0.000000</td>\n",
       "    </tr>\n",
       "  </tbody>\n",
       "</table>\n",
       "</div>"
      ],
      "text/plain": [
       "            Latitude      Longitude\n",
       "count  249525.000000  249525.000000\n",
       "mean       30.245476     -97.551618\n",
       "std         1.308834       4.211477\n",
       "min         0.000000     -98.816154\n",
       "25%        30.231876     -97.776912\n",
       "50%        30.294128     -97.734295\n",
       "75%        30.373668     -97.687038\n",
       "max        31.077333       0.000000"
      ]
     },
     "execution_count": 12,
     "metadata": {},
     "output_type": "execute_result"
    }
   ],
   "source": [
    "df.describe()"
   ]
  },
  {
   "cell_type": "markdown",
   "id": "eee057f6",
   "metadata": {},
   "source": [
    "### Addressing 'Latitude' and 'Longitude' Rows with 0.0 Values"
   ]
  },
  {
   "cell_type": "markdown",
   "id": "92cbfd60",
   "metadata": {},
   "source": [
    "Clearly we have more than NaN values to worry about as 0.0 is essentially a NaN."
   ]
  },
  {
   "cell_type": "code",
   "execution_count": 13,
   "id": "6b5db927",
   "metadata": {},
   "outputs": [
    {
     "name": "stdout",
     "output_type": "stream",
     "text": [
      "0.0\n",
      "0.0\n"
     ]
    }
   ],
   "source": [
    "print(df.Latitude.min())\n",
    "print(df.Longitude.max())"
   ]
  },
  {
   "cell_type": "code",
   "execution_count": 14,
   "id": "e8c73f9f",
   "metadata": {},
   "outputs": [],
   "source": [
    "df = df[df.Latitude != 0]\n",
    "df = df[df.Longitude != 0]"
   ]
  },
  {
   "cell_type": "code",
   "execution_count": 15,
   "id": "1edf91c1",
   "metadata": {},
   "outputs": [
    {
     "name": "stdout",
     "output_type": "stream",
     "text": [
      "30.003883\n",
      "-97.108986\n"
     ]
    }
   ],
   "source": [
    "print(df.Latitude.min())\n",
    "print(df.Longitude.max())"
   ]
  },
  {
   "cell_type": "markdown",
   "id": "872653a9",
   "metadata": {},
   "source": [
    "#### What is the shape now?\n",
    "We have now removed all NaN and 0 values from the Latitude and Longitude columns."
   ]
  },
  {
   "cell_type": "code",
   "execution_count": 16,
   "id": "0e6e766e",
   "metadata": {},
   "outputs": [
    {
     "data": {
      "text/plain": [
       "(249061, 8)"
      ]
     },
     "execution_count": 16,
     "metadata": {},
     "output_type": "execute_result"
    }
   ],
   "source": [
    "df.shape"
   ]
  },
  {
   "cell_type": "markdown",
   "id": "a69a1396",
   "metadata": {},
   "source": [
    "### Recheck the null values"
   ]
  },
  {
   "cell_type": "code",
   "execution_count": 17,
   "id": "0d18b402",
   "metadata": {},
   "outputs": [
    {
     "data": {
      "text/html": [
       "<div>\n",
       "<style scoped>\n",
       "    .dataframe tbody tr th:only-of-type {\n",
       "        vertical-align: middle;\n",
       "    }\n",
       "\n",
       "    .dataframe tbody tr th {\n",
       "        vertical-align: top;\n",
       "    }\n",
       "\n",
       "    .dataframe thead th {\n",
       "        text-align: right;\n",
       "    }\n",
       "</style>\n",
       "<table border=\"1\" class=\"dataframe\">\n",
       "  <thead>\n",
       "    <tr style=\"text-align: right;\">\n",
       "      <th></th>\n",
       "      <th>count</th>\n",
       "      <th>%</th>\n",
       "    </tr>\n",
       "  </thead>\n",
       "  <tbody>\n",
       "    <tr>\n",
       "      <th>tr_ID</th>\n",
       "      <td>0</td>\n",
       "      <td>0.0</td>\n",
       "    </tr>\n",
       "    <tr>\n",
       "      <th>published_date</th>\n",
       "      <td>0</td>\n",
       "      <td>0.0</td>\n",
       "    </tr>\n",
       "    <tr>\n",
       "      <th>issue_reported</th>\n",
       "      <td>0</td>\n",
       "      <td>0.0</td>\n",
       "    </tr>\n",
       "    <tr>\n",
       "      <th>Location</th>\n",
       "      <td>0</td>\n",
       "      <td>0.0</td>\n",
       "    </tr>\n",
       "    <tr>\n",
       "      <th>Latitude</th>\n",
       "      <td>0</td>\n",
       "      <td>0.0</td>\n",
       "    </tr>\n",
       "    <tr>\n",
       "      <th>Longitude</th>\n",
       "      <td>0</td>\n",
       "      <td>0.0</td>\n",
       "    </tr>\n",
       "    <tr>\n",
       "      <th>Address</th>\n",
       "      <td>0</td>\n",
       "      <td>0.0</td>\n",
       "    </tr>\n",
       "    <tr>\n",
       "      <th>status_date</th>\n",
       "      <td>0</td>\n",
       "      <td>0.0</td>\n",
       "    </tr>\n",
       "  </tbody>\n",
       "</table>\n",
       "</div>"
      ],
      "text/plain": [
       "                count    %\n",
       "tr_ID               0  0.0\n",
       "published_date      0  0.0\n",
       "issue_reported      0  0.0\n",
       "Location            0  0.0\n",
       "Latitude            0  0.0\n",
       "Longitude           0  0.0\n",
       "Address             0  0.0\n",
       "status_date         0  0.0"
      ]
     },
     "execution_count": 17,
     "metadata": {},
     "output_type": "execute_result"
    }
   ],
   "source": [
    "missing = pd.concat([df.isnull().sum(), 100 * df.isnull().mean()], axis=1)\n",
    "missing.columns=['count', '%']\n",
    "missing.sort_values(by='count')"
   ]
  },
  {
   "cell_type": "markdown",
   "id": "4eb4bfb6",
   "metadata": {},
   "source": [
    "### Dropping Traffic Report ID"
   ]
  },
  {
   "cell_type": "code",
   "execution_count": 18,
   "id": "7d438c74",
   "metadata": {},
   "outputs": [
    {
     "data": {
      "text/html": [
       "<div>\n",
       "<style scoped>\n",
       "    .dataframe tbody tr th:only-of-type {\n",
       "        vertical-align: middle;\n",
       "    }\n",
       "\n",
       "    .dataframe tbody tr th {\n",
       "        vertical-align: top;\n",
       "    }\n",
       "\n",
       "    .dataframe thead th {\n",
       "        text-align: right;\n",
       "    }\n",
       "</style>\n",
       "<table border=\"1\" class=\"dataframe\">\n",
       "  <thead>\n",
       "    <tr style=\"text-align: right;\">\n",
       "      <th></th>\n",
       "      <th>tr_ID</th>\n",
       "      <th>published_date</th>\n",
       "      <th>issue_reported</th>\n",
       "      <th>Location</th>\n",
       "      <th>Latitude</th>\n",
       "      <th>Longitude</th>\n",
       "      <th>Address</th>\n",
       "      <th>status_date</th>\n",
       "    </tr>\n",
       "  </thead>\n",
       "  <tbody>\n",
       "  </tbody>\n",
       "</table>\n",
       "</div>"
      ],
      "text/plain": [
       "Empty DataFrame\n",
       "Columns: [tr_ID, published_date, issue_reported, Location, Latitude, Longitude, Address, status_date]\n",
       "Index: []"
      ]
     },
     "execution_count": 18,
     "metadata": {},
     "output_type": "execute_result"
    }
   ],
   "source": [
    "duplicate = df[df.duplicated('tr_ID')]\n",
    "duplicate"
   ]
  },
  {
   "cell_type": "markdown",
   "id": "bfb8deca",
   "metadata": {},
   "source": [
    "This column has no pattern or purpose for prediction."
   ]
  },
  {
   "cell_type": "code",
   "execution_count": 19,
   "id": "a3bb0d76",
   "metadata": {},
   "outputs": [],
   "source": [
    "df.drop(['tr_ID'], axis=1, inplace=True)"
   ]
  },
  {
   "cell_type": "code",
   "execution_count": 20,
   "id": "7f9a111c",
   "metadata": {},
   "outputs": [
    {
     "data": {
      "text/html": [
       "<div>\n",
       "<style scoped>\n",
       "    .dataframe tbody tr th:only-of-type {\n",
       "        vertical-align: middle;\n",
       "    }\n",
       "\n",
       "    .dataframe tbody tr th {\n",
       "        vertical-align: top;\n",
       "    }\n",
       "\n",
       "    .dataframe thead th {\n",
       "        text-align: right;\n",
       "    }\n",
       "</style>\n",
       "<table border=\"1\" class=\"dataframe\">\n",
       "  <thead>\n",
       "    <tr style=\"text-align: right;\">\n",
       "      <th></th>\n",
       "      <th>published_date</th>\n",
       "      <th>issue_reported</th>\n",
       "      <th>Location</th>\n",
       "      <th>Latitude</th>\n",
       "      <th>Longitude</th>\n",
       "      <th>Address</th>\n",
       "      <th>status_date</th>\n",
       "    </tr>\n",
       "  </thead>\n",
       "  <tbody>\n",
       "    <tr>\n",
       "      <th>0</th>\n",
       "      <td>2018-06-13 06:35:59+00:00</td>\n",
       "      <td>Crash Service</td>\n",
       "      <td>(30.283797,-97.741906)</td>\n",
       "      <td>30.283797</td>\n",
       "      <td>-97.741906</td>\n",
       "      <td>W 21ST ST &amp; GUADALUPE ST</td>\n",
       "      <td>2018-06-13 09:00:03+00:00</td>\n",
       "    </tr>\n",
       "    <tr>\n",
       "      <th>1</th>\n",
       "      <td>2018-06-13 10:15:36+00:00</td>\n",
       "      <td>Traffic Hazard</td>\n",
       "      <td>(30.339593,-97.700963)</td>\n",
       "      <td>30.339593</td>\n",
       "      <td>-97.700963</td>\n",
       "      <td>400-717 E ANDERSON LN EB</td>\n",
       "      <td>2018-06-13 11:20:03+00:00</td>\n",
       "    </tr>\n",
       "    <tr>\n",
       "      <th>2</th>\n",
       "      <td>2020-04-17 21:25:03+00:00</td>\n",
       "      <td>Crash Urgent</td>\n",
       "      <td>(30.329455,-97.638105)</td>\n",
       "      <td>30.329455</td>\n",
       "      <td>-97.638105</td>\n",
       "      <td>E US 290 HWY SVRD EB &amp; EASTERN HEIGHTS BLVD</td>\n",
       "      <td>2020-04-17 21:55:03+00:00</td>\n",
       "    </tr>\n",
       "    <tr>\n",
       "      <th>3</th>\n",
       "      <td>2020-04-17 21:40:52+00:00</td>\n",
       "      <td>Traffic Hazard</td>\n",
       "      <td>(30.202806,-97.760701)</td>\n",
       "      <td>30.202806</td>\n",
       "      <td>-97.760701</td>\n",
       "      <td>5300-blk S Ih 35 Sb</td>\n",
       "      <td>2020-04-17 21:55:03+00:00</td>\n",
       "    </tr>\n",
       "    <tr>\n",
       "      <th>4</th>\n",
       "      <td>2020-04-17 21:00:55+00:00</td>\n",
       "      <td>Crash Urgent</td>\n",
       "      <td>(30.184265,-97.687339)</td>\n",
       "      <td>30.184265</td>\n",
       "      <td>-97.687339</td>\n",
       "      <td>4500-4720 S Us 183 Hwy Sb</td>\n",
       "      <td>2020-04-17 23:30:04+00:00</td>\n",
       "    </tr>\n",
       "  </tbody>\n",
       "</table>\n",
       "</div>"
      ],
      "text/plain": [
       "             published_date  issue_reported                Location  \\\n",
       "0 2018-06-13 06:35:59+00:00   Crash Service  (30.283797,-97.741906)   \n",
       "1 2018-06-13 10:15:36+00:00  Traffic Hazard  (30.339593,-97.700963)   \n",
       "2 2020-04-17 21:25:03+00:00    Crash Urgent  (30.329455,-97.638105)   \n",
       "3 2020-04-17 21:40:52+00:00  Traffic Hazard  (30.202806,-97.760701)   \n",
       "4 2020-04-17 21:00:55+00:00    Crash Urgent  (30.184265,-97.687339)   \n",
       "\n",
       "    Latitude  Longitude                                      Address  \\\n",
       "0  30.283797 -97.741906                     W 21ST ST & GUADALUPE ST   \n",
       "1  30.339593 -97.700963                     400-717 E ANDERSON LN EB   \n",
       "2  30.329455 -97.638105  E US 290 HWY SVRD EB & EASTERN HEIGHTS BLVD   \n",
       "3  30.202806 -97.760701                          5300-blk S Ih 35 Sb   \n",
       "4  30.184265 -97.687339                    4500-4720 S Us 183 Hwy Sb   \n",
       "\n",
       "                status_date  \n",
       "0 2018-06-13 09:00:03+00:00  \n",
       "1 2018-06-13 11:20:03+00:00  \n",
       "2 2020-04-17 21:55:03+00:00  \n",
       "3 2020-04-17 21:55:03+00:00  \n",
       "4 2020-04-17 23:30:04+00:00  "
      ]
     },
     "execution_count": 20,
     "metadata": {},
     "output_type": "execute_result"
    }
   ],
   "source": [
    "df.head()"
   ]
  },
  {
   "cell_type": "code",
   "execution_count": 21,
   "id": "00446097",
   "metadata": {},
   "outputs": [],
   "source": [
    "df.to_csv('traffic_data_cleaned.csv') "
   ]
  },
  {
   "cell_type": "code",
   "execution_count": null,
   "id": "5d7ab15c",
   "metadata": {},
   "outputs": [],
   "source": []
  }
 ],
 "metadata": {
  "kernelspec": {
   "display_name": "Python 3 (ipykernel)",
   "language": "python",
   "name": "python3"
  },
  "language_info": {
   "codemirror_mode": {
    "name": "ipython",
    "version": 3
   },
   "file_extension": ".py",
   "mimetype": "text/x-python",
   "name": "python",
   "nbconvert_exporter": "python",
   "pygments_lexer": "ipython3",
   "version": "3.8.11"
  }
 },
 "nbformat": 4,
 "nbformat_minor": 5
}
