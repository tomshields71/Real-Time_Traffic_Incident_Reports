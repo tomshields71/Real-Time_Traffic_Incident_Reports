{
 "cells": [
  {
   "cell_type": "markdown",
   "id": "03c77d5e",
   "metadata": {},
   "source": [
    "In this notebook I will try and predict what kind of an incident occured based on where it took place and how long it took to resolve. \n",
    "\n",
    "Target: issue_reported(y)\n",
    "Input vairables: Latitude, Longitude, timespan_min(x)\n"
   ]
  },
  {
   "cell_type": "code",
   "execution_count": 48,
   "id": "62e38da1",
   "metadata": {},
   "outputs": [],
   "source": [
    "import pandas as pd\n",
    "import numpy as np\n",
    "from datetime import datetime\n",
    "import matplotlib.pyplot as plt\n",
    "import seaborn as sns\n",
    "from sklearn.preprocessing import LabelEncoder\n",
    "from sklearn.model_selection import train_test_split\n",
    "\n",
    "\n"
   ]
  },
  {
   "cell_type": "code",
   "execution_count": 49,
   "id": "59bfd444",
   "metadata": {},
   "outputs": [],
   "source": [
    "file = 'traffic_data_features.csv'"
   ]
  },
  {
   "cell_type": "code",
   "execution_count": 50,
   "id": "ca63555d",
   "metadata": {},
   "outputs": [
    {
     "data": {
      "text/html": [
       "<div>\n",
       "<style scoped>\n",
       "    .dataframe tbody tr th:only-of-type {\n",
       "        vertical-align: middle;\n",
       "    }\n",
       "\n",
       "    .dataframe tbody tr th {\n",
       "        vertical-align: top;\n",
       "    }\n",
       "\n",
       "    .dataframe thead th {\n",
       "        text-align: right;\n",
       "    }\n",
       "</style>\n",
       "<table border=\"1\" class=\"dataframe\">\n",
       "  <thead>\n",
       "    <tr style=\"text-align: right;\">\n",
       "      <th></th>\n",
       "      <th>issue_reported</th>\n",
       "      <th>Latitude</th>\n",
       "      <th>Longitude</th>\n",
       "      <th>day</th>\n",
       "      <th>timespan_min</th>\n",
       "      <th>hour</th>\n",
       "      <th>month</th>\n",
       "    </tr>\n",
       "  </thead>\n",
       "  <tbody>\n",
       "    <tr>\n",
       "      <th>0</th>\n",
       "      <td>Crash Service</td>\n",
       "      <td>30.283797</td>\n",
       "      <td>-97.741906</td>\n",
       "      <td>2</td>\n",
       "      <td>144.066667</td>\n",
       "      <td>6</td>\n",
       "      <td>6</td>\n",
       "    </tr>\n",
       "    <tr>\n",
       "      <th>1</th>\n",
       "      <td>Traffic Hazard</td>\n",
       "      <td>30.339593</td>\n",
       "      <td>-97.700963</td>\n",
       "      <td>2</td>\n",
       "      <td>64.450000</td>\n",
       "      <td>10</td>\n",
       "      <td>6</td>\n",
       "    </tr>\n",
       "    <tr>\n",
       "      <th>2</th>\n",
       "      <td>Crash Service</td>\n",
       "      <td>30.329455</td>\n",
       "      <td>-97.638105</td>\n",
       "      <td>4</td>\n",
       "      <td>30.000000</td>\n",
       "      <td>21</td>\n",
       "      <td>4</td>\n",
       "    </tr>\n",
       "    <tr>\n",
       "      <th>3</th>\n",
       "      <td>Traffic Hazard</td>\n",
       "      <td>30.202806</td>\n",
       "      <td>-97.760701</td>\n",
       "      <td>4</td>\n",
       "      <td>14.183333</td>\n",
       "      <td>21</td>\n",
       "      <td>4</td>\n",
       "    </tr>\n",
       "    <tr>\n",
       "      <th>4</th>\n",
       "      <td>Crash Service</td>\n",
       "      <td>30.184265</td>\n",
       "      <td>-97.687339</td>\n",
       "      <td>4</td>\n",
       "      <td>149.150000</td>\n",
       "      <td>21</td>\n",
       "      <td>4</td>\n",
       "    </tr>\n",
       "  </tbody>\n",
       "</table>\n",
       "</div>"
      ],
      "text/plain": [
       "   issue_reported   Latitude  Longitude  day  timespan_min  hour  month\n",
       "0   Crash Service  30.283797 -97.741906    2    144.066667     6      6\n",
       "1  Traffic Hazard  30.339593 -97.700963    2     64.450000    10      6\n",
       "2   Crash Service  30.329455 -97.638105    4     30.000000    21      4\n",
       "3  Traffic Hazard  30.202806 -97.760701    4     14.183333    21      4\n",
       "4   Crash Service  30.184265 -97.687339    4    149.150000    21      4"
      ]
     },
     "execution_count": 50,
     "metadata": {},
     "output_type": "execute_result"
    }
   ],
   "source": [
    "df = pd.read_csv(file, index_col=False)\n",
    "df.head()"
   ]
  },
  {
   "cell_type": "code",
   "execution_count": 51,
   "id": "81aaa303",
   "metadata": {},
   "outputs": [
    {
     "data": {
      "text/html": [
       "<div>\n",
       "<style scoped>\n",
       "    .dataframe tbody tr th:only-of-type {\n",
       "        vertical-align: middle;\n",
       "    }\n",
       "\n",
       "    .dataframe tbody tr th {\n",
       "        vertical-align: top;\n",
       "    }\n",
       "\n",
       "    .dataframe thead th {\n",
       "        text-align: right;\n",
       "    }\n",
       "</style>\n",
       "<table border=\"1\" class=\"dataframe\">\n",
       "  <thead>\n",
       "    <tr style=\"text-align: right;\">\n",
       "      <th></th>\n",
       "      <th>Latitude</th>\n",
       "      <th>Longitude</th>\n",
       "      <th>day</th>\n",
       "      <th>timespan_min</th>\n",
       "      <th>hour</th>\n",
       "      <th>month</th>\n",
       "    </tr>\n",
       "  </thead>\n",
       "  <tbody>\n",
       "    <tr>\n",
       "      <th>count</th>\n",
       "      <td>225445.000000</td>\n",
       "      <td>225445.000000</td>\n",
       "      <td>225445.000000</td>\n",
       "      <td>225445.000000</td>\n",
       "      <td>225445.000000</td>\n",
       "      <td>225445.000000</td>\n",
       "    </tr>\n",
       "    <tr>\n",
       "      <th>mean</th>\n",
       "      <td>30.301440</td>\n",
       "      <td>-97.733156</td>\n",
       "      <td>2.906261</td>\n",
       "      <td>49.665617</td>\n",
       "      <td>13.693637</td>\n",
       "      <td>6.980594</td>\n",
       "    </tr>\n",
       "    <tr>\n",
       "      <th>std</th>\n",
       "      <td>0.094080</td>\n",
       "      <td>0.087511</td>\n",
       "      <td>1.935056</td>\n",
       "      <td>39.684226</td>\n",
       "      <td>7.140035</td>\n",
       "      <td>3.388540</td>\n",
       "    </tr>\n",
       "    <tr>\n",
       "      <th>min</th>\n",
       "      <td>30.003883</td>\n",
       "      <td>-98.226709</td>\n",
       "      <td>0.000000</td>\n",
       "      <td>0.333333</td>\n",
       "      <td>0.000000</td>\n",
       "      <td>1.000000</td>\n",
       "    </tr>\n",
       "    <tr>\n",
       "      <th>25%</th>\n",
       "      <td>30.231715</td>\n",
       "      <td>-97.777183</td>\n",
       "      <td>1.000000</td>\n",
       "      <td>19.500000</td>\n",
       "      <td>9.000000</td>\n",
       "      <td>4.000000</td>\n",
       "    </tr>\n",
       "    <tr>\n",
       "      <th>50%</th>\n",
       "      <td>30.293602</td>\n",
       "      <td>-97.734450</td>\n",
       "      <td>3.000000</td>\n",
       "      <td>37.500000</td>\n",
       "      <td>15.000000</td>\n",
       "      <td>7.000000</td>\n",
       "    </tr>\n",
       "    <tr>\n",
       "      <th>75%</th>\n",
       "      <td>30.373691</td>\n",
       "      <td>-97.686922</td>\n",
       "      <td>5.000000</td>\n",
       "      <td>68.516667</td>\n",
       "      <td>20.000000</td>\n",
       "      <td>10.000000</td>\n",
       "    </tr>\n",
       "    <tr>\n",
       "      <th>max</th>\n",
       "      <td>30.798642</td>\n",
       "      <td>-97.293320</td>\n",
       "      <td>6.000000</td>\n",
       "      <td>200.000000</td>\n",
       "      <td>23.000000</td>\n",
       "      <td>12.000000</td>\n",
       "    </tr>\n",
       "  </tbody>\n",
       "</table>\n",
       "</div>"
      ],
      "text/plain": [
       "            Latitude      Longitude            day   timespan_min  \\\n",
       "count  225445.000000  225445.000000  225445.000000  225445.000000   \n",
       "mean       30.301440     -97.733156       2.906261      49.665617   \n",
       "std         0.094080       0.087511       1.935056      39.684226   \n",
       "min        30.003883     -98.226709       0.000000       0.333333   \n",
       "25%        30.231715     -97.777183       1.000000      19.500000   \n",
       "50%        30.293602     -97.734450       3.000000      37.500000   \n",
       "75%        30.373691     -97.686922       5.000000      68.516667   \n",
       "max        30.798642     -97.293320       6.000000     200.000000   \n",
       "\n",
       "                hour          month  \n",
       "count  225445.000000  225445.000000  \n",
       "mean       13.693637       6.980594  \n",
       "std         7.140035       3.388540  \n",
       "min         0.000000       1.000000  \n",
       "25%         9.000000       4.000000  \n",
       "50%        15.000000       7.000000  \n",
       "75%        20.000000      10.000000  \n",
       "max        23.000000      12.000000  "
      ]
     },
     "execution_count": 51,
     "metadata": {},
     "output_type": "execute_result"
    }
   ],
   "source": [
    "df.describe()"
   ]
  },
  {
   "cell_type": "code",
   "execution_count": 52,
   "id": "6ebd5676",
   "metadata": {},
   "outputs": [
    {
     "name": "stdout",
     "output_type": "stream",
     "text": [
      "<class 'pandas.core.frame.DataFrame'>\n",
      "RangeIndex: 225445 entries, 0 to 225444\n",
      "Data columns (total 7 columns):\n",
      " #   Column          Non-Null Count   Dtype  \n",
      "---  ------          --------------   -----  \n",
      " 0   issue_reported  225445 non-null  object \n",
      " 1   Latitude        225445 non-null  float64\n",
      " 2   Longitude       225445 non-null  float64\n",
      " 3   day             225445 non-null  int64  \n",
      " 4   timespan_min    225445 non-null  float64\n",
      " 5   hour            225445 non-null  int64  \n",
      " 6   month           225445 non-null  int64  \n",
      "dtypes: float64(3), int64(3), object(1)\n",
      "memory usage: 12.0+ MB\n"
     ]
    }
   ],
   "source": [
    "df.info()"
   ]
  },
  {
   "cell_type": "code",
   "execution_count": 53,
   "id": "2a36eedc",
   "metadata": {},
   "outputs": [
    {
     "data": {
      "text/html": [
       "<div>\n",
       "<style scoped>\n",
       "    .dataframe tbody tr th:only-of-type {\n",
       "        vertical-align: middle;\n",
       "    }\n",
       "\n",
       "    .dataframe tbody tr th {\n",
       "        vertical-align: top;\n",
       "    }\n",
       "\n",
       "    .dataframe thead th {\n",
       "        text-align: right;\n",
       "    }\n",
       "</style>\n",
       "<table border=\"1\" class=\"dataframe\">\n",
       "  <thead>\n",
       "    <tr style=\"text-align: right;\">\n",
       "      <th></th>\n",
       "      <th>issue_reported</th>\n",
       "      <th>Latitude</th>\n",
       "      <th>Longitude</th>\n",
       "      <th>day</th>\n",
       "      <th>timespan_min</th>\n",
       "      <th>hour</th>\n",
       "      <th>month</th>\n",
       "    </tr>\n",
       "  </thead>\n",
       "  <tbody>\n",
       "    <tr>\n",
       "      <th>0</th>\n",
       "      <td>2</td>\n",
       "      <td>30.283797</td>\n",
       "      <td>-97.741906</td>\n",
       "      <td>2</td>\n",
       "      <td>144.066667</td>\n",
       "      <td>6</td>\n",
       "      <td>6</td>\n",
       "    </tr>\n",
       "    <tr>\n",
       "      <th>1</th>\n",
       "      <td>5</td>\n",
       "      <td>30.339593</td>\n",
       "      <td>-97.700963</td>\n",
       "      <td>2</td>\n",
       "      <td>64.450000</td>\n",
       "      <td>10</td>\n",
       "      <td>6</td>\n",
       "    </tr>\n",
       "    <tr>\n",
       "      <th>2</th>\n",
       "      <td>2</td>\n",
       "      <td>30.329455</td>\n",
       "      <td>-97.638105</td>\n",
       "      <td>4</td>\n",
       "      <td>30.000000</td>\n",
       "      <td>21</td>\n",
       "      <td>4</td>\n",
       "    </tr>\n",
       "    <tr>\n",
       "      <th>3</th>\n",
       "      <td>5</td>\n",
       "      <td>30.202806</td>\n",
       "      <td>-97.760701</td>\n",
       "      <td>4</td>\n",
       "      <td>14.183333</td>\n",
       "      <td>21</td>\n",
       "      <td>4</td>\n",
       "    </tr>\n",
       "    <tr>\n",
       "      <th>4</th>\n",
       "      <td>2</td>\n",
       "      <td>30.184265</td>\n",
       "      <td>-97.687339</td>\n",
       "      <td>4</td>\n",
       "      <td>149.150000</td>\n",
       "      <td>21</td>\n",
       "      <td>4</td>\n",
       "    </tr>\n",
       "  </tbody>\n",
       "</table>\n",
       "</div>"
      ],
      "text/plain": [
       "   issue_reported   Latitude  Longitude  day  timespan_min  hour  month\n",
       "0               2  30.283797 -97.741906    2    144.066667     6      6\n",
       "1               5  30.339593 -97.700963    2     64.450000    10      6\n",
       "2               2  30.329455 -97.638105    4     30.000000    21      4\n",
       "3               5  30.202806 -97.760701    4     14.183333    21      4\n",
       "4               2  30.184265 -97.687339    4    149.150000    21      4"
      ]
     },
     "execution_count": 53,
     "metadata": {},
     "output_type": "execute_result"
    }
   ],
   "source": [
    "le = LabelEncoder()\n",
    "df['issue_reported']=le.fit_transform(df['issue_reported'])\n",
    "df.head()"
   ]
  },
  {
   "cell_type": "code",
   "execution_count": 54,
   "id": "11da7528",
   "metadata": {},
   "outputs": [
    {
     "name": "stdout",
     "output_type": "stream",
     "text": [
      "<class 'pandas.core.frame.DataFrame'>\n",
      "RangeIndex: 225445 entries, 0 to 225444\n",
      "Data columns (total 7 columns):\n",
      " #   Column          Non-Null Count   Dtype  \n",
      "---  ------          --------------   -----  \n",
      " 0   issue_reported  225445 non-null  int64  \n",
      " 1   Latitude        225445 non-null  float64\n",
      " 2   Longitude       225445 non-null  float64\n",
      " 3   day             225445 non-null  int64  \n",
      " 4   timespan_min    225445 non-null  float64\n",
      " 5   hour            225445 non-null  int64  \n",
      " 6   month           225445 non-null  int64  \n",
      "dtypes: float64(3), int64(4)\n",
      "memory usage: 12.0 MB\n"
     ]
    }
   ],
   "source": [
    "df.info()"
   ]
  },
  {
   "cell_type": "code",
   "execution_count": 55,
   "id": "912c9697",
   "metadata": {},
   "outputs": [
    {
     "data": {
      "text/plain": [
       "array([2, 5, 1, 4, 0, 3, 6])"
      ]
     },
     "execution_count": 55,
     "metadata": {},
     "output_type": "execute_result"
    }
   ],
   "source": [
    "df['issue_reported'].unique()"
   ]
  },
  {
   "cell_type": "code",
   "execution_count": 56,
   "id": "edfeade8",
   "metadata": {},
   "outputs": [
    {
     "data": {
      "text/plain": [
       "5    92530\n",
       "2    85024\n",
       "0    25467\n",
       "4    10818\n",
       "3     5567\n",
       "1     5286\n",
       "6      753\n",
       "Name: issue_reported, dtype: int64"
      ]
     },
     "execution_count": 56,
     "metadata": {},
     "output_type": "execute_result"
    }
   ],
   "source": [
    "df['issue_reported'].value_counts()"
   ]
  },
  {
   "cell_type": "markdown",
   "id": "26ade778",
   "metadata": {},
   "source": [
    "Location definitions\n",
    "vnw = The very northwest edge of the city that is west of I35 and north of 183\n",
    "vcw = West of MOPAC but south of 183 and north of 290\n",
    "vsw = The very southwest edge of the city that is west of I35 and south of Ben White\n",
    "\n",
    "cnw = Central northwest of the city, west of I35, south of 183, east of MOPAC, north of MLK\n",
    "cw = Central west of the city, west of I35, south of MLK, east of MOPAC, north of the river\n",
    "csw = Central southwest of the city, west of I35, south of the river, east of MOPAC, north of Ben White\n",
    "\n",
    "cne = Central northeast of the city, east of I35, South of 183, east of 183 and north of MLK\n",
    "ce = Central east of the city, east of I35, south of MLK, east of 183, north of the river\n",
    "cse = Central southeast of the city, east of I35, south of the river, east of 183, north of Ben White\n",
    "\n",
    "vne = The very northeast edge of the city that is east of I35, east and north of 183\n",
    "vce = The very east of the city, east 183, south of 290(east), north of Ben White/71\n",
    "vse = The very southeast of the city, east of I35, south of Ben White/71\n",
    "\n",
    "other = a coordinate not within a field"
   ]
  },
  {
   "cell_type": "code",
   "execution_count": 58,
   "id": "2381794c",
   "metadata": {},
   "outputs": [],
   "source": [
    "def partOfCity(lat, lon):\n",
    "    if (lat < 30.21638 and lon < -97.75142):\n",
    "        return \"vsw\"\n",
    "    elif (lat < 30.21638 and lon > -97.75142):\n",
    "        return \"vse\"\n",
    "    elif (lat > 30.33926 and lon < -97.70008):\n",
    "        return \"vnw\"\n",
    "    elif (lat > 30.33926 and lon > -97.70008):\n",
    "        return \"vne\"\n",
    "    elif (lat > 30.21638 and lat < 30.33926 and lon < -97.75816):\n",
    "        return \"vcw\"\n",
    "    elif (lat > 30.21638 and lat < 30.33926 and lon > -97.66523):\n",
    "        return \"vce\"\n",
    "    elif (lat < 30.25108 and lat < 30.21638 and lon < -97.72575 and lon > -97.75816):\n",
    "        return \"csw\"\n",
    "    elif (lat < 30.25108 and lat < 30.21638 and lon > -97.72575 and lon < -97.66523):\n",
    "        return \"cse\"\n",
    "    elif (lat < 30.33926 and lat > 30.27887 and lon < -97.72575 and lon > -97.75816):\n",
    "        return \"cne\"\n",
    "    elif (lat < 30.33926 and lat > 30.27887 and lon < -97.72575 and lon > -97.75816):\n",
    "        return \"cnw\"\n",
    "    elif(lat > 30.25108 and lat < 30.27887 and lon > -97.72575 and lon < -97.66523):\n",
    "        return \"ce\"\n",
    "    elif(lat > 30.25108 and lat < 30.27887 and lon < -97.72575 and lon > -97.75816):\n",
    "        return \"cw\"\n",
    "    else:\n",
    "        return \"other\""
   ]
  },
  {
   "cell_type": "code",
   "execution_count": 65,
   "id": "e339e7b2",
   "metadata": {},
   "outputs": [],
   "source": []
  },
  {
   "cell_type": "code",
   "execution_count": null,
   "id": "ac7a89e7",
   "metadata": {},
   "outputs": [],
   "source": []
  },
  {
   "cell_type": "code",
   "execution_count": null,
   "id": "f0c834a4",
   "metadata": {},
   "outputs": [],
   "source": []
  },
  {
   "cell_type": "code",
   "execution_count": null,
   "id": "4469c49d",
   "metadata": {},
   "outputs": [],
   "source": []
  }
 ],
 "metadata": {
  "kernelspec": {
   "display_name": "Python 3 (ipykernel)",
   "language": "python",
   "name": "python3"
  },
  "language_info": {
   "codemirror_mode": {
    "name": "ipython",
    "version": 3
   },
   "file_extension": ".py",
   "mimetype": "text/x-python",
   "name": "python",
   "nbconvert_exporter": "python",
   "pygments_lexer": "ipython3",
   "version": "3.8.11"
  }
 },
 "nbformat": 4,
 "nbformat_minor": 5
}
