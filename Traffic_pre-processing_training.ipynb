{
 "cells": [
  {
   "cell_type": "markdown",
   "id": "03c77d5e",
   "metadata": {},
   "source": [
    "In this notebook I will try and predict what kind of an incident occured based on where it took place and how long it took to resolve. \n",
    "\n",
    "Target: issue_reported(y)\n",
    "Input vairables: Latitude, Longitude, timespan_min(x)\n"
   ]
  },
  {
   "cell_type": "code",
   "execution_count": 240,
   "id": "62e38da1",
   "metadata": {},
   "outputs": [],
   "source": [
    "import pandas as pd\n",
    "import numpy as np\n",
    "from datetime import datetime\n",
    "import matplotlib.pyplot as plt\n",
    "import seaborn as sns\n",
    "from sklearn.preprocessing import LabelEncoder\n",
    "from sklearn.model_selection import train_test_split\n",
    "from sklearn.preprocessing import StandardScaler\n",
    "from sklearn.linear_model import LinearRegression\n",
    "from sklearn import svm"
   ]
  },
  {
   "cell_type": "code",
   "execution_count": 241,
   "id": "59bfd444",
   "metadata": {},
   "outputs": [],
   "source": [
    "file = 'traffic_data_features.csv'"
   ]
  },
  {
   "cell_type": "code",
   "execution_count": 242,
   "id": "ca63555d",
   "metadata": {},
   "outputs": [
    {
     "data": {
      "text/html": [
       "<div>\n",
       "<style scoped>\n",
       "    .dataframe tbody tr th:only-of-type {\n",
       "        vertical-align: middle;\n",
       "    }\n",
       "\n",
       "    .dataframe tbody tr th {\n",
       "        vertical-align: top;\n",
       "    }\n",
       "\n",
       "    .dataframe thead th {\n",
       "        text-align: right;\n",
       "    }\n",
       "</style>\n",
       "<table border=\"1\" class=\"dataframe\">\n",
       "  <thead>\n",
       "    <tr style=\"text-align: right;\">\n",
       "      <th></th>\n",
       "      <th>issue_reported</th>\n",
       "      <th>Latitude</th>\n",
       "      <th>Longitude</th>\n",
       "      <th>day</th>\n",
       "      <th>timespan_min</th>\n",
       "      <th>hour</th>\n",
       "      <th>month</th>\n",
       "    </tr>\n",
       "  </thead>\n",
       "  <tbody>\n",
       "    <tr>\n",
       "      <th>0</th>\n",
       "      <td>Crash Service</td>\n",
       "      <td>30.283797</td>\n",
       "      <td>-97.741906</td>\n",
       "      <td>2</td>\n",
       "      <td>144.066667</td>\n",
       "      <td>6</td>\n",
       "      <td>6</td>\n",
       "    </tr>\n",
       "    <tr>\n",
       "      <th>1</th>\n",
       "      <td>Traffic Hazard</td>\n",
       "      <td>30.339593</td>\n",
       "      <td>-97.700963</td>\n",
       "      <td>2</td>\n",
       "      <td>64.450000</td>\n",
       "      <td>10</td>\n",
       "      <td>6</td>\n",
       "    </tr>\n",
       "    <tr>\n",
       "      <th>2</th>\n",
       "      <td>Crash Service</td>\n",
       "      <td>30.329455</td>\n",
       "      <td>-97.638105</td>\n",
       "      <td>4</td>\n",
       "      <td>30.000000</td>\n",
       "      <td>21</td>\n",
       "      <td>4</td>\n",
       "    </tr>\n",
       "    <tr>\n",
       "      <th>3</th>\n",
       "      <td>Traffic Hazard</td>\n",
       "      <td>30.202806</td>\n",
       "      <td>-97.760701</td>\n",
       "      <td>4</td>\n",
       "      <td>14.183333</td>\n",
       "      <td>21</td>\n",
       "      <td>4</td>\n",
       "    </tr>\n",
       "    <tr>\n",
       "      <th>4</th>\n",
       "      <td>Crash Service</td>\n",
       "      <td>30.184265</td>\n",
       "      <td>-97.687339</td>\n",
       "      <td>4</td>\n",
       "      <td>149.150000</td>\n",
       "      <td>21</td>\n",
       "      <td>4</td>\n",
       "    </tr>\n",
       "  </tbody>\n",
       "</table>\n",
       "</div>"
      ],
      "text/plain": [
       "   issue_reported   Latitude  Longitude  day  timespan_min  hour  month\n",
       "0   Crash Service  30.283797 -97.741906    2    144.066667     6      6\n",
       "1  Traffic Hazard  30.339593 -97.700963    2     64.450000    10      6\n",
       "2   Crash Service  30.329455 -97.638105    4     30.000000    21      4\n",
       "3  Traffic Hazard  30.202806 -97.760701    4     14.183333    21      4\n",
       "4   Crash Service  30.184265 -97.687339    4    149.150000    21      4"
      ]
     },
     "execution_count": 242,
     "metadata": {},
     "output_type": "execute_result"
    }
   ],
   "source": [
    "df = pd.read_csv(file, index_col=False)\n",
    "df.head()"
   ]
  },
  {
   "cell_type": "code",
   "execution_count": 243,
   "id": "81aaa303",
   "metadata": {},
   "outputs": [
    {
     "data": {
      "text/html": [
       "<div>\n",
       "<style scoped>\n",
       "    .dataframe tbody tr th:only-of-type {\n",
       "        vertical-align: middle;\n",
       "    }\n",
       "\n",
       "    .dataframe tbody tr th {\n",
       "        vertical-align: top;\n",
       "    }\n",
       "\n",
       "    .dataframe thead th {\n",
       "        text-align: right;\n",
       "    }\n",
       "</style>\n",
       "<table border=\"1\" class=\"dataframe\">\n",
       "  <thead>\n",
       "    <tr style=\"text-align: right;\">\n",
       "      <th></th>\n",
       "      <th>Latitude</th>\n",
       "      <th>Longitude</th>\n",
       "      <th>day</th>\n",
       "      <th>timespan_min</th>\n",
       "      <th>hour</th>\n",
       "      <th>month</th>\n",
       "    </tr>\n",
       "  </thead>\n",
       "  <tbody>\n",
       "    <tr>\n",
       "      <th>count</th>\n",
       "      <td>225445.000000</td>\n",
       "      <td>225445.000000</td>\n",
       "      <td>225445.000000</td>\n",
       "      <td>225445.000000</td>\n",
       "      <td>225445.000000</td>\n",
       "      <td>225445.000000</td>\n",
       "    </tr>\n",
       "    <tr>\n",
       "      <th>mean</th>\n",
       "      <td>30.301440</td>\n",
       "      <td>-97.733156</td>\n",
       "      <td>2.906261</td>\n",
       "      <td>49.665617</td>\n",
       "      <td>13.693637</td>\n",
       "      <td>6.980594</td>\n",
       "    </tr>\n",
       "    <tr>\n",
       "      <th>std</th>\n",
       "      <td>0.094080</td>\n",
       "      <td>0.087511</td>\n",
       "      <td>1.935056</td>\n",
       "      <td>39.684226</td>\n",
       "      <td>7.140035</td>\n",
       "      <td>3.388540</td>\n",
       "    </tr>\n",
       "    <tr>\n",
       "      <th>min</th>\n",
       "      <td>30.003883</td>\n",
       "      <td>-98.226709</td>\n",
       "      <td>0.000000</td>\n",
       "      <td>0.333333</td>\n",
       "      <td>0.000000</td>\n",
       "      <td>1.000000</td>\n",
       "    </tr>\n",
       "    <tr>\n",
       "      <th>25%</th>\n",
       "      <td>30.231715</td>\n",
       "      <td>-97.777183</td>\n",
       "      <td>1.000000</td>\n",
       "      <td>19.500000</td>\n",
       "      <td>9.000000</td>\n",
       "      <td>4.000000</td>\n",
       "    </tr>\n",
       "    <tr>\n",
       "      <th>50%</th>\n",
       "      <td>30.293602</td>\n",
       "      <td>-97.734450</td>\n",
       "      <td>3.000000</td>\n",
       "      <td>37.500000</td>\n",
       "      <td>15.000000</td>\n",
       "      <td>7.000000</td>\n",
       "    </tr>\n",
       "    <tr>\n",
       "      <th>75%</th>\n",
       "      <td>30.373691</td>\n",
       "      <td>-97.686922</td>\n",
       "      <td>5.000000</td>\n",
       "      <td>68.516667</td>\n",
       "      <td>20.000000</td>\n",
       "      <td>10.000000</td>\n",
       "    </tr>\n",
       "    <tr>\n",
       "      <th>max</th>\n",
       "      <td>30.798642</td>\n",
       "      <td>-97.293320</td>\n",
       "      <td>6.000000</td>\n",
       "      <td>200.000000</td>\n",
       "      <td>23.000000</td>\n",
       "      <td>12.000000</td>\n",
       "    </tr>\n",
       "  </tbody>\n",
       "</table>\n",
       "</div>"
      ],
      "text/plain": [
       "            Latitude      Longitude            day   timespan_min  \\\n",
       "count  225445.000000  225445.000000  225445.000000  225445.000000   \n",
       "mean       30.301440     -97.733156       2.906261      49.665617   \n",
       "std         0.094080       0.087511       1.935056      39.684226   \n",
       "min        30.003883     -98.226709       0.000000       0.333333   \n",
       "25%        30.231715     -97.777183       1.000000      19.500000   \n",
       "50%        30.293602     -97.734450       3.000000      37.500000   \n",
       "75%        30.373691     -97.686922       5.000000      68.516667   \n",
       "max        30.798642     -97.293320       6.000000     200.000000   \n",
       "\n",
       "                hour          month  \n",
       "count  225445.000000  225445.000000  \n",
       "mean       13.693637       6.980594  \n",
       "std         7.140035       3.388540  \n",
       "min         0.000000       1.000000  \n",
       "25%         9.000000       4.000000  \n",
       "50%        15.000000       7.000000  \n",
       "75%        20.000000      10.000000  \n",
       "max        23.000000      12.000000  "
      ]
     },
     "execution_count": 243,
     "metadata": {},
     "output_type": "execute_result"
    }
   ],
   "source": [
    "df.describe()"
   ]
  },
  {
   "cell_type": "code",
   "execution_count": 244,
   "id": "6ebd5676",
   "metadata": {},
   "outputs": [
    {
     "name": "stdout",
     "output_type": "stream",
     "text": [
      "<class 'pandas.core.frame.DataFrame'>\n",
      "RangeIndex: 225445 entries, 0 to 225444\n",
      "Data columns (total 7 columns):\n",
      " #   Column          Non-Null Count   Dtype  \n",
      "---  ------          --------------   -----  \n",
      " 0   issue_reported  225445 non-null  object \n",
      " 1   Latitude        225445 non-null  float64\n",
      " 2   Longitude       225445 non-null  float64\n",
      " 3   day             225445 non-null  int64  \n",
      " 4   timespan_min    225445 non-null  float64\n",
      " 5   hour            225445 non-null  int64  \n",
      " 6   month           225445 non-null  int64  \n",
      "dtypes: float64(3), int64(3), object(1)\n",
      "memory usage: 12.0+ MB\n"
     ]
    }
   ],
   "source": [
    "df.info()"
   ]
  },
  {
   "cell_type": "code",
   "execution_count": 245,
   "id": "2a36eedc",
   "metadata": {},
   "outputs": [
    {
     "data": {
      "text/html": [
       "<div>\n",
       "<style scoped>\n",
       "    .dataframe tbody tr th:only-of-type {\n",
       "        vertical-align: middle;\n",
       "    }\n",
       "\n",
       "    .dataframe tbody tr th {\n",
       "        vertical-align: top;\n",
       "    }\n",
       "\n",
       "    .dataframe thead th {\n",
       "        text-align: right;\n",
       "    }\n",
       "</style>\n",
       "<table border=\"1\" class=\"dataframe\">\n",
       "  <thead>\n",
       "    <tr style=\"text-align: right;\">\n",
       "      <th></th>\n",
       "      <th>issue_reported</th>\n",
       "      <th>Latitude</th>\n",
       "      <th>Longitude</th>\n",
       "      <th>day</th>\n",
       "      <th>timespan_min</th>\n",
       "      <th>hour</th>\n",
       "      <th>month</th>\n",
       "    </tr>\n",
       "  </thead>\n",
       "  <tbody>\n",
       "    <tr>\n",
       "      <th>0</th>\n",
       "      <td>2</td>\n",
       "      <td>30.283797</td>\n",
       "      <td>-97.741906</td>\n",
       "      <td>2</td>\n",
       "      <td>144.066667</td>\n",
       "      <td>6</td>\n",
       "      <td>6</td>\n",
       "    </tr>\n",
       "    <tr>\n",
       "      <th>1</th>\n",
       "      <td>5</td>\n",
       "      <td>30.339593</td>\n",
       "      <td>-97.700963</td>\n",
       "      <td>2</td>\n",
       "      <td>64.450000</td>\n",
       "      <td>10</td>\n",
       "      <td>6</td>\n",
       "    </tr>\n",
       "    <tr>\n",
       "      <th>2</th>\n",
       "      <td>2</td>\n",
       "      <td>30.329455</td>\n",
       "      <td>-97.638105</td>\n",
       "      <td>4</td>\n",
       "      <td>30.000000</td>\n",
       "      <td>21</td>\n",
       "      <td>4</td>\n",
       "    </tr>\n",
       "    <tr>\n",
       "      <th>3</th>\n",
       "      <td>5</td>\n",
       "      <td>30.202806</td>\n",
       "      <td>-97.760701</td>\n",
       "      <td>4</td>\n",
       "      <td>14.183333</td>\n",
       "      <td>21</td>\n",
       "      <td>4</td>\n",
       "    </tr>\n",
       "    <tr>\n",
       "      <th>4</th>\n",
       "      <td>2</td>\n",
       "      <td>30.184265</td>\n",
       "      <td>-97.687339</td>\n",
       "      <td>4</td>\n",
       "      <td>149.150000</td>\n",
       "      <td>21</td>\n",
       "      <td>4</td>\n",
       "    </tr>\n",
       "  </tbody>\n",
       "</table>\n",
       "</div>"
      ],
      "text/plain": [
       "   issue_reported   Latitude  Longitude  day  timespan_min  hour  month\n",
       "0               2  30.283797 -97.741906    2    144.066667     6      6\n",
       "1               5  30.339593 -97.700963    2     64.450000    10      6\n",
       "2               2  30.329455 -97.638105    4     30.000000    21      4\n",
       "3               5  30.202806 -97.760701    4     14.183333    21      4\n",
       "4               2  30.184265 -97.687339    4    149.150000    21      4"
      ]
     },
     "execution_count": 245,
     "metadata": {},
     "output_type": "execute_result"
    }
   ],
   "source": [
    "le = LabelEncoder()\n",
    "df['issue_reported']=le.fit_transform(df['issue_reported'])\n",
    "df.head()"
   ]
  },
  {
   "cell_type": "code",
   "execution_count": 246,
   "id": "ac6a9210",
   "metadata": {},
   "outputs": [
    {
     "name": "stdout",
     "output_type": "stream",
     "text": [
      "<class 'pandas.core.frame.DataFrame'>\n",
      "RangeIndex: 225445 entries, 0 to 225444\n",
      "Data columns (total 7 columns):\n",
      " #   Column          Non-Null Count   Dtype  \n",
      "---  ------          --------------   -----  \n",
      " 0   issue_reported  225445 non-null  int64  \n",
      " 1   Latitude        225445 non-null  float64\n",
      " 2   Longitude       225445 non-null  float64\n",
      " 3   day             225445 non-null  int64  \n",
      " 4   timespan_min    225445 non-null  float64\n",
      " 5   hour            225445 non-null  int64  \n",
      " 6   month           225445 non-null  int64  \n",
      "dtypes: float64(3), int64(4)\n",
      "memory usage: 12.0 MB\n"
     ]
    }
   ],
   "source": [
    "df.info()"
   ]
  },
  {
   "cell_type": "code",
   "execution_count": 247,
   "id": "81785191",
   "metadata": {},
   "outputs": [
    {
     "data": {
      "text/plain": [
       "array([2, 5, 1, 4, 0, 3, 6])"
      ]
     },
     "execution_count": 247,
     "metadata": {},
     "output_type": "execute_result"
    }
   ],
   "source": [
    "df['issue_reported'].unique()"
   ]
  },
  {
   "cell_type": "code",
   "execution_count": 248,
   "id": "afc90c49",
   "metadata": {},
   "outputs": [
    {
     "data": {
      "text/plain": [
       "5    92530\n",
       "2    85024\n",
       "0    25467\n",
       "4    10818\n",
       "3     5567\n",
       "1     5286\n",
       "6      753\n",
       "Name: issue_reported, dtype: int64"
      ]
     },
     "execution_count": 248,
     "metadata": {},
     "output_type": "execute_result"
    }
   ],
   "source": [
    "df['issue_reported'].value_counts()"
   ]
  },
  {
   "cell_type": "code",
   "execution_count": 249,
   "id": "604e9337",
   "metadata": {},
   "outputs": [
    {
     "data": {
      "text/plain": [
       "issue_reported\n",
       "0    42.979385\n",
       "1    55.196339\n",
       "2    68.461010\n",
       "3    42.089731\n",
       "4    31.433333\n",
       "5    36.540976\n",
       "6    45.440106\n",
       "Name: timespan_min, dtype: float64"
      ]
     },
     "execution_count": 249,
     "metadata": {},
     "output_type": "execute_result"
    }
   ],
   "source": [
    "avg_issue = df.groupby('issue_reported').mean()\n",
    "avg_issue_span = avg_issue.timespan_min\n",
    "avg_issue_span"
   ]
  },
  {
   "cell_type": "code",
   "execution_count": 250,
   "id": "0710b073",
   "metadata": {},
   "outputs": [
    {
     "data": {
      "text/plain": [
       "issue_reported\n",
       "0    36.016667\n",
       "1    50.450000\n",
       "2    60.466667\n",
       "3    32.066667\n",
       "4    22.775000\n",
       "5    27.000000\n",
       "6    31.833333\n",
       "Name: timespan_min, dtype: float64"
      ]
     },
     "execution_count": 250,
     "metadata": {},
     "output_type": "execute_result"
    }
   ],
   "source": [
    "median_issue = df.groupby('issue_reported').median()\n",
    "median_issue_span = median_issue.timespan_min\n",
    "median_issue_span"
   ]
  },
  {
   "cell_type": "markdown",
   "id": "3e58f7e3",
   "metadata": {},
   "source": [
    "Location definitions\n",
    "vnw = The very northwest edge of the city that is west of I35 and north of 183\n",
    "vcw = West of MOPAC but south of 183 and north of 290\n",
    "vsw = The very southwest edge of the city that is west of I35 and south of Ben White\n",
    "\n",
    "cnw = Central northwest of the city, west of I35, south of 183, east of MOPAC, north of MLK\n",
    "cw = Central west of the city, west of I35, south of MLK, east of MOPAC, north of the river\n",
    "csw = Central southwest of the city, west of I35, south of the river, east of MOPAC, north of Ben White\n",
    "\n",
    "cne = Central northeast of the city, east of I35, South of 183, east of 183 and north of MLK\n",
    "ce = Central east of the city, east of I35, south of MLK, east of 183, north of the river\n",
    "cse = Central southeast of the city, east of I35, south of the river, east of 183, north of Ben White\n",
    "\n",
    "vne = The very northeast edge of the city that is east of I35, east and north of 183\n",
    "vce = The very east of the city, east 183, south of 290(east), north of Ben White/71\n",
    "vse = The very southeast of the city, east of I35, south of Ben White/71\n",
    "\n",
    "other = a coordinate not within a field"
   ]
  },
  {
   "cell_type": "code",
   "execution_count": 251,
   "id": "f7486a58",
   "metadata": {},
   "outputs": [],
   "source": [
    "def partOfCity(lat, lon):\n",
    "    if (lat <= 30.21638 and lon < -97.72575):\n",
    "        return \"vsw\"\n",
    "    elif (lat <= 30.21638 and lon >= -97.72575):\n",
    "        return \"vse\"\n",
    "    \n",
    "    elif (lat > 30.33926 and lon < -97.72575):\n",
    "        return \"vnw\"\n",
    "    elif (lat >= 30.33926 and lon >= -97.72575):\n",
    "        return \"vne\"\n",
    "    \n",
    "    elif (lat >= 30.21638 and lat < 30.33926 and lon < -97.75816):\n",
    "        return \"vcw\"\n",
    "    elif (lat >= 30.21638 and lat <= 30.33926 and lon >= -97.66523):\n",
    "        return \"vce\"\n",
    "    #inner grid\n",
    "    elif (lat < 30.25108 and lat >= 30.21638 and lon < -97.72575 and lon > -97.75816):\n",
    "        return \"csw\"\n",
    "    elif (lat < 30.25108 and lat >= 30.21638 and lon >= -97.72575 and lon < -97.66523):\n",
    "        return \"cse\"\n",
    "    \n",
    "    elif (lat < 30.33926 and lat > 30.27887 and lon > -97.72575 and lon < -97.66523):\n",
    "        return \"cne\"\n",
    "    elif (lat <= 30.33926 and lat > 30.27887 and lon <= -97.72575 and lon > -97.75816):\n",
    "        return \"cnw\"\n",
    "    \n",
    "    elif(lat >= 30.25108 and lat <= 30.27887 and lon >= -97.72575 and lon <= -97.66523):\n",
    "        return \"ce\"\n",
    "    elif(lat > 30.25108 and lat < 30.27887 and lon < -97.72575 and lon > -97.75816):\n",
    "        return \"cw\"\n",
    "    else:\n",
    "        return \"other\""
   ]
  },
  {
   "cell_type": "markdown",
   "id": "46977c5d",
   "metadata": {},
   "source": [
    "I want to create a new column called \"region\" and use the above fuction to divide up incidents into one of 12 areas."
   ]
  },
  {
   "cell_type": "code",
   "execution_count": 252,
   "id": "c84c313c",
   "metadata": {},
   "outputs": [],
   "source": [
    "#df['region'] = partOfCity(df.Latitude,df.Longitude)\n"
   ]
  },
  {
   "cell_type": "code",
   "execution_count": 253,
   "id": "d8c29b06",
   "metadata": {},
   "outputs": [],
   "source": [
    "df['region'] = df.apply(lambda x: partOfCity(x['Latitude'], x['Longitude']), axis=1)"
   ]
  },
  {
   "cell_type": "code",
   "execution_count": 254,
   "id": "be1c6c55",
   "metadata": {},
   "outputs": [
    {
     "data": {
      "text/html": [
       "<div>\n",
       "<style scoped>\n",
       "    .dataframe tbody tr th:only-of-type {\n",
       "        vertical-align: middle;\n",
       "    }\n",
       "\n",
       "    .dataframe tbody tr th {\n",
       "        vertical-align: top;\n",
       "    }\n",
       "\n",
       "    .dataframe thead th {\n",
       "        text-align: right;\n",
       "    }\n",
       "</style>\n",
       "<table border=\"1\" class=\"dataframe\">\n",
       "  <thead>\n",
       "    <tr style=\"text-align: right;\">\n",
       "      <th></th>\n",
       "      <th>issue_reported</th>\n",
       "      <th>Latitude</th>\n",
       "      <th>Longitude</th>\n",
       "      <th>day</th>\n",
       "      <th>timespan_min</th>\n",
       "      <th>hour</th>\n",
       "      <th>month</th>\n",
       "      <th>region</th>\n",
       "    </tr>\n",
       "  </thead>\n",
       "  <tbody>\n",
       "    <tr>\n",
       "      <th>0</th>\n",
       "      <td>2</td>\n",
       "      <td>30.283797</td>\n",
       "      <td>-97.741906</td>\n",
       "      <td>2</td>\n",
       "      <td>144.066667</td>\n",
       "      <td>6</td>\n",
       "      <td>6</td>\n",
       "      <td>cnw</td>\n",
       "    </tr>\n",
       "    <tr>\n",
       "      <th>1</th>\n",
       "      <td>5</td>\n",
       "      <td>30.339593</td>\n",
       "      <td>-97.700963</td>\n",
       "      <td>2</td>\n",
       "      <td>64.450000</td>\n",
       "      <td>10</td>\n",
       "      <td>6</td>\n",
       "      <td>vne</td>\n",
       "    </tr>\n",
       "    <tr>\n",
       "      <th>2</th>\n",
       "      <td>2</td>\n",
       "      <td>30.329455</td>\n",
       "      <td>-97.638105</td>\n",
       "      <td>4</td>\n",
       "      <td>30.000000</td>\n",
       "      <td>21</td>\n",
       "      <td>4</td>\n",
       "      <td>vce</td>\n",
       "    </tr>\n",
       "    <tr>\n",
       "      <th>3</th>\n",
       "      <td>5</td>\n",
       "      <td>30.202806</td>\n",
       "      <td>-97.760701</td>\n",
       "      <td>4</td>\n",
       "      <td>14.183333</td>\n",
       "      <td>21</td>\n",
       "      <td>4</td>\n",
       "      <td>vsw</td>\n",
       "    </tr>\n",
       "    <tr>\n",
       "      <th>4</th>\n",
       "      <td>2</td>\n",
       "      <td>30.184265</td>\n",
       "      <td>-97.687339</td>\n",
       "      <td>4</td>\n",
       "      <td>149.150000</td>\n",
       "      <td>21</td>\n",
       "      <td>4</td>\n",
       "      <td>vse</td>\n",
       "    </tr>\n",
       "  </tbody>\n",
       "</table>\n",
       "</div>"
      ],
      "text/plain": [
       "   issue_reported   Latitude  Longitude  day  timespan_min  hour  month region\n",
       "0               2  30.283797 -97.741906    2    144.066667     6      6    cnw\n",
       "1               5  30.339593 -97.700963    2     64.450000    10      6    vne\n",
       "2               2  30.329455 -97.638105    4     30.000000    21      4    vce\n",
       "3               5  30.202806 -97.760701    4     14.183333    21      4    vsw\n",
       "4               2  30.184265 -97.687339    4    149.150000    21      4    vse"
      ]
     },
     "execution_count": 254,
     "metadata": {},
     "output_type": "execute_result"
    }
   ],
   "source": [
    "df.head()"
   ]
  },
  {
   "cell_type": "code",
   "execution_count": 255,
   "id": "17b150e9",
   "metadata": {},
   "outputs": [
    {
     "data": {
      "text/plain": [
       "vne    46522\n",
       "vnw    34619\n",
       "vcw    29815\n",
       "vsw    28881\n",
       "cne    16911\n",
       "vse    13828\n",
       "cw     13356\n",
       "vce    13000\n",
       "cnw     9623\n",
       "csw     7660\n",
       "cse     6366\n",
       "ce      4864\n",
       "Name: region, dtype: int64"
      ]
     },
     "execution_count": 255,
     "metadata": {},
     "output_type": "execute_result"
    }
   ],
   "source": [
    "df['region'].value_counts()"
   ]
  },
  {
   "cell_type": "code",
   "execution_count": 256,
   "id": "0c3136a9",
   "metadata": {},
   "outputs": [
    {
     "data": {
      "text/plain": [
       "225445"
      ]
     },
     "execution_count": 256,
     "metadata": {},
     "output_type": "execute_result"
    }
   ],
   "source": [
    "df['region'].value_counts().sum()"
   ]
  },
  {
   "cell_type": "code",
   "execution_count": 257,
   "id": "d317c77b",
   "metadata": {},
   "outputs": [
    {
     "data": {
      "text/html": [
       "<div>\n",
       "<style scoped>\n",
       "    .dataframe tbody tr th:only-of-type {\n",
       "        vertical-align: middle;\n",
       "    }\n",
       "\n",
       "    .dataframe tbody tr th {\n",
       "        vertical-align: top;\n",
       "    }\n",
       "\n",
       "    .dataframe thead th {\n",
       "        text-align: right;\n",
       "    }\n",
       "</style>\n",
       "<table border=\"1\" class=\"dataframe\">\n",
       "  <thead>\n",
       "    <tr style=\"text-align: right;\">\n",
       "      <th></th>\n",
       "      <th>issue_reported</th>\n",
       "      <th>Latitude</th>\n",
       "      <th>Longitude</th>\n",
       "      <th>day</th>\n",
       "      <th>timespan_min</th>\n",
       "      <th>hour</th>\n",
       "      <th>month</th>\n",
       "      <th>region</th>\n",
       "    </tr>\n",
       "  </thead>\n",
       "  <tbody>\n",
       "    <tr>\n",
       "      <th>0</th>\n",
       "      <td>2</td>\n",
       "      <td>30.283797</td>\n",
       "      <td>-97.741906</td>\n",
       "      <td>2</td>\n",
       "      <td>144.066667</td>\n",
       "      <td>6</td>\n",
       "      <td>6</td>\n",
       "      <td>2</td>\n",
       "    </tr>\n",
       "    <tr>\n",
       "      <th>1</th>\n",
       "      <td>5</td>\n",
       "      <td>30.339593</td>\n",
       "      <td>-97.700963</td>\n",
       "      <td>2</td>\n",
       "      <td>64.450000</td>\n",
       "      <td>10</td>\n",
       "      <td>6</td>\n",
       "      <td>8</td>\n",
       "    </tr>\n",
       "    <tr>\n",
       "      <th>2</th>\n",
       "      <td>2</td>\n",
       "      <td>30.329455</td>\n",
       "      <td>-97.638105</td>\n",
       "      <td>4</td>\n",
       "      <td>30.000000</td>\n",
       "      <td>21</td>\n",
       "      <td>4</td>\n",
       "      <td>6</td>\n",
       "    </tr>\n",
       "    <tr>\n",
       "      <th>3</th>\n",
       "      <td>5</td>\n",
       "      <td>30.202806</td>\n",
       "      <td>-97.760701</td>\n",
       "      <td>4</td>\n",
       "      <td>14.183333</td>\n",
       "      <td>21</td>\n",
       "      <td>4</td>\n",
       "      <td>11</td>\n",
       "    </tr>\n",
       "    <tr>\n",
       "      <th>4</th>\n",
       "      <td>2</td>\n",
       "      <td>30.184265</td>\n",
       "      <td>-97.687339</td>\n",
       "      <td>4</td>\n",
       "      <td>149.150000</td>\n",
       "      <td>21</td>\n",
       "      <td>4</td>\n",
       "      <td>10</td>\n",
       "    </tr>\n",
       "  </tbody>\n",
       "</table>\n",
       "</div>"
      ],
      "text/plain": [
       "   issue_reported   Latitude  Longitude  day  timespan_min  hour  month  \\\n",
       "0               2  30.283797 -97.741906    2    144.066667     6      6   \n",
       "1               5  30.339593 -97.700963    2     64.450000    10      6   \n",
       "2               2  30.329455 -97.638105    4     30.000000    21      4   \n",
       "3               5  30.202806 -97.760701    4     14.183333    21      4   \n",
       "4               2  30.184265 -97.687339    4    149.150000    21      4   \n",
       "\n",
       "   region  \n",
       "0       2  \n",
       "1       8  \n",
       "2       6  \n",
       "3      11  \n",
       "4      10  "
      ]
     },
     "execution_count": 257,
     "metadata": {},
     "output_type": "execute_result"
    }
   ],
   "source": [
    "le2 = LabelEncoder()\n",
    "df['region']=le2.fit_transform(df['region'])\n",
    "df.head()"
   ]
  },
  {
   "cell_type": "code",
   "execution_count": null,
   "id": "077a31a8",
   "metadata": {},
   "outputs": [],
   "source": []
  },
  {
   "cell_type": "code",
   "execution_count": 268,
   "id": "b9df3669",
   "metadata": {},
   "outputs": [
    {
     "data": {
      "text/html": [
       "<div>\n",
       "<style scoped>\n",
       "    .dataframe tbody tr th:only-of-type {\n",
       "        vertical-align: middle;\n",
       "    }\n",
       "\n",
       "    .dataframe tbody tr th {\n",
       "        vertical-align: top;\n",
       "    }\n",
       "\n",
       "    .dataframe thead th {\n",
       "        text-align: right;\n",
       "    }\n",
       "</style>\n",
       "<table border=\"1\" class=\"dataframe\">\n",
       "  <thead>\n",
       "    <tr style=\"text-align: right;\">\n",
       "      <th></th>\n",
       "      <th>day</th>\n",
       "      <th>timespan_min</th>\n",
       "      <th>hour</th>\n",
       "      <th>month</th>\n",
       "      <th>region</th>\n",
       "    </tr>\n",
       "  </thead>\n",
       "  <tbody>\n",
       "    <tr>\n",
       "      <th>0</th>\n",
       "      <td>2</td>\n",
       "      <td>144.066667</td>\n",
       "      <td>6</td>\n",
       "      <td>6</td>\n",
       "      <td>2</td>\n",
       "    </tr>\n",
       "    <tr>\n",
       "      <th>1</th>\n",
       "      <td>2</td>\n",
       "      <td>64.450000</td>\n",
       "      <td>10</td>\n",
       "      <td>6</td>\n",
       "      <td>8</td>\n",
       "    </tr>\n",
       "    <tr>\n",
       "      <th>2</th>\n",
       "      <td>4</td>\n",
       "      <td>30.000000</td>\n",
       "      <td>21</td>\n",
       "      <td>4</td>\n",
       "      <td>6</td>\n",
       "    </tr>\n",
       "    <tr>\n",
       "      <th>3</th>\n",
       "      <td>4</td>\n",
       "      <td>14.183333</td>\n",
       "      <td>21</td>\n",
       "      <td>4</td>\n",
       "      <td>11</td>\n",
       "    </tr>\n",
       "    <tr>\n",
       "      <th>4</th>\n",
       "      <td>4</td>\n",
       "      <td>149.150000</td>\n",
       "      <td>21</td>\n",
       "      <td>4</td>\n",
       "      <td>10</td>\n",
       "    </tr>\n",
       "  </tbody>\n",
       "</table>\n",
       "</div>"
      ],
      "text/plain": [
       "   day  timespan_min  hour  month  region\n",
       "0    2    144.066667     6      6       2\n",
       "1    2     64.450000    10      6       8\n",
       "2    4     30.000000    21      4       6\n",
       "3    4     14.183333    21      4      11\n",
       "4    4    149.150000    21      4      10"
      ]
     },
     "execution_count": 268,
     "metadata": {},
     "output_type": "execute_result"
    }
   ],
   "source": [
    "X = df.iloc[:, [3,4,5,6,7]]\n",
    "X.head()\n"
   ]
  },
  {
   "cell_type": "code",
   "execution_count": 269,
   "id": "b590bc7b",
   "metadata": {},
   "outputs": [
    {
     "data": {
      "text/plain": [
       "0    2\n",
       "1    5\n",
       "2    2\n",
       "3    5\n",
       "4    2\n",
       "Name: issue_reported, dtype: int64"
      ]
     },
     "execution_count": 269,
     "metadata": {},
     "output_type": "execute_result"
    }
   ],
   "source": [
    "y = df.iloc[:,0]\n",
    "y.head()"
   ]
  },
  {
   "cell_type": "code",
   "execution_count": 279,
   "id": "60d7b49d",
   "metadata": {},
   "outputs": [],
   "source": [
    "X_train, X_test, y_train, y_test = train_test_split(X, y, test_size= 0.40, random_state=123)"
   ]
  },
  {
   "cell_type": "code",
   "execution_count": 280,
   "id": "0ce22647",
   "metadata": {},
   "outputs": [
    {
     "data": {
      "text/html": [
       "<div>\n",
       "<style scoped>\n",
       "    .dataframe tbody tr th:only-of-type {\n",
       "        vertical-align: middle;\n",
       "    }\n",
       "\n",
       "    .dataframe tbody tr th {\n",
       "        vertical-align: top;\n",
       "    }\n",
       "\n",
       "    .dataframe thead th {\n",
       "        text-align: right;\n",
       "    }\n",
       "</style>\n",
       "<table border=\"1\" class=\"dataframe\">\n",
       "  <thead>\n",
       "    <tr style=\"text-align: right;\">\n",
       "      <th></th>\n",
       "      <th>day</th>\n",
       "      <th>timespan_min</th>\n",
       "      <th>hour</th>\n",
       "      <th>month</th>\n",
       "      <th>region</th>\n",
       "    </tr>\n",
       "  </thead>\n",
       "  <tbody>\n",
       "    <tr>\n",
       "      <th>63640</th>\n",
       "      <td>0</td>\n",
       "      <td>28.300000</td>\n",
       "      <td>6</td>\n",
       "      <td>6</td>\n",
       "      <td>1</td>\n",
       "    </tr>\n",
       "    <tr>\n",
       "      <th>57925</th>\n",
       "      <td>4</td>\n",
       "      <td>132.000000</td>\n",
       "      <td>15</td>\n",
       "      <td>5</td>\n",
       "      <td>9</td>\n",
       "    </tr>\n",
       "    <tr>\n",
       "      <th>114189</th>\n",
       "      <td>2</td>\n",
       "      <td>34.000000</td>\n",
       "      <td>22</td>\n",
       "      <td>3</td>\n",
       "      <td>5</td>\n",
       "    </tr>\n",
       "    <tr>\n",
       "      <th>59015</th>\n",
       "      <td>3</td>\n",
       "      <td>19.000000</td>\n",
       "      <td>15</td>\n",
       "      <td>5</td>\n",
       "      <td>9</td>\n",
       "    </tr>\n",
       "    <tr>\n",
       "      <th>97065</th>\n",
       "      <td>6</td>\n",
       "      <td>58.683333</td>\n",
       "      <td>23</td>\n",
       "      <td>12</td>\n",
       "      <td>11</td>\n",
       "    </tr>\n",
       "  </tbody>\n",
       "</table>\n",
       "</div>"
      ],
      "text/plain": [
       "        day  timespan_min  hour  month  region\n",
       "63640     0     28.300000     6      6       1\n",
       "57925     4    132.000000    15      5       9\n",
       "114189    2     34.000000    22      3       5\n",
       "59015     3     19.000000    15      5       9\n",
       "97065     6     58.683333    23     12      11"
      ]
     },
     "execution_count": 280,
     "metadata": {},
     "output_type": "execute_result"
    }
   ],
   "source": [
    "X_train.head()"
   ]
  },
  {
   "cell_type": "code",
   "execution_count": 281,
   "id": "1ec41008",
   "metadata": {},
   "outputs": [],
   "source": [
    "scaler = StandardScaler()"
   ]
  },
  {
   "cell_type": "code",
   "execution_count": 282,
   "id": "52a317d9",
   "metadata": {},
   "outputs": [],
   "source": [
    "X_train = scaler.fit_transform(X_train)\n",
    "X_test = scaler.transform(X_test)"
   ]
  },
  {
   "cell_type": "code",
   "execution_count": 283,
   "id": "ee26a61e",
   "metadata": {},
   "outputs": [],
   "source": [
    "test_scores = []\n",
    "train_scores = []\n",
    "\n",
    "for i in range(1,10):\n",
    "\n",
    "    knn = KNeighborsClassifier(i)\n",
    "    knn.fit(X_train,y_train)\n",
    "    \n",
    "    train_scores.append(knn.score(X_train,y_train))\n",
    "    test_scores.append(knn.score(X_test,y_test))"
   ]
  },
  {
   "cell_type": "code",
   "execution_count": 284,
   "id": "0eaa5ca0",
   "metadata": {},
   "outputs": [
    {
     "name": "stdout",
     "output_type": "stream",
     "text": [
      "[0.9980852683951, 0.7128789726984409, 0.6787169080411335, 0.6474676011148321, 0.6293626679086547, 0.6138082459136375, 0.6076056983595408, 0.5990300664611472, 0.5933080500048054]   [0.422331389030584, 0.39379893100312713, 0.4464392645656369, 0.4693384195701834, 0.4779436226130542, 0.48967597418439085, 0.4969726540841447, 0.5012752556055801, 0.5082281709507862]\n"
     ]
    }
   ],
   "source": [
    "print(train_scores, \" \", test_scores)"
   ]
  },
  {
   "cell_type": "code",
   "execution_count": 287,
   "id": "e27c5fe7",
   "metadata": {},
   "outputs": [
    {
     "data": {
      "text/plain": [
       "1"
      ]
     },
     "execution_count": 287,
     "metadata": {},
     "output_type": "execute_result"
    }
   ],
   "source": [
    "r = list(range(1,10))\n",
    "r[train_scores.index(max(train_scores))]\n"
   ]
  },
  {
   "cell_type": "code",
   "execution_count": 288,
   "id": "592c54ca",
   "metadata": {},
   "outputs": [
    {
     "data": {
      "text/plain": [
       "9"
      ]
     },
     "execution_count": 288,
     "metadata": {},
     "output_type": "execute_result"
    }
   ],
   "source": [
    "r[test_scores.index(max(test_scores))]"
   ]
  },
  {
   "cell_type": "code",
   "execution_count": 289,
   "id": "eb49c209",
   "metadata": {},
   "outputs": [
    {
     "name": "stderr",
     "output_type": "stream",
     "text": [
      "/Users/tshields/opt/anaconda3/envs/Springboard/lib/python3.8/site-packages/seaborn/_decorators.py:36: FutureWarning: Pass the following variables as keyword args: x, y. From version 0.12, the only valid positional argument will be `data`, and passing other arguments without an explicit keyword will result in an error or misinterpretation.\n",
      "  warnings.warn(\n",
      "/Users/tshields/opt/anaconda3/envs/Springboard/lib/python3.8/site-packages/seaborn/_decorators.py:36: FutureWarning: Pass the following variables as keyword args: x, y. From version 0.12, the only valid positional argument will be `data`, and passing other arguments without an explicit keyword will result in an error or misinterpretation.\n",
      "  warnings.warn(\n"
     ]
    },
    {
     "data": {
      "image/png": "[encoded data removed]",
      "text/plain": [
       "<Figure size 864x360 with 1 Axes>"
      ]
     },
     "metadata": {
      "needs_background": "light"
     },
     "output_type": "display_data"
    }
   ],
   "source": [
    "plt.figure(figsize=(12,5))\n",
    "p = sns.lineplot(range(1,10),train_scores,marker='*',label='Train Score')\n",
    "p = sns.lineplot(range(1,10),test_scores,marker='o',label='Test Score')"
   ]
  },
  {
   "cell_type": "code",
   "execution_count": null,
   "id": "a0ee7da1",
   "metadata": {},
   "outputs": [],
   "source": []
  }
 ],
 "metadata": {
  "kernelspec": {
   "display_name": "Python 3 (ipykernel)",
   "language": "python",
   "name": "python3"
  },
  "language_info": {
   "codemirror_mode": {
    "name": "ipython",
    "version": 3
   },
   "file_extension": ".py",
   "mimetype": "text/x-python",
   "name": "python",
   "nbconvert_exporter": "python",
   "pygments_lexer": "ipython3",
   "version": "3.8.11"
  }
 },
 "nbformat": 4,
 "nbformat_minor": 5
}
