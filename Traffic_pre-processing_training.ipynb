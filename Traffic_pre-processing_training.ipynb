{
 "cells": [
  {
   "cell_type": "markdown",
   "id": "6f1ddabd",
   "metadata": {},
   "source": [
    "# Choosing and Training a Model"
   ]
  },
  {
   "cell_type": "markdown",
   "id": "03c77d5e",
   "metadata": {},
   "source": [
    "In this notebook I will try and predict what kind of an incident occured based on where it took place and how long it took to resolve. \n",
    "\n",
    "Target: issue_reported(y)\n",
    "Input vairables: Latitude, Longitude, timespan_min(x)\n"
   ]
  },
  {
   "cell_type": "code",
   "execution_count": 1,
   "id": "62e38da1",
   "metadata": {},
   "outputs": [],
   "source": [
    "import pandas as pd\n",
    "import numpy as np\n",
    "from datetime import datetime\n",
    "import matplotlib.pyplot as plt\n",
    "import seaborn as sns\n",
    "from sklearn.preprocessing import LabelEncoder\n",
    "from sklearn.model_selection import train_test_split\n",
    "from sklearn.preprocessing import StandardScaler, OneHotEncoder\n",
    "from sklearn.linear_model import LinearRegression\n",
    "from sklearn.ensemble import RandomForestClassifier\n",
    "from sklearn.compose import make_column_transformer\n",
    "from sklearn.pipeline import make_pipeline\n",
    "from sklearn.linear_model import LogisticRegression\n",
    "from sklearn.model_selection import cross_val_score\n",
    "from sklearn.metrics import log_loss, confusion_matrix\n",
    "from sklearn.neighbors import KNeighborsClassifier\n",
    "from sklearn import model_selection\n",
    "from sklearn.tree import DecisionTreeClassifier\n",
    "import xgboost as xgb\n",
    "from sklearn.naive_bayes import GaussianNB\n",
    "from sklearn.ensemble import GradientBoostingClassifier\n",
    "import sklearn.cluster\n",
    "from sklearn.model_selection import GridSearchCV\n",
    "from sklearn.svm import SVC\n",
    "from sklearn.metrics import accuracy_score, recall_score, precision_score, f1_score, roc_auc_score, fbeta_score\n",
    "from sklearn.metrics import confusion_matrix, balanced_accuracy_score"
   ]
  },
  {
   "cell_type": "markdown",
   "id": "f79a4a40",
   "metadata": {},
   "source": [
    "Import data of clean features"
   ]
  },
  {
   "cell_type": "code",
   "execution_count": 2,
   "id": "59bfd444",
   "metadata": {},
   "outputs": [],
   "source": [
    "file = 'traffic_feature_engineering.csv'"
   ]
  },
  {
   "cell_type": "code",
   "execution_count": 3,
   "id": "ca63555d",
   "metadata": {},
   "outputs": [
    {
     "data": {
      "text/html": [
       "<div>\n",
       "<style scoped>\n",
       "    .dataframe tbody tr th:only-of-type {\n",
       "        vertical-align: middle;\n",
       "    }\n",
       "\n",
       "    .dataframe tbody tr th {\n",
       "        vertical-align: top;\n",
       "    }\n",
       "\n",
       "    .dataframe thead th {\n",
       "        text-align: right;\n",
       "    }\n",
       "</style>\n",
       "<table border=\"1\" class=\"dataframe\">\n",
       "  <thead>\n",
       "    <tr style=\"text-align: right;\">\n",
       "      <th></th>\n",
       "      <th>published_date</th>\n",
       "      <th>issue_reported</th>\n",
       "      <th>Latitude</th>\n",
       "      <th>Longitude</th>\n",
       "      <th>issue_timespan</th>\n",
       "      <th>geometry</th>\n",
       "      <th>day</th>\n",
       "      <th>hour</th>\n",
       "      <th>month</th>\n",
       "    </tr>\n",
       "  </thead>\n",
       "  <tbody>\n",
       "    <tr>\n",
       "      <th>0</th>\n",
       "      <td>2018-06-13 06:35:59+00:00</td>\n",
       "      <td>Crash Service</td>\n",
       "      <td>30.283797</td>\n",
       "      <td>-97.741906</td>\n",
       "      <td>144.066667</td>\n",
       "      <td>POINT (-97.741906 30.283797)</td>\n",
       "      <td>wed</td>\n",
       "      <td>6</td>\n",
       "      <td>jun</td>\n",
       "    </tr>\n",
       "    <tr>\n",
       "      <th>1</th>\n",
       "      <td>2018-06-13 10:15:36+00:00</td>\n",
       "      <td>Traffic Hazard</td>\n",
       "      <td>30.339593</td>\n",
       "      <td>-97.700963</td>\n",
       "      <td>64.450000</td>\n",
       "      <td>POINT (-97.700963 30.339593)</td>\n",
       "      <td>wed</td>\n",
       "      <td>10</td>\n",
       "      <td>jun</td>\n",
       "    </tr>\n",
       "    <tr>\n",
       "      <th>2</th>\n",
       "      <td>2020-04-17 21:25:03+00:00</td>\n",
       "      <td>Crash Service</td>\n",
       "      <td>30.329455</td>\n",
       "      <td>-97.638105</td>\n",
       "      <td>30.000000</td>\n",
       "      <td>POINT (-97.638105 30.329455)</td>\n",
       "      <td>fri</td>\n",
       "      <td>21</td>\n",
       "      <td>apr</td>\n",
       "    </tr>\n",
       "    <tr>\n",
       "      <th>3</th>\n",
       "      <td>2020-04-17 21:40:52+00:00</td>\n",
       "      <td>Traffic Hazard</td>\n",
       "      <td>30.202806</td>\n",
       "      <td>-97.760701</td>\n",
       "      <td>14.183333</td>\n",
       "      <td>POINT (-97.760701 30.202806)</td>\n",
       "      <td>fri</td>\n",
       "      <td>21</td>\n",
       "      <td>apr</td>\n",
       "    </tr>\n",
       "    <tr>\n",
       "      <th>4</th>\n",
       "      <td>2020-04-17 21:00:55+00:00</td>\n",
       "      <td>Crash Service</td>\n",
       "      <td>30.184265</td>\n",
       "      <td>-97.687339</td>\n",
       "      <td>149.150000</td>\n",
       "      <td>POINT (-97.68733899999999 30.184265)</td>\n",
       "      <td>fri</td>\n",
       "      <td>21</td>\n",
       "      <td>apr</td>\n",
       "    </tr>\n",
       "  </tbody>\n",
       "</table>\n",
       "</div>"
      ],
      "text/plain": [
       "              published_date  issue_reported   Latitude  Longitude  \\\n",
       "0  2018-06-13 06:35:59+00:00   Crash Service  30.283797 -97.741906   \n",
       "1  2018-06-13 10:15:36+00:00  Traffic Hazard  30.339593 -97.700963   \n",
       "2  2020-04-17 21:25:03+00:00   Crash Service  30.329455 -97.638105   \n",
       "3  2020-04-17 21:40:52+00:00  Traffic Hazard  30.202806 -97.760701   \n",
       "4  2020-04-17 21:00:55+00:00   Crash Service  30.184265 -97.687339   \n",
       "\n",
       "   issue_timespan                              geometry  day  hour month  \n",
       "0      144.066667          POINT (-97.741906 30.283797)  wed     6   jun  \n",
       "1       64.450000          POINT (-97.700963 30.339593)  wed    10   jun  \n",
       "2       30.000000          POINT (-97.638105 30.329455)  fri    21   apr  \n",
       "3       14.183333          POINT (-97.760701 30.202806)  fri    21   apr  \n",
       "4      149.150000  POINT (-97.68733899999999 30.184265)  fri    21   apr  "
      ]
     },
     "execution_count": 3,
     "metadata": {},
     "output_type": "execute_result"
    }
   ],
   "source": [
    "df = pd.read_csv(file, index_col=False)\n",
    "df.head()"
   ]
  },
  {
   "cell_type": "code",
   "execution_count": 4,
   "id": "81aaa303",
   "metadata": {},
   "outputs": [
    {
     "data": {
      "text/html": [
       "<div>\n",
       "<style scoped>\n",
       "    .dataframe tbody tr th:only-of-type {\n",
       "        vertical-align: middle;\n",
       "    }\n",
       "\n",
       "    .dataframe tbody tr th {\n",
       "        vertical-align: top;\n",
       "    }\n",
       "\n",
       "    .dataframe thead th {\n",
       "        text-align: right;\n",
       "    }\n",
       "</style>\n",
       "<table border=\"1\" class=\"dataframe\">\n",
       "  <thead>\n",
       "    <tr style=\"text-align: right;\">\n",
       "      <th></th>\n",
       "      <th>Latitude</th>\n",
       "      <th>Longitude</th>\n",
       "      <th>issue_timespan</th>\n",
       "      <th>hour</th>\n",
       "    </tr>\n",
       "  </thead>\n",
       "  <tbody>\n",
       "    <tr>\n",
       "      <th>count</th>\n",
       "      <td>244175.000000</td>\n",
       "      <td>244175.000000</td>\n",
       "      <td>244175.000000</td>\n",
       "      <td>244175.000000</td>\n",
       "    </tr>\n",
       "    <tr>\n",
       "      <th>mean</th>\n",
       "      <td>30.301787</td>\n",
       "      <td>-97.733279</td>\n",
       "      <td>72.669058</td>\n",
       "      <td>13.656578</td>\n",
       "    </tr>\n",
       "    <tr>\n",
       "      <th>std</th>\n",
       "      <td>0.093835</td>\n",
       "      <td>0.087170</td>\n",
       "      <td>90.841620</td>\n",
       "      <td>7.057744</td>\n",
       "    </tr>\n",
       "    <tr>\n",
       "      <th>min</th>\n",
       "      <td>30.003883</td>\n",
       "      <td>-98.226709</td>\n",
       "      <td>0.333333</td>\n",
       "      <td>0.000000</td>\n",
       "    </tr>\n",
       "    <tr>\n",
       "      <th>25%</th>\n",
       "      <td>30.232014</td>\n",
       "      <td>-97.777104</td>\n",
       "      <td>20.750000</td>\n",
       "      <td>9.000000</td>\n",
       "    </tr>\n",
       "    <tr>\n",
       "      <th>50%</th>\n",
       "      <td>30.294387</td>\n",
       "      <td>-97.734336</td>\n",
       "      <td>41.333333</td>\n",
       "      <td>15.000000</td>\n",
       "    </tr>\n",
       "    <tr>\n",
       "      <th>75%</th>\n",
       "      <td>30.373832</td>\n",
       "      <td>-97.687295</td>\n",
       "      <td>81.216667</td>\n",
       "      <td>19.000000</td>\n",
       "    </tr>\n",
       "    <tr>\n",
       "      <th>max</th>\n",
       "      <td>30.798642</td>\n",
       "      <td>-97.293320</td>\n",
       "      <td>480.000000</td>\n",
       "      <td>23.000000</td>\n",
       "    </tr>\n",
       "  </tbody>\n",
       "</table>\n",
       "</div>"
      ],
      "text/plain": [
       "            Latitude      Longitude  issue_timespan           hour\n",
       "count  244175.000000  244175.000000   244175.000000  244175.000000\n",
       "mean       30.301787     -97.733279       72.669058      13.656578\n",
       "std         0.093835       0.087170       90.841620       7.057744\n",
       "min        30.003883     -98.226709        0.333333       0.000000\n",
       "25%        30.232014     -97.777104       20.750000       9.000000\n",
       "50%        30.294387     -97.734336       41.333333      15.000000\n",
       "75%        30.373832     -97.687295       81.216667      19.000000\n",
       "max        30.798642     -97.293320      480.000000      23.000000"
      ]
     },
     "execution_count": 4,
     "metadata": {},
     "output_type": "execute_result"
    }
   ],
   "source": [
    "df.describe()"
   ]
  },
  {
   "cell_type": "code",
   "execution_count": 5,
   "id": "6ebd5676",
   "metadata": {},
   "outputs": [
    {
     "name": "stdout",
     "output_type": "stream",
     "text": [
      "<class 'pandas.core.frame.DataFrame'>\n",
      "RangeIndex: 244175 entries, 0 to 244174\n",
      "Data columns (total 9 columns):\n",
      " #   Column          Non-Null Count   Dtype  \n",
      "---  ------          --------------   -----  \n",
      " 0   published_date  244175 non-null  object \n",
      " 1   issue_reported  244175 non-null  object \n",
      " 2   Latitude        244175 non-null  float64\n",
      " 3   Longitude       244175 non-null  float64\n",
      " 4   issue_timespan  244175 non-null  float64\n",
      " 5   geometry        244175 non-null  object \n",
      " 6   day             244175 non-null  object \n",
      " 7   hour            244175 non-null  int64  \n",
      " 8   month           244175 non-null  object \n",
      "dtypes: float64(3), int64(1), object(5)\n",
      "memory usage: 16.8+ MB\n"
     ]
    }
   ],
   "source": [
    "df.info()"
   ]
  },
  {
   "cell_type": "code",
   "execution_count": 6,
   "id": "26656d7a",
   "metadata": {},
   "outputs": [
    {
     "data": {
      "text/plain": [
       "array(['Crash Service', 'Traffic Hazard', 'VEHICLE FIRE',\n",
       "       'Injury/Fatality', 'Stalled Vehicle', 'COLLISION',\n",
       "       'LOOSE LIVESTOCK', 'Traffic Impediment'], dtype=object)"
      ]
     },
     "execution_count": 6,
     "metadata": {},
     "output_type": "execute_result"
    }
   ],
   "source": [
    "df['issue_reported'].unique()"
   ]
  },
  {
   "cell_type": "markdown",
   "id": "7d96c9b3",
   "metadata": {},
   "source": [
    "#  Use Label Encoder for categorical data we are trying to predict\n",
    "Trying to predict the \"issue_reported\" involves transforming the column using LabelEncoder(). Then a quick check to ensure the numbers line up like before."
   ]
  },
  {
   "cell_type": "code",
   "execution_count": 7,
   "id": "2a36eedc",
   "metadata": {},
   "outputs": [
    {
     "data": {
      "text/html": [
       "<div>\n",
       "<style scoped>\n",
       "    .dataframe tbody tr th:only-of-type {\n",
       "        vertical-align: middle;\n",
       "    }\n",
       "\n",
       "    .dataframe tbody tr th {\n",
       "        vertical-align: top;\n",
       "    }\n",
       "\n",
       "    .dataframe thead th {\n",
       "        text-align: right;\n",
       "    }\n",
       "</style>\n",
       "<table border=\"1\" class=\"dataframe\">\n",
       "  <thead>\n",
       "    <tr style=\"text-align: right;\">\n",
       "      <th></th>\n",
       "      <th>published_date</th>\n",
       "      <th>issue_reported</th>\n",
       "      <th>Latitude</th>\n",
       "      <th>Longitude</th>\n",
       "      <th>issue_timespan</th>\n",
       "      <th>geometry</th>\n",
       "      <th>day</th>\n",
       "      <th>hour</th>\n",
       "      <th>month</th>\n",
       "    </tr>\n",
       "  </thead>\n",
       "  <tbody>\n",
       "    <tr>\n",
       "      <th>0</th>\n",
       "      <td>2018-06-13 06:35:59+00:00</td>\n",
       "      <td>1</td>\n",
       "      <td>30.283797</td>\n",
       "      <td>-97.741906</td>\n",
       "      <td>144.066667</td>\n",
       "      <td>POINT (-97.741906 30.283797)</td>\n",
       "      <td>wed</td>\n",
       "      <td>6</td>\n",
       "      <td>jun</td>\n",
       "    </tr>\n",
       "    <tr>\n",
       "      <th>1</th>\n",
       "      <td>2018-06-13 10:15:36+00:00</td>\n",
       "      <td>5</td>\n",
       "      <td>30.339593</td>\n",
       "      <td>-97.700963</td>\n",
       "      <td>64.450000</td>\n",
       "      <td>POINT (-97.700963 30.339593)</td>\n",
       "      <td>wed</td>\n",
       "      <td>10</td>\n",
       "      <td>jun</td>\n",
       "    </tr>\n",
       "    <tr>\n",
       "      <th>2</th>\n",
       "      <td>2020-04-17 21:25:03+00:00</td>\n",
       "      <td>1</td>\n",
       "      <td>30.329455</td>\n",
       "      <td>-97.638105</td>\n",
       "      <td>30.000000</td>\n",
       "      <td>POINT (-97.638105 30.329455)</td>\n",
       "      <td>fri</td>\n",
       "      <td>21</td>\n",
       "      <td>apr</td>\n",
       "    </tr>\n",
       "    <tr>\n",
       "      <th>3</th>\n",
       "      <td>2020-04-17 21:40:52+00:00</td>\n",
       "      <td>5</td>\n",
       "      <td>30.202806</td>\n",
       "      <td>-97.760701</td>\n",
       "      <td>14.183333</td>\n",
       "      <td>POINT (-97.760701 30.202806)</td>\n",
       "      <td>fri</td>\n",
       "      <td>21</td>\n",
       "      <td>apr</td>\n",
       "    </tr>\n",
       "    <tr>\n",
       "      <th>4</th>\n",
       "      <td>2020-04-17 21:00:55+00:00</td>\n",
       "      <td>1</td>\n",
       "      <td>30.184265</td>\n",
       "      <td>-97.687339</td>\n",
       "      <td>149.150000</td>\n",
       "      <td>POINT (-97.68733899999999 30.184265)</td>\n",
       "      <td>fri</td>\n",
       "      <td>21</td>\n",
       "      <td>apr</td>\n",
       "    </tr>\n",
       "  </tbody>\n",
       "</table>\n",
       "</div>"
      ],
      "text/plain": [
       "              published_date  issue_reported   Latitude  Longitude  \\\n",
       "0  2018-06-13 06:35:59+00:00               1  30.283797 -97.741906   \n",
       "1  2018-06-13 10:15:36+00:00               5  30.339593 -97.700963   \n",
       "2  2020-04-17 21:25:03+00:00               1  30.329455 -97.638105   \n",
       "3  2020-04-17 21:40:52+00:00               5  30.202806 -97.760701   \n",
       "4  2020-04-17 21:00:55+00:00               1  30.184265 -97.687339   \n",
       "\n",
       "   issue_timespan                              geometry  day  hour month  \n",
       "0      144.066667          POINT (-97.741906 30.283797)  wed     6   jun  \n",
       "1       64.450000          POINT (-97.700963 30.339593)  wed    10   jun  \n",
       "2       30.000000          POINT (-97.638105 30.329455)  fri    21   apr  \n",
       "3       14.183333          POINT (-97.760701 30.202806)  fri    21   apr  \n",
       "4      149.150000  POINT (-97.68733899999999 30.184265)  fri    21   apr  "
      ]
     },
     "execution_count": 7,
     "metadata": {},
     "output_type": "execute_result"
    }
   ],
   "source": [
    "le = LabelEncoder()\n",
    "df['issue_reported']=le.fit_transform(df['issue_reported'])\n",
    "df.head()"
   ]
  },
  {
   "cell_type": "code",
   "execution_count": 8,
   "id": "ac6a9210",
   "metadata": {},
   "outputs": [
    {
     "name": "stdout",
     "output_type": "stream",
     "text": [
      "<class 'pandas.core.frame.DataFrame'>\n",
      "RangeIndex: 244175 entries, 0 to 244174\n",
      "Data columns (total 9 columns):\n",
      " #   Column          Non-Null Count   Dtype  \n",
      "---  ------          --------------   -----  \n",
      " 0   published_date  244175 non-null  object \n",
      " 1   issue_reported  244175 non-null  int64  \n",
      " 2   Latitude        244175 non-null  float64\n",
      " 3   Longitude       244175 non-null  float64\n",
      " 4   issue_timespan  244175 non-null  float64\n",
      " 5   geometry        244175 non-null  object \n",
      " 6   day             244175 non-null  object \n",
      " 7   hour            244175 non-null  int64  \n",
      " 8   month           244175 non-null  object \n",
      "dtypes: float64(3), int64(2), object(4)\n",
      "memory usage: 16.8+ MB\n"
     ]
    }
   ],
   "source": [
    "df.info()"
   ]
  },
  {
   "cell_type": "code",
   "execution_count": 9,
   "id": "81785191",
   "metadata": {},
   "outputs": [
    {
     "data": {
      "text/plain": [
       "array([1, 5, 7, 2, 4, 0, 3, 6])"
      ]
     },
     "execution_count": 9,
     "metadata": {},
     "output_type": "execute_result"
    }
   ],
   "source": [
    "df['issue_reported'].unique()"
   ]
  },
  {
   "cell_type": "code",
   "execution_count": 10,
   "id": "afc90c49",
   "metadata": {},
   "outputs": [
    {
     "data": {
      "text/plain": [
       "1    93808\n",
       "5    93012\n",
       "0    26679\n",
       "4    11965\n",
       "2     6016\n",
       "6     5982\n",
       "3     5914\n",
       "7      799\n",
       "Name: issue_reported, dtype: int64"
      ]
     },
     "execution_count": 10,
     "metadata": {},
     "output_type": "execute_result"
    }
   ],
   "source": [
    "df['issue_reported'].value_counts()"
   ]
  },
  {
   "cell_type": "code",
   "execution_count": 12,
   "id": "604e9337",
   "metadata": {},
   "outputs": [
    {
     "data": {
      "text/plain": [
       "issue_reported\n",
       "0     57.598691\n",
       "1     93.988209\n",
       "2     86.607976\n",
       "3     59.923633\n",
       "4     49.886431\n",
       "5     55.926763\n",
       "6    111.492700\n",
       "7     61.731227\n",
       "Name: issue_timespan, dtype: float64"
      ]
     },
     "execution_count": 12,
     "metadata": {},
     "output_type": "execute_result"
    }
   ],
   "source": [
    "avg_issue = df.groupby('issue_reported').mean()\n",
    "avg_issue_span = avg_issue.issue_timespan\n",
    "avg_issue_span"
   ]
  },
  {
   "cell_type": "code",
   "execution_count": 13,
   "id": "0710b073",
   "metadata": {},
   "outputs": [
    {
     "data": {
      "text/plain": [
       "issue_reported\n",
       "0    37.750000\n",
       "1    67.000000\n",
       "2    55.525000\n",
       "3    34.000000\n",
       "4    24.716667\n",
       "5    28.500000\n",
       "6    46.508333\n",
       "7    34.583333\n",
       "Name: issue_timespan, dtype: float64"
      ]
     },
     "execution_count": 13,
     "metadata": {},
     "output_type": "execute_result"
    }
   ],
   "source": [
    "median_issue = df.groupby('issue_reported').median()\n",
    "median_issue_span = median_issue.issue_timespan\n",
    "median_issue_span"
   ]
  },
  {
   "cell_type": "code",
   "execution_count": 14,
   "id": "17b150e9",
   "metadata": {},
   "outputs": [
    {
     "ename": "KeyError",
     "evalue": "'region'",
     "output_type": "error",
     "traceback": [
      "\u001b[0;31m---------------------------------------------------------------------------\u001b[0m",
      "\u001b[0;31mKeyError\u001b[0m                                  Traceback (most recent call last)",
      "\u001b[0;32m~/opt/anaconda3/envs/Springboard/lib/python3.8/site-packages/pandas/core/indexes/base.py\u001b[0m in \u001b[0;36mget_loc\u001b[0;34m(self, key, method, tolerance)\u001b[0m\n\u001b[1;32m   3360\u001b[0m             \u001b[0;32mtry\u001b[0m\u001b[0;34m:\u001b[0m\u001b[0;34m\u001b[0m\u001b[0;34m\u001b[0m\u001b[0m\n\u001b[0;32m-> 3361\u001b[0;31m                 \u001b[0;32mreturn\u001b[0m \u001b[0mself\u001b[0m\u001b[0;34m.\u001b[0m\u001b[0m_engine\u001b[0m\u001b[0;34m.\u001b[0m\u001b[0mget_loc\u001b[0m\u001b[0;34m(\u001b[0m\u001b[0mcasted_key\u001b[0m\u001b[0;34m)\u001b[0m\u001b[0;34m\u001b[0m\u001b[0;34m\u001b[0m\u001b[0m\n\u001b[0m\u001b[1;32m   3362\u001b[0m             \u001b[0;32mexcept\u001b[0m \u001b[0mKeyError\u001b[0m \u001b[0;32mas\u001b[0m \u001b[0merr\u001b[0m\u001b[0;34m:\u001b[0m\u001b[0;34m\u001b[0m\u001b[0;34m\u001b[0m\u001b[0m\n",
      "\u001b[0;32m~/opt/anaconda3/envs/Springboard/lib/python3.8/site-packages/pandas/_libs/index.pyx\u001b[0m in \u001b[0;36mpandas._libs.index.IndexEngine.get_loc\u001b[0;34m()\u001b[0m\n",
      "\u001b[0;32m~/opt/anaconda3/envs/Springboard/lib/python3.8/site-packages/pandas/_libs/index.pyx\u001b[0m in \u001b[0;36mpandas._libs.index.IndexEngine.get_loc\u001b[0;34m()\u001b[0m\n",
      "\u001b[0;32mpandas/_libs/hashtable_class_helper.pxi\u001b[0m in \u001b[0;36mpandas._libs.hashtable.PyObjectHashTable.get_item\u001b[0;34m()\u001b[0m\n",
      "\u001b[0;32mpandas/_libs/hashtable_class_helper.pxi\u001b[0m in \u001b[0;36mpandas._libs.hashtable.PyObjectHashTable.get_item\u001b[0;34m()\u001b[0m\n",
      "\u001b[0;31mKeyError\u001b[0m: 'region'",
      "\nThe above exception was the direct cause of the following exception:\n",
      "\u001b[0;31mKeyError\u001b[0m                                  Traceback (most recent call last)",
      "\u001b[0;32m/var/folders/d2/b8_107b155z0478lwpx5ssrr0000gp/T/ipykernel_9633/3184594246.py\u001b[0m in \u001b[0;36m<module>\u001b[0;34m\u001b[0m\n\u001b[0;32m----> 1\u001b[0;31m \u001b[0mdf\u001b[0m\u001b[0;34m[\u001b[0m\u001b[0;34m'region'\u001b[0m\u001b[0;34m]\u001b[0m\u001b[0;34m.\u001b[0m\u001b[0mvalue_counts\u001b[0m\u001b[0;34m(\u001b[0m\u001b[0;34m)\u001b[0m\u001b[0;34m\u001b[0m\u001b[0;34m\u001b[0m\u001b[0m\n\u001b[0m",
      "\u001b[0;32m~/opt/anaconda3/envs/Springboard/lib/python3.8/site-packages/pandas/core/frame.py\u001b[0m in \u001b[0;36m__getitem__\u001b[0;34m(self, key)\u001b[0m\n\u001b[1;32m   3456\u001b[0m             \u001b[0;32mif\u001b[0m \u001b[0mself\u001b[0m\u001b[0;34m.\u001b[0m\u001b[0mcolumns\u001b[0m\u001b[0;34m.\u001b[0m\u001b[0mnlevels\u001b[0m \u001b[0;34m>\u001b[0m \u001b[0;36m1\u001b[0m\u001b[0;34m:\u001b[0m\u001b[0;34m\u001b[0m\u001b[0;34m\u001b[0m\u001b[0m\n\u001b[1;32m   3457\u001b[0m                 \u001b[0;32mreturn\u001b[0m \u001b[0mself\u001b[0m\u001b[0;34m.\u001b[0m\u001b[0m_getitem_multilevel\u001b[0m\u001b[0;34m(\u001b[0m\u001b[0mkey\u001b[0m\u001b[0;34m)\u001b[0m\u001b[0;34m\u001b[0m\u001b[0;34m\u001b[0m\u001b[0m\n\u001b[0;32m-> 3458\u001b[0;31m             \u001b[0mindexer\u001b[0m \u001b[0;34m=\u001b[0m \u001b[0mself\u001b[0m\u001b[0;34m.\u001b[0m\u001b[0mcolumns\u001b[0m\u001b[0;34m.\u001b[0m\u001b[0mget_loc\u001b[0m\u001b[0;34m(\u001b[0m\u001b[0mkey\u001b[0m\u001b[0;34m)\u001b[0m\u001b[0;34m\u001b[0m\u001b[0;34m\u001b[0m\u001b[0m\n\u001b[0m\u001b[1;32m   3459\u001b[0m             \u001b[0;32mif\u001b[0m \u001b[0mis_integer\u001b[0m\u001b[0;34m(\u001b[0m\u001b[0mindexer\u001b[0m\u001b[0;34m)\u001b[0m\u001b[0;34m:\u001b[0m\u001b[0;34m\u001b[0m\u001b[0;34m\u001b[0m\u001b[0m\n\u001b[1;32m   3460\u001b[0m                 \u001b[0mindexer\u001b[0m \u001b[0;34m=\u001b[0m \u001b[0;34m[\u001b[0m\u001b[0mindexer\u001b[0m\u001b[0;34m]\u001b[0m\u001b[0;34m\u001b[0m\u001b[0;34m\u001b[0m\u001b[0m\n",
      "\u001b[0;32m~/opt/anaconda3/envs/Springboard/lib/python3.8/site-packages/pandas/core/indexes/base.py\u001b[0m in \u001b[0;36mget_loc\u001b[0;34m(self, key, method, tolerance)\u001b[0m\n\u001b[1;32m   3361\u001b[0m                 \u001b[0;32mreturn\u001b[0m \u001b[0mself\u001b[0m\u001b[0;34m.\u001b[0m\u001b[0m_engine\u001b[0m\u001b[0;34m.\u001b[0m\u001b[0mget_loc\u001b[0m\u001b[0;34m(\u001b[0m\u001b[0mcasted_key\u001b[0m\u001b[0;34m)\u001b[0m\u001b[0;34m\u001b[0m\u001b[0;34m\u001b[0m\u001b[0m\n\u001b[1;32m   3362\u001b[0m             \u001b[0;32mexcept\u001b[0m \u001b[0mKeyError\u001b[0m \u001b[0;32mas\u001b[0m \u001b[0merr\u001b[0m\u001b[0;34m:\u001b[0m\u001b[0;34m\u001b[0m\u001b[0;34m\u001b[0m\u001b[0m\n\u001b[0;32m-> 3363\u001b[0;31m                 \u001b[0;32mraise\u001b[0m \u001b[0mKeyError\u001b[0m\u001b[0;34m(\u001b[0m\u001b[0mkey\u001b[0m\u001b[0;34m)\u001b[0m \u001b[0;32mfrom\u001b[0m \u001b[0merr\u001b[0m\u001b[0;34m\u001b[0m\u001b[0;34m\u001b[0m\u001b[0m\n\u001b[0m\u001b[1;32m   3364\u001b[0m \u001b[0;34m\u001b[0m\u001b[0m\n\u001b[1;32m   3365\u001b[0m         \u001b[0;32mif\u001b[0m \u001b[0mis_scalar\u001b[0m\u001b[0;34m(\u001b[0m\u001b[0mkey\u001b[0m\u001b[0;34m)\u001b[0m \u001b[0;32mand\u001b[0m \u001b[0misna\u001b[0m\u001b[0;34m(\u001b[0m\u001b[0mkey\u001b[0m\u001b[0;34m)\u001b[0m \u001b[0;32mand\u001b[0m \u001b[0;32mnot\u001b[0m \u001b[0mself\u001b[0m\u001b[0;34m.\u001b[0m\u001b[0mhasnans\u001b[0m\u001b[0;34m:\u001b[0m\u001b[0;34m\u001b[0m\u001b[0;34m\u001b[0m\u001b[0m\n",
      "\u001b[0;31mKeyError\u001b[0m: 'region'"
     ]
    }
   ],
   "source": [
    "df['region'].value_counts()"
   ]
  },
  {
   "cell_type": "markdown",
   "id": "c7d7cf2e",
   "metadata": {},
   "source": [
    "## Apply LabelEncoder on the new categorical column 'region'."
   ]
  },
  {
   "cell_type": "code",
   "execution_count": 164,
   "id": "d4fa3505",
   "metadata": {},
   "outputs": [
    {
     "data": {
      "text/html": [
       "<div>\n",
       "<style scoped>\n",
       "    .dataframe tbody tr th:only-of-type {\n",
       "        vertical-align: middle;\n",
       "    }\n",
       "\n",
       "    .dataframe tbody tr th {\n",
       "        vertical-align: top;\n",
       "    }\n",
       "\n",
       "    .dataframe thead th {\n",
       "        text-align: right;\n",
       "    }\n",
       "</style>\n",
       "<table border=\"1\" class=\"dataframe\">\n",
       "  <thead>\n",
       "    <tr style=\"text-align: right;\">\n",
       "      <th></th>\n",
       "      <th>issue_reported</th>\n",
       "      <th>Latitude</th>\n",
       "      <th>Longitude</th>\n",
       "      <th>day</th>\n",
       "      <th>timespan_min</th>\n",
       "      <th>hour</th>\n",
       "      <th>month</th>\n",
       "      <th>region</th>\n",
       "      <th>lat_from_cntr</th>\n",
       "      <th>lon_from_cntr</th>\n",
       "      <th>dist_from_cntr</th>\n",
       "    </tr>\n",
       "  </thead>\n",
       "  <tbody>\n",
       "    <tr>\n",
       "      <th>0</th>\n",
       "      <td>2</td>\n",
       "      <td>30.283797</td>\n",
       "      <td>-97.741906</td>\n",
       "      <td>2</td>\n",
       "      <td>144.066667</td>\n",
       "      <td>6</td>\n",
       "      <td>6</td>\n",
       "      <td>2</td>\n",
       "      <td>-0.016597</td>\n",
       "      <td>-0.001194</td>\n",
       "      <td>1.849061</td>\n",
       "    </tr>\n",
       "    <tr>\n",
       "      <th>1</th>\n",
       "      <td>5</td>\n",
       "      <td>30.339593</td>\n",
       "      <td>-97.700963</td>\n",
       "      <td>2</td>\n",
       "      <td>64.450000</td>\n",
       "      <td>10</td>\n",
       "      <td>6</td>\n",
       "      <td>8</td>\n",
       "      <td>-0.072393</td>\n",
       "      <td>-0.042137</td>\n",
       "      <td>9.009002</td>\n",
       "    </tr>\n",
       "    <tr>\n",
       "      <th>2</th>\n",
       "      <td>2</td>\n",
       "      <td>30.329455</td>\n",
       "      <td>-97.638105</td>\n",
       "      <td>4</td>\n",
       "      <td>30.000000</td>\n",
       "      <td>21</td>\n",
       "      <td>4</td>\n",
       "      <td>6</td>\n",
       "      <td>-0.062255</td>\n",
       "      <td>-0.104995</td>\n",
       "      <td>12.228301</td>\n",
       "    </tr>\n",
       "    <tr>\n",
       "      <th>3</th>\n",
       "      <td>5</td>\n",
       "      <td>30.202806</td>\n",
       "      <td>-97.760701</td>\n",
       "      <td>4</td>\n",
       "      <td>14.183333</td>\n",
       "      <td>21</td>\n",
       "      <td>4</td>\n",
       "      <td>11</td>\n",
       "      <td>0.064394</td>\n",
       "      <td>0.017601</td>\n",
       "      <td>7.357232</td>\n",
       "    </tr>\n",
       "    <tr>\n",
       "      <th>4</th>\n",
       "      <td>2</td>\n",
       "      <td>30.184265</td>\n",
       "      <td>-97.687339</td>\n",
       "      <td>4</td>\n",
       "      <td>149.150000</td>\n",
       "      <td>21</td>\n",
       "      <td>4</td>\n",
       "      <td>10</td>\n",
       "      <td>0.082935</td>\n",
       "      <td>-0.055761</td>\n",
       "      <td>10.665180</td>\n",
       "    </tr>\n",
       "  </tbody>\n",
       "</table>\n",
       "</div>"
      ],
      "text/plain": [
       "   issue_reported   Latitude  Longitude  day  timespan_min  hour  month  \\\n",
       "0               2  30.283797 -97.741906    2    144.066667     6      6   \n",
       "1               5  30.339593 -97.700963    2     64.450000    10      6   \n",
       "2               2  30.329455 -97.638105    4     30.000000    21      4   \n",
       "3               5  30.202806 -97.760701    4     14.183333    21      4   \n",
       "4               2  30.184265 -97.687339    4    149.150000    21      4   \n",
       "\n",
       "   region  lat_from_cntr  lon_from_cntr  dist_from_cntr  \n",
       "0       2      -0.016597      -0.001194        1.849061  \n",
       "1       8      -0.072393      -0.042137        9.009002  \n",
       "2       6      -0.062255      -0.104995       12.228301  \n",
       "3      11       0.064394       0.017601        7.357232  \n",
       "4      10       0.082935      -0.055761       10.665180  "
      ]
     },
     "execution_count": 164,
     "metadata": {},
     "output_type": "execute_result"
    }
   ],
   "source": [
    "le2 = LabelEncoder()\n",
    "df['region']=le2.fit_transform(df['region'])\n",
    "df.head()"
   ]
  },
  {
   "cell_type": "markdown",
   "id": "6746b6bd",
   "metadata": {},
   "source": [
    "### Drop \"Latitude\" and \"Longitude\""
   ]
  },
  {
   "cell_type": "code",
   "execution_count": 165,
   "id": "6616e839",
   "metadata": {},
   "outputs": [
    {
     "data": {
      "text/html": [
       "<div>\n",
       "<style scoped>\n",
       "    .dataframe tbody tr th:only-of-type {\n",
       "        vertical-align: middle;\n",
       "    }\n",
       "\n",
       "    .dataframe tbody tr th {\n",
       "        vertical-align: top;\n",
       "    }\n",
       "\n",
       "    .dataframe thead th {\n",
       "        text-align: right;\n",
       "    }\n",
       "</style>\n",
       "<table border=\"1\" class=\"dataframe\">\n",
       "  <thead>\n",
       "    <tr style=\"text-align: right;\">\n",
       "      <th></th>\n",
       "      <th>issue_reported</th>\n",
       "      <th>day</th>\n",
       "      <th>timespan_min</th>\n",
       "      <th>hour</th>\n",
       "      <th>month</th>\n",
       "      <th>region</th>\n",
       "      <th>lat_from_cntr</th>\n",
       "      <th>lon_from_cntr</th>\n",
       "      <th>dist_from_cntr</th>\n",
       "    </tr>\n",
       "  </thead>\n",
       "  <tbody>\n",
       "    <tr>\n",
       "      <th>0</th>\n",
       "      <td>2</td>\n",
       "      <td>2</td>\n",
       "      <td>144.066667</td>\n",
       "      <td>6</td>\n",
       "      <td>6</td>\n",
       "      <td>2</td>\n",
       "      <td>-0.016597</td>\n",
       "      <td>-0.001194</td>\n",
       "      <td>1.849061</td>\n",
       "    </tr>\n",
       "    <tr>\n",
       "      <th>1</th>\n",
       "      <td>5</td>\n",
       "      <td>2</td>\n",
       "      <td>64.450000</td>\n",
       "      <td>10</td>\n",
       "      <td>6</td>\n",
       "      <td>8</td>\n",
       "      <td>-0.072393</td>\n",
       "      <td>-0.042137</td>\n",
       "      <td>9.009002</td>\n",
       "    </tr>\n",
       "    <tr>\n",
       "      <th>2</th>\n",
       "      <td>2</td>\n",
       "      <td>4</td>\n",
       "      <td>30.000000</td>\n",
       "      <td>21</td>\n",
       "      <td>4</td>\n",
       "      <td>6</td>\n",
       "      <td>-0.062255</td>\n",
       "      <td>-0.104995</td>\n",
       "      <td>12.228301</td>\n",
       "    </tr>\n",
       "    <tr>\n",
       "      <th>3</th>\n",
       "      <td>5</td>\n",
       "      <td>4</td>\n",
       "      <td>14.183333</td>\n",
       "      <td>21</td>\n",
       "      <td>4</td>\n",
       "      <td>11</td>\n",
       "      <td>0.064394</td>\n",
       "      <td>0.017601</td>\n",
       "      <td>7.357232</td>\n",
       "    </tr>\n",
       "    <tr>\n",
       "      <th>4</th>\n",
       "      <td>2</td>\n",
       "      <td>4</td>\n",
       "      <td>149.150000</td>\n",
       "      <td>21</td>\n",
       "      <td>4</td>\n",
       "      <td>10</td>\n",
       "      <td>0.082935</td>\n",
       "      <td>-0.055761</td>\n",
       "      <td>10.665180</td>\n",
       "    </tr>\n",
       "  </tbody>\n",
       "</table>\n",
       "</div>"
      ],
      "text/plain": [
       "   issue_reported  day  timespan_min  hour  month  region  lat_from_cntr  \\\n",
       "0               2    2    144.066667     6      6       2      -0.016597   \n",
       "1               5    2     64.450000    10      6       8      -0.072393   \n",
       "2               2    4     30.000000    21      4       6      -0.062255   \n",
       "3               5    4     14.183333    21      4      11       0.064394   \n",
       "4               2    4    149.150000    21      4      10       0.082935   \n",
       "\n",
       "   lon_from_cntr  dist_from_cntr  \n",
       "0      -0.001194        1.849061  \n",
       "1      -0.042137        9.009002  \n",
       "2      -0.104995       12.228301  \n",
       "3       0.017601        7.357232  \n",
       "4      -0.055761       10.665180  "
      ]
     },
     "execution_count": 165,
     "metadata": {},
     "output_type": "execute_result"
    }
   ],
   "source": [
    "df = df.drop(columns=['Latitude', 'Longitude'])\n",
    "df.head()"
   ]
  },
  {
   "cell_type": "raw",
   "id": "8d4af752",
   "metadata": {},
   "source": []
  },
  {
   "cell_type": "code",
   "execution_count": null,
   "id": "50a9d8fc",
   "metadata": {},
   "outputs": [],
   "source": []
  },
  {
   "cell_type": "markdown",
   "id": "dbb786ec",
   "metadata": {},
   "source": [
    "## Scaling Timespan and Latitude/Longitude Features\n",
    "First, create a series variable using .values"
   ]
  },
  {
   "cell_type": "code",
   "execution_count": 166,
   "id": "5150aa8d",
   "metadata": {},
   "outputs": [],
   "source": [
    "series1 = df.timespan_min.values\n",
    "series2 = df.dist_from_cntr.values\n",
    "series3 = df.lat_from_cntr.values\n",
    "series4 = df.lon_from_cntr.values"
   ]
  },
  {
   "cell_type": "markdown",
   "id": "ac737b05",
   "metadata": {},
   "source": [
    "Then reshape the series to scale it as 2D arrays"
   ]
  },
  {
   "cell_type": "code",
   "execution_count": 167,
   "id": "acce04bb",
   "metadata": {},
   "outputs": [],
   "source": [
    "series1 = series1.reshape(-1,1)"
   ]
  },
  {
   "cell_type": "code",
   "execution_count": 168,
   "id": "cc83288f",
   "metadata": {},
   "outputs": [],
   "source": [
    "series2 = series2.reshape(-1,1)"
   ]
  },
  {
   "cell_type": "code",
   "execution_count": 169,
   "id": "b12761f1",
   "metadata": {},
   "outputs": [],
   "source": [
    "series3 = series3.reshape(-1,1)"
   ]
  },
  {
   "cell_type": "code",
   "execution_count": 170,
   "id": "4f62d9fa",
   "metadata": {},
   "outputs": [],
   "source": [
    "series4 = series4.reshape(-1,1)"
   ]
  },
  {
   "cell_type": "code",
   "execution_count": 171,
   "id": "19f09ae4",
   "metadata": {},
   "outputs": [],
   "source": [
    "scaler = StandardScaler()"
   ]
  },
  {
   "cell_type": "markdown",
   "id": "c6f1d8d7",
   "metadata": {},
   "source": [
    "Then create new columns for for each of the series."
   ]
  },
  {
   "cell_type": "code",
   "execution_count": 172,
   "id": "6f04b81e",
   "metadata": {},
   "outputs": [],
   "source": [
    "df['scaled_timespan'] = scaler.fit_transform(series1)"
   ]
  },
  {
   "cell_type": "code",
   "execution_count": 173,
   "id": "61b87f47",
   "metadata": {},
   "outputs": [],
   "source": [
    "df['scaled_dist'] = scaler.fit_transform(series2)"
   ]
  },
  {
   "cell_type": "code",
   "execution_count": 174,
   "id": "185bad02",
   "metadata": {},
   "outputs": [],
   "source": [
    "df['scaled_lat_dist'] = scaler.fit_transform(series3)"
   ]
  },
  {
   "cell_type": "code",
   "execution_count": 175,
   "id": "f62de8ca",
   "metadata": {},
   "outputs": [],
   "source": [
    "df['scaled_lon_dist'] = scaler.fit_transform(series4)"
   ]
  },
  {
   "cell_type": "code",
   "execution_count": 176,
   "id": "fe5864fd",
   "metadata": {},
   "outputs": [
    {
     "data": {
      "text/html": [
       "<div>\n",
       "<style scoped>\n",
       "    .dataframe tbody tr th:only-of-type {\n",
       "        vertical-align: middle;\n",
       "    }\n",
       "\n",
       "    .dataframe tbody tr th {\n",
       "        vertical-align: top;\n",
       "    }\n",
       "\n",
       "    .dataframe thead th {\n",
       "        text-align: right;\n",
       "    }\n",
       "</style>\n",
       "<table border=\"1\" class=\"dataframe\">\n",
       "  <thead>\n",
       "    <tr style=\"text-align: right;\">\n",
       "      <th></th>\n",
       "      <th>issue_reported</th>\n",
       "      <th>day</th>\n",
       "      <th>timespan_min</th>\n",
       "      <th>hour</th>\n",
       "      <th>month</th>\n",
       "      <th>region</th>\n",
       "      <th>lat_from_cntr</th>\n",
       "      <th>lon_from_cntr</th>\n",
       "      <th>dist_from_cntr</th>\n",
       "      <th>scaled_timespan</th>\n",
       "      <th>scaled_dist</th>\n",
       "      <th>scaled_lat_dist</th>\n",
       "      <th>scaled_lon_dist</th>\n",
       "    </tr>\n",
       "  </thead>\n",
       "  <tbody>\n",
       "    <tr>\n",
       "      <th>0</th>\n",
       "      <td>2</td>\n",
       "      <td>2</td>\n",
       "      <td>144.066667</td>\n",
       "      <td>6</td>\n",
       "      <td>6</td>\n",
       "      <td>2</td>\n",
       "      <td>-0.016597</td>\n",
       "      <td>-0.001194</td>\n",
       "      <td>1.849061</td>\n",
       "      <td>2.378811</td>\n",
       "      <td>-1.366489</td>\n",
       "      <td>0.187527</td>\n",
       "      <td>0.099986</td>\n",
       "    </tr>\n",
       "    <tr>\n",
       "      <th>1</th>\n",
       "      <td>5</td>\n",
       "      <td>2</td>\n",
       "      <td>64.450000</td>\n",
       "      <td>10</td>\n",
       "      <td>6</td>\n",
       "      <td>8</td>\n",
       "      <td>-0.072393</td>\n",
       "      <td>-0.042137</td>\n",
       "      <td>9.009002</td>\n",
       "      <td>0.372551</td>\n",
       "      <td>-0.392271</td>\n",
       "      <td>-0.405543</td>\n",
       "      <td>-0.367876</td>\n",
       "    </tr>\n",
       "    <tr>\n",
       "      <th>2</th>\n",
       "      <td>2</td>\n",
       "      <td>4</td>\n",
       "      <td>30.000000</td>\n",
       "      <td>21</td>\n",
       "      <td>4</td>\n",
       "      <td>6</td>\n",
       "      <td>-0.062255</td>\n",
       "      <td>-0.104995</td>\n",
       "      <td>12.228301</td>\n",
       "      <td>-0.495554</td>\n",
       "      <td>0.045764</td>\n",
       "      <td>-0.297783</td>\n",
       "      <td>-1.086165</td>\n",
       "    </tr>\n",
       "    <tr>\n",
       "      <th>3</th>\n",
       "      <td>5</td>\n",
       "      <td>4</td>\n",
       "      <td>14.183333</td>\n",
       "      <td>21</td>\n",
       "      <td>4</td>\n",
       "      <td>11</td>\n",
       "      <td>0.064394</td>\n",
       "      <td>0.017601</td>\n",
       "      <td>7.357232</td>\n",
       "      <td>-0.894118</td>\n",
       "      <td>-0.617019</td>\n",
       "      <td>1.048402</td>\n",
       "      <td>0.314760</td>\n",
       "    </tr>\n",
       "    <tr>\n",
       "      <th>4</th>\n",
       "      <td>2</td>\n",
       "      <td>4</td>\n",
       "      <td>149.150000</td>\n",
       "      <td>21</td>\n",
       "      <td>4</td>\n",
       "      <td>10</td>\n",
       "      <td>0.082935</td>\n",
       "      <td>-0.055761</td>\n",
       "      <td>10.665180</td>\n",
       "      <td>2.506905</td>\n",
       "      <td>-0.166922</td>\n",
       "      <td>1.245479</td>\n",
       "      <td>-0.523560</td>\n",
       "    </tr>\n",
       "  </tbody>\n",
       "</table>\n",
       "</div>"
      ],
      "text/plain": [
       "   issue_reported  day  timespan_min  hour  month  region  lat_from_cntr  \\\n",
       "0               2    2    144.066667     6      6       2      -0.016597   \n",
       "1               5    2     64.450000    10      6       8      -0.072393   \n",
       "2               2    4     30.000000    21      4       6      -0.062255   \n",
       "3               5    4     14.183333    21      4      11       0.064394   \n",
       "4               2    4    149.150000    21      4      10       0.082935   \n",
       "\n",
       "   lon_from_cntr  dist_from_cntr  scaled_timespan  scaled_dist  \\\n",
       "0      -0.001194        1.849061         2.378811    -1.366489   \n",
       "1      -0.042137        9.009002         0.372551    -0.392271   \n",
       "2      -0.104995       12.228301        -0.495554     0.045764   \n",
       "3       0.017601        7.357232        -0.894118    -0.617019   \n",
       "4      -0.055761       10.665180         2.506905    -0.166922   \n",
       "\n",
       "   scaled_lat_dist  scaled_lon_dist  \n",
       "0         0.187527         0.099986  \n",
       "1        -0.405543        -0.367876  \n",
       "2        -0.297783        -1.086165  \n",
       "3         1.048402         0.314760  \n",
       "4         1.245479        -0.523560  "
      ]
     },
     "execution_count": 176,
     "metadata": {},
     "output_type": "execute_result"
    }
   ],
   "source": [
    "\n",
    "df.head()"
   ]
  },
  {
   "cell_type": "markdown",
   "id": "e3abeb28",
   "metadata": {},
   "source": [
    "## One Hot Encoding the Categorical Variables"
   ]
  },
  {
   "cell_type": "code",
   "execution_count": 177,
   "id": "098a1a38",
   "metadata": {},
   "outputs": [],
   "source": [
    "dummies = pd.get_dummies(df, columns=['day','hour','month','region'])"
   ]
  },
  {
   "cell_type": "code",
   "execution_count": 178,
   "id": "93abcc0d",
   "metadata": {},
   "outputs": [],
   "source": [
    "dummies = dummies.drop(columns=['issue_reported', 'timespan_min', 'dist_from_cntr', 'lat_from_cntr', 'lon_from_cntr'])"
   ]
  },
  {
   "cell_type": "code",
   "execution_count": 179,
   "id": "3cfc42f9",
   "metadata": {},
   "outputs": [
    {
     "data": {
      "text/html": [
       "<div>\n",
       "<style scoped>\n",
       "    .dataframe tbody tr th:only-of-type {\n",
       "        vertical-align: middle;\n",
       "    }\n",
       "\n",
       "    .dataframe tbody tr th {\n",
       "        vertical-align: top;\n",
       "    }\n",
       "\n",
       "    .dataframe thead th {\n",
       "        text-align: right;\n",
       "    }\n",
       "</style>\n",
       "<table border=\"1\" class=\"dataframe\">\n",
       "  <thead>\n",
       "    <tr style=\"text-align: right;\">\n",
       "      <th></th>\n",
       "      <th>scaled_timespan</th>\n",
       "      <th>scaled_dist</th>\n",
       "      <th>scaled_lat_dist</th>\n",
       "      <th>scaled_lon_dist</th>\n",
       "      <th>day_0</th>\n",
       "      <th>day_1</th>\n",
       "      <th>day_2</th>\n",
       "      <th>day_3</th>\n",
       "      <th>day_4</th>\n",
       "      <th>day_5</th>\n",
       "      <th>...</th>\n",
       "      <th>region_2</th>\n",
       "      <th>region_3</th>\n",
       "      <th>region_4</th>\n",
       "      <th>region_5</th>\n",
       "      <th>region_6</th>\n",
       "      <th>region_7</th>\n",
       "      <th>region_8</th>\n",
       "      <th>region_9</th>\n",
       "      <th>region_10</th>\n",
       "      <th>region_11</th>\n",
       "    </tr>\n",
       "  </thead>\n",
       "  <tbody>\n",
       "    <tr>\n",
       "      <th>0</th>\n",
       "      <td>2.378811</td>\n",
       "      <td>-1.366489</td>\n",
       "      <td>0.187527</td>\n",
       "      <td>0.099986</td>\n",
       "      <td>0</td>\n",
       "      <td>0</td>\n",
       "      <td>1</td>\n",
       "      <td>0</td>\n",
       "      <td>0</td>\n",
       "      <td>0</td>\n",
       "      <td>...</td>\n",
       "      <td>1</td>\n",
       "      <td>0</td>\n",
       "      <td>0</td>\n",
       "      <td>0</td>\n",
       "      <td>0</td>\n",
       "      <td>0</td>\n",
       "      <td>0</td>\n",
       "      <td>0</td>\n",
       "      <td>0</td>\n",
       "      <td>0</td>\n",
       "    </tr>\n",
       "    <tr>\n",
       "      <th>1</th>\n",
       "      <td>0.372551</td>\n",
       "      <td>-0.392271</td>\n",
       "      <td>-0.405543</td>\n",
       "      <td>-0.367876</td>\n",
       "      <td>0</td>\n",
       "      <td>0</td>\n",
       "      <td>1</td>\n",
       "      <td>0</td>\n",
       "      <td>0</td>\n",
       "      <td>0</td>\n",
       "      <td>...</td>\n",
       "      <td>0</td>\n",
       "      <td>0</td>\n",
       "      <td>0</td>\n",
       "      <td>0</td>\n",
       "      <td>0</td>\n",
       "      <td>0</td>\n",
       "      <td>1</td>\n",
       "      <td>0</td>\n",
       "      <td>0</td>\n",
       "      <td>0</td>\n",
       "    </tr>\n",
       "    <tr>\n",
       "      <th>2</th>\n",
       "      <td>-0.495554</td>\n",
       "      <td>0.045764</td>\n",
       "      <td>-0.297783</td>\n",
       "      <td>-1.086165</td>\n",
       "      <td>0</td>\n",
       "      <td>0</td>\n",
       "      <td>0</td>\n",
       "      <td>0</td>\n",
       "      <td>1</td>\n",
       "      <td>0</td>\n",
       "      <td>...</td>\n",
       "      <td>0</td>\n",
       "      <td>0</td>\n",
       "      <td>0</td>\n",
       "      <td>0</td>\n",
       "      <td>1</td>\n",
       "      <td>0</td>\n",
       "      <td>0</td>\n",
       "      <td>0</td>\n",
       "      <td>0</td>\n",
       "      <td>0</td>\n",
       "    </tr>\n",
       "    <tr>\n",
       "      <th>3</th>\n",
       "      <td>-0.894118</td>\n",
       "      <td>-0.617019</td>\n",
       "      <td>1.048402</td>\n",
       "      <td>0.314760</td>\n",
       "      <td>0</td>\n",
       "      <td>0</td>\n",
       "      <td>0</td>\n",
       "      <td>0</td>\n",
       "      <td>1</td>\n",
       "      <td>0</td>\n",
       "      <td>...</td>\n",
       "      <td>0</td>\n",
       "      <td>0</td>\n",
       "      <td>0</td>\n",
       "      <td>0</td>\n",
       "      <td>0</td>\n",
       "      <td>0</td>\n",
       "      <td>0</td>\n",
       "      <td>0</td>\n",
       "      <td>0</td>\n",
       "      <td>1</td>\n",
       "    </tr>\n",
       "    <tr>\n",
       "      <th>4</th>\n",
       "      <td>2.506905</td>\n",
       "      <td>-0.166922</td>\n",
       "      <td>1.245479</td>\n",
       "      <td>-0.523560</td>\n",
       "      <td>0</td>\n",
       "      <td>0</td>\n",
       "      <td>0</td>\n",
       "      <td>0</td>\n",
       "      <td>1</td>\n",
       "      <td>0</td>\n",
       "      <td>...</td>\n",
       "      <td>0</td>\n",
       "      <td>0</td>\n",
       "      <td>0</td>\n",
       "      <td>0</td>\n",
       "      <td>0</td>\n",
       "      <td>0</td>\n",
       "      <td>0</td>\n",
       "      <td>0</td>\n",
       "      <td>1</td>\n",
       "      <td>0</td>\n",
       "    </tr>\n",
       "  </tbody>\n",
       "</table>\n",
       "<p>5 rows × 59 columns</p>\n",
       "</div>"
      ],
      "text/plain": [
       "   scaled_timespan  scaled_dist  scaled_lat_dist  scaled_lon_dist  day_0  \\\n",
       "0         2.378811    -1.366489         0.187527         0.099986      0   \n",
       "1         0.372551    -0.392271        -0.405543        -0.367876      0   \n",
       "2        -0.495554     0.045764        -0.297783        -1.086165      0   \n",
       "3        -0.894118    -0.617019         1.048402         0.314760      0   \n",
       "4         2.506905    -0.166922         1.245479        -0.523560      0   \n",
       "\n",
       "   day_1  day_2  day_3  day_4  day_5  ...  region_2  region_3  region_4  \\\n",
       "0      0      1      0      0      0  ...         1         0         0   \n",
       "1      0      1      0      0      0  ...         0         0         0   \n",
       "2      0      0      0      1      0  ...         0         0         0   \n",
       "3      0      0      0      1      0  ...         0         0         0   \n",
       "4      0      0      0      1      0  ...         0         0         0   \n",
       "\n",
       "   region_5  region_6  region_7  region_8  region_9  region_10  region_11  \n",
       "0         0         0         0         0         0          0          0  \n",
       "1         0         0         0         1         0          0          0  \n",
       "2         0         1         0         0         0          0          0  \n",
       "3         0         0         0         0         0          0          1  \n",
       "4         0         0         0         0         0          1          0  \n",
       "\n",
       "[5 rows x 59 columns]"
      ]
     },
     "execution_count": 179,
     "metadata": {},
     "output_type": "execute_result"
    }
   ],
   "source": [
    "dummies.head()"
   ]
  },
  {
   "cell_type": "code",
   "execution_count": 180,
   "id": "603cb9d0",
   "metadata": {},
   "outputs": [],
   "source": [
    "X = dummies"
   ]
  },
  {
   "cell_type": "code",
   "execution_count": 181,
   "id": "1b039e7a",
   "metadata": {},
   "outputs": [],
   "source": [
    "\n",
    "y = df.issue_reported"
   ]
  },
  {
   "cell_type": "code",
   "execution_count": 182,
   "id": "d9ee460f",
   "metadata": {},
   "outputs": [
    {
     "data": {
      "text/plain": [
       "(225445, 59)"
      ]
     },
     "execution_count": 182,
     "metadata": {},
     "output_type": "execute_result"
    }
   ],
   "source": [
    "X.shape"
   ]
  },
  {
   "cell_type": "code",
   "execution_count": 183,
   "id": "78aed533",
   "metadata": {},
   "outputs": [
    {
     "data": {
      "text/plain": [
       "(225445,)"
      ]
     },
     "execution_count": 183,
     "metadata": {},
     "output_type": "execute_result"
    }
   ],
   "source": [
    "y.shape"
   ]
  },
  {
   "cell_type": "markdown",
   "id": "c0d7e444",
   "metadata": {},
   "source": [
    "## Train Test Split and Scale"
   ]
  },
  {
   "cell_type": "code",
   "execution_count": 184,
   "id": "972c89ed",
   "metadata": {},
   "outputs": [],
   "source": [
    "X_train, X_test, y_train, y_test = train_test_split(X, y, test_size=0.3, random_state=123)"
   ]
  },
  {
   "cell_type": "code",
   "execution_count": 185,
   "id": "388f5802",
   "metadata": {},
   "outputs": [],
   "source": [
    "X_train = scaler.fit_transform(X_train)\n",
    "X_test = scaler.transform(X_test)"
   ]
  },
  {
   "cell_type": "markdown",
   "id": "7107243d",
   "metadata": {},
   "source": [
    "## Running Default Models and Comparing Algorithms\n",
    "X and y are set so all models can be fit through these two variables. I will fit three models and see which is most accurate. The four models will be KNN, Random Forest and Decision Tree."
   ]
  },
  {
   "cell_type": "code",
   "execution_count": 186,
   "id": "6faeda46",
   "metadata": {},
   "outputs": [],
   "source": [
    "models = []\n",
    "\n",
    "models.append(('RFC', RandomForestClassifier()))\n",
    "#models.append(('KNN', KNeighborsClassifier()))\n",
    "models.append(('NB', GradientBoostingClassifier()))\n"
   ]
  },
  {
   "cell_type": "code",
   "execution_count": 187,
   "id": "46a6d8ac",
   "metadata": {},
   "outputs": [
    {
     "name": "stdout",
     "output_type": "stream",
     "text": [
      "RFC: 0.602409 (0.008281)\n",
      "NB: 0.596500 (0.007244)\n"
     ]
    }
   ],
   "source": [
    "results = []\n",
    "names = []\n",
    "scoring = 'accuracy'\n",
    "for name, model in models:\n",
    "    kfold = model_selection.KFold(n_splits=5, random_state=None)\n",
    "    cv_results = model_selection.cross_val_score(model, X, y, cv=kfold, scoring=scoring)\n",
    "    results.append(cv_results)\n",
    "    names.append(name)\n",
    "    msg = \"%s: %f (%f)\" % (name, cv_results.mean(), cv_results.std())\n",
    "    print(msg)"
   ]
  },
  {
   "cell_type": "code",
   "execution_count": 188,
   "id": "0e679df3",
   "metadata": {},
   "outputs": [
    {
     "data": {
      "image/png": "[encoded data removed]",
      "text/plain": [
       "<Figure size 432x288 with 1 Axes>"
      ]
     },
     "metadata": {
      "needs_background": "light"
     },
     "output_type": "display_data"
    }
   ],
   "source": [
    "fig = plt.figure()\n",
    "fig.suptitle('Algorithm Comparison')\n",
    "ax = fig.add_subplot(111)\n",
    "plt.boxplot(results)\n",
    "ax.set_xticklabels(names)\n",
    "plt.show()"
   ]
  },
  {
   "cell_type": "markdown",
   "id": "120a8c7a",
   "metadata": {},
   "source": [
    "## Random Forest Accuracy and F1 Scores"
   ]
  },
  {
   "cell_type": "code",
   "execution_count": 212,
   "id": "ca99ecbc",
   "metadata": {},
   "outputs": [
    {
     "name": "stdout",
     "output_type": "stream",
     "text": [
      "Random Forest: Accuracy=0.614\n",
      "Random Forest: f1-score=0.594\n",
      "Random Forest: Balanced Accuracy=0.349\n"
     ]
    }
   ],
   "source": [
    "clf = RandomForestClassifier(n_estimators=300, random_state = 1,n_jobs=-1)\n",
    "model_res = clf.fit(X_train, y_train)\n",
    "y_pred = model_res.predict(X_test)\n",
    "y_pred_prob = model_res.predict_proba(X_test)\n",
    "lr_probs = y_pred_prob[:,1]\n",
    "ac = accuracy_score(y_test, y_pred)\n",
    "\n",
    "f1 = f1_score(y_test, y_pred, average='weighted')\n",
    "cm = confusion_matrix(y_test, y_pred)\n",
    "ba = balanced_accuracy_score(y_test, y_pred)\n",
    "\n",
    "print('Random Forest: Accuracy=%.3f' % (ac))\n",
    "\n",
    "print('Random Forest: f1-score=%.3f' % (f1))\n",
    "\n",
    "print('Random Forest: Balanced Accuracy=%.3f' % (ba))\n"
   ]
  },
  {
   "cell_type": "markdown",
   "id": "0701740b",
   "metadata": {},
   "source": [
    "## Random Forest Hyperparamter Tuning\n",
    "\n",
    "\n",
    "The Random Forest default performed best. Now to find the best parameters to tune."
   ]
  },
  {
   "cell_type": "code",
   "execution_count": 191,
   "id": "bfeca793",
   "metadata": {},
   "outputs": [],
   "source": [
    "forest = RandomForestClassifier()"
   ]
  },
  {
   "cell_type": "code",
   "execution_count": 192,
   "id": "e9320615",
   "metadata": {},
   "outputs": [
    {
     "name": "stdout",
     "output_type": "stream",
     "text": [
      "Fitting 3 folds for each of 64 candidates, totalling 192 fits\n"
     ]
    }
   ],
   "source": [
    "n_estimators = [120, 300, 500, 800]\n",
    "max_depth = [5, 8, 15, 25]\n",
    "min_samples_split = [2, 5, 10, 15]\n",
    "\n",
    "\n",
    "hyperF = dict(n_estimators = n_estimators, max_depth = max_depth,  \n",
    "              min_samples_split = min_samples_split, \n",
    "             )\n",
    "\n",
    "gridF = GridSearchCV(forest, hyperF, cv = 3, verbose = 1, \n",
    "                      n_jobs = -1)\n",
    "bestF = gridF.fit(X_train, y_train)"
   ]
  },
  {
   "cell_type": "code",
   "execution_count": 144,
   "id": "b5acac6a",
   "metadata": {},
   "outputs": [
    {
     "name": "stdout",
     "output_type": "stream",
     "text": [
      "Best n_estimators: 500\n",
      "Best max_depth: 25\n",
      "Best min_samples_split: 10\n"
     ]
    }
   ],
   "source": [
    "print('Best n_estimators:', bestF.best_estimator_.get_params()['n_estimators'])\n",
    "print('Best max_depth:', bestF.best_estimator_.get_params()['max_depth'])\n",
    "print('Best min_samples_split:', bestF.best_estimator_.get_params()['min_samples_split'])"
   ]
  },
  {
   "cell_type": "code",
   "execution_count": 193,
   "id": "33726f0d",
   "metadata": {},
   "outputs": [],
   "source": [
    "forestOpt = RandomForestClassifier(random_state = 1, max_depth = 25, n_estimators = 500, min_samples_split = 10)\n",
    "                                   \n",
    "modelOpt = forestOpt.fit(X_train, y_train)\n",
    "y_pred = modelOpt.predict(X_test)"
   ]
  },
  {
   "cell_type": "markdown",
   "id": "08dd99ba",
   "metadata": {},
   "source": [
    "## Important Variables"
   ]
  },
  {
   "cell_type": "code",
   "execution_count": 199,
   "id": "80d2c5c4",
   "metadata": {},
   "outputs": [],
   "source": [
    "class_names=['Crash Service', 'Traffic Hazard', 'COLLISION WITH INJURY',\n",
    "       'Stalled Vehicle', 'COLLISION', 'LOOSE LIVESTOCK', 'VEHICLE FIRE'] # name  of classes"
   ]
  },
  {
   "cell_type": "code",
   "execution_count": 205,
   "id": "12013310",
   "metadata": {},
   "outputs": [
    {
     "name": "stdout",
     "output_type": "stream",
     "text": [
      "Confusion matrix, without normalization\n",
      "[[ 4656    50   363   228     0  2276     0]\n",
      " [  982    93   128    49     0   331     0]\n",
      " [  147     1 16826     2     3  8621     0]\n",
      " [  569     0    28   559     0   484     0]\n",
      " [   18     0   863     0     1  2380     0]\n",
      " [ 1531     4  6434   181     0 19610     0]\n",
      " [  123     8     8     8     0    69     0]]\n",
      "Normalized confusion matrix\n",
      "[[6.15e-01 6.60e-03 4.79e-02 3.01e-02 0.00e+00 3.01e-01 0.00e+00]\n",
      " [6.20e-01 5.87e-02 8.09e-02 3.10e-02 0.00e+00 2.09e-01 0.00e+00]\n",
      " [5.74e-03 3.91e-05 6.57e-01 7.81e-05 1.17e-04 3.37e-01 0.00e+00]\n",
      " [3.47e-01 0.00e+00 1.71e-02 3.41e-01 0.00e+00 2.95e-01 0.00e+00]\n",
      " [5.52e-03 0.00e+00 2.65e-01 0.00e+00 3.07e-04 7.30e-01 0.00e+00]\n",
      " [5.52e-02 1.44e-04 2.32e-01 6.52e-03 0.00e+00 7.06e-01 0.00e+00]\n",
      " [5.69e-01 3.70e-02 3.70e-02 3.70e-02 0.00e+00 3.19e-01 0.00e+00]]\n"
     ]
    },
    {
     "data": {
      "image/png": "[encoded data removed]",
      "text/plain": [
       "<Figure size 640x480 with 2 Axes>"
      ]
     },
     "metadata": {
      "needs_background": "light"
     },
     "output_type": "display_data"
    },
    {
     "data": {
      "image/png": "[encoded data removed]",
      "text/plain": [
       "<Figure size 640x480 with 2 Axes>"
      ]
     },
     "metadata": {
      "needs_background": "light"
     },
     "output_type": "display_data"
    }
   ],
   "source": [
    "def plot_confusion_matrix(cm, classes,\n",
    "                          normalize=False,\n",
    "                          title='Confusion matrix',\n",
    "                          cmap=plt.cm.Blues):\n",
    "    \"\"\"\n",
    "    This function prints and plots the confusion matrix.\n",
    "    Normalization can be applied by setting `normalize=True`.\n",
    "    \"\"\"\n",
    "    if normalize:\n",
    "        cm = cm.astype('float') / cm.sum(axis=1)[:, np.newaxis]\n",
    "        print(\"Normalized confusion matrix\")\n",
    "    else:\n",
    "        print('Confusion matrix, without normalization')\n",
    "\n",
    "    print(cm)\n",
    "\n",
    "    plt.imshow(cm, interpolation='nearest', cmap=cmap)\n",
    "    plt.title(title)\n",
    "    plt.colorbar()\n",
    "    tick_marks = np.arange(len(classes))\n",
    "    plt.xticks(tick_marks, classes, rotation=45)\n",
    "    plt.yticks(tick_marks, classes)\n",
    "\n",
    "    fmt = '.2f' if normalize else 'd'\n",
    "    thresh = cm.max() / 2.\n",
    "    for i, j in itertools.product(range(cm.shape[0]), range(cm.shape[1])):\n",
    "        plt.text(j, i, format(cm[i, j], fmt),\n",
    "                 horizontalalignment=\"center\",\n",
    "                 color=\"white\" if cm[i, j] > thresh else \"black\")\n",
    "\n",
    "    plt.ylabel('True label')\n",
    "    plt.xlabel('Predicted label')\n",
    "    plt.tight_layout()\n",
    "\n",
    "# Compute confusion matrix\n",
    "cnf_matrix = confusion_matrix(y_test, y_pred)\n",
    "np.set_printoptions(precision=2)\n",
    "\n",
    "# Plot non-normalized confusion matrix\n",
    "plt.figure(figsize=(8, 6), dpi=80)\n",
    "plot_confusion_matrix(cnf_matrix, classes=class_names,\n",
    "                      title='Confusion matrix, without normalization')\n",
    "#plt.savefig('figures/RF_cm_multi_class.png')\n",
    "\n",
    "# Plot normalized confusion matrix\n",
    "plt.figure(figsize=(8, 6), dpi=80)\n",
    "plot_confusion_matrix(cnf_matrix, classes=class_names, normalize=True,\n",
    "                      title='Normalized confusion matrix')\n",
    "#plt.savefig('figures/RF_cm_proportion_multi_class.png', bbox_inches=\"tight\")\n",
    "plt.show()"
   ]
  },
  {
   "cell_type": "code",
   "execution_count": null,
   "id": "225dc052",
   "metadata": {},
   "outputs": [],
   "source": []
  },
  {
   "cell_type": "code",
   "execution_count": null,
   "id": "4c16dc66",
   "metadata": {},
   "outputs": [],
   "source": [
    "\n"
   ]
  },
  {
   "cell_type": "code",
   "execution_count": 208,
   "id": "de1d250e",
   "metadata": {},
   "outputs": [
    {
     "name": "stdout",
     "output_type": "stream",
     "text": [
      "30\n"
     ]
    },
    {
     "data": {
      "image/png": "[encoded data removed]",
      "text/plain": [
       "<Figure size 720x720 with 1 Axes>"
      ]
     },
     "metadata": {
      "needs_background": "light"
     },
     "output_type": "display_data"
    }
   ],
   "source": [
    "feature_importance = clf.feature_importances_\n",
    "# make importances relative to max importance\n",
    "feature_importance = 100.0 * (feature_importance / feature_importance.max())[:30]\n",
    "sorted_idx = np.argsort(feature_importance)[:30]\n",
    "\n",
    "pos = np.arange(sorted_idx.shape[0]) + .5\n",
    "print(pos.size)\n",
    "sorted_idx.size\n",
    "plt.figure(figsize=(10,10))\n",
    "plt.barh(pos, feature_importance[sorted_idx], align='center')\n",
    "plt.yticks(pos, X.columns[sorted_idx])\n",
    "plt.xlabel('Relative Importance')\n",
    "plt.title('Variable Importance')\n",
    "plt.show()"
   ]
  },
  {
   "cell_type": "markdown",
   "id": "d40b2aa4",
   "metadata": {},
   "source": [
    "## Attempting to perform a confusion matrix on Random Forest model"
   ]
  },
  {
   "cell_type": "code",
   "execution_count": 209,
   "id": "a48cbb9f",
   "metadata": {},
   "outputs": [
    {
     "data": {
      "text/html": [
       "<div>\n",
       "<style scoped>\n",
       "    .dataframe tbody tr th:only-of-type {\n",
       "        vertical-align: middle;\n",
       "    }\n",
       "\n",
       "    .dataframe tbody tr th {\n",
       "        vertical-align: top;\n",
       "    }\n",
       "\n",
       "    .dataframe thead th {\n",
       "        text-align: right;\n",
       "    }\n",
       "</style>\n",
       "<table border=\"1\" class=\"dataframe\">\n",
       "  <thead>\n",
       "    <tr style=\"text-align: right;\">\n",
       "      <th></th>\n",
       "      <th>Real Values</th>\n",
       "      <th>Predicted Values</th>\n",
       "    </tr>\n",
       "  </thead>\n",
       "  <tbody>\n",
       "    <tr>\n",
       "      <th>201927</th>\n",
       "      <td>2</td>\n",
       "      <td>2</td>\n",
       "    </tr>\n",
       "    <tr>\n",
       "      <th>25560</th>\n",
       "      <td>0</td>\n",
       "      <td>0</td>\n",
       "    </tr>\n",
       "    <tr>\n",
       "      <th>27432</th>\n",
       "      <td>5</td>\n",
       "      <td>2</td>\n",
       "    </tr>\n",
       "    <tr>\n",
       "      <th>87182</th>\n",
       "      <td>2</td>\n",
       "      <td>2</td>\n",
       "    </tr>\n",
       "    <tr>\n",
       "      <th>181100</th>\n",
       "      <td>2</td>\n",
       "      <td>2</td>\n",
       "    </tr>\n",
       "    <tr>\n",
       "      <th>...</th>\n",
       "      <td>...</td>\n",
       "      <td>...</td>\n",
       "    </tr>\n",
       "    <tr>\n",
       "      <th>198746</th>\n",
       "      <td>0</td>\n",
       "      <td>0</td>\n",
       "    </tr>\n",
       "    <tr>\n",
       "      <th>178141</th>\n",
       "      <td>2</td>\n",
       "      <td>2</td>\n",
       "    </tr>\n",
       "    <tr>\n",
       "      <th>92719</th>\n",
       "      <td>5</td>\n",
       "      <td>2</td>\n",
       "    </tr>\n",
       "    <tr>\n",
       "      <th>129257</th>\n",
       "      <td>2</td>\n",
       "      <td>5</td>\n",
       "    </tr>\n",
       "    <tr>\n",
       "      <th>126107</th>\n",
       "      <td>6</td>\n",
       "      <td>5</td>\n",
       "    </tr>\n",
       "  </tbody>\n",
       "</table>\n",
       "<p>67634 rows × 2 columns</p>\n",
       "</div>"
      ],
      "text/plain": [
       "        Real Values  Predicted Values\n",
       "201927            2                 2\n",
       "25560             0                 0\n",
       "27432             5                 2\n",
       "87182             2                 2\n",
       "181100            2                 2\n",
       "...             ...               ...\n",
       "198746            0                 0\n",
       "178141            2                 2\n",
       "92719             5                 2\n",
       "129257            2                 5\n",
       "126107            6                 5\n",
       "\n",
       "[67634 rows x 2 columns]"
      ]
     },
     "execution_count": 209,
     "metadata": {},
     "output_type": "execute_result"
    }
   ],
   "source": [
    "df = pd.DataFrame({'Real Values':y_test, 'Predicted Values':y_pred})\n",
    "df"
   ]
  },
  {
   "cell_type": "markdown",
   "id": "248636b9",
   "metadata": {},
   "source": [
    "# Running Reports"
   ]
  },
  {
   "cell_type": "code",
   "execution_count": 226,
   "id": "4866c0b3",
   "metadata": {},
   "outputs": [
    {
     "name": "stdout",
     "output_type": "stream",
     "text": [
      "RF Accuracy Score:  0.6141585593044918\n",
      "RF Precision Score:  0.5985253459645457\n",
      "RF Recall Score:  0.6141585593044918\n",
      "RF F1 Score:  0.59359501717355\n",
      "RF F0.5-Measure:  0.585513772368874\n",
      "RF Confusion Matrix: \n",
      "\n",
      " [[ 4754    88   399   263     2  2067     0]\n",
      " [  985   105   129    52     0   312     0]\n",
      " [  212    15 17363     3    45  7962     0]\n",
      " [  555     3    25   618     0   439     0]\n",
      " [   25     1  1036     0    46  2154     0]\n",
      " [ 1635    21  7192   205    57 18650     0]\n",
      " [  119    10     6     9     0    70     2]]\n"
     ]
    },
    {
     "ename": "NameError",
     "evalue": "name 'classification_report' is not defined",
     "output_type": "error",
     "traceback": [
      "\u001b[0;31m---------------------------------------------------------------------------\u001b[0m",
      "\u001b[0;31mNameError\u001b[0m                                 Traceback (most recent call last)",
      "\u001b[0;32m/var/folders/d2/b8_107b155z0478lwpx5ssrr0000gp/T/ipykernel_41402/2063754895.py\u001b[0m in \u001b[0;36m<module>\u001b[0;34m\u001b[0m\n\u001b[1;32m      5\u001b[0m \u001b[0mprint\u001b[0m\u001b[0;34m(\u001b[0m\u001b[0;34m'RF F0.5-Measure: '\u001b[0m\u001b[0;34m,\u001b[0m \u001b[0mfbeta_score\u001b[0m\u001b[0;34m(\u001b[0m\u001b[0my_test\u001b[0m\u001b[0;34m,\u001b[0m \u001b[0my_pred\u001b[0m\u001b[0;34m,\u001b[0m \u001b[0mbeta\u001b[0m\u001b[0;34m=\u001b[0m\u001b[0;36m0.5\u001b[0m\u001b[0;34m,\u001b[0m  \u001b[0maverage\u001b[0m\u001b[0;34m=\u001b[0m\u001b[0;34m'weighted'\u001b[0m\u001b[0;34m)\u001b[0m\u001b[0;34m)\u001b[0m\u001b[0;34m\u001b[0m\u001b[0;34m\u001b[0m\u001b[0m\n\u001b[1;32m      6\u001b[0m \u001b[0mprint\u001b[0m\u001b[0;34m(\u001b[0m\u001b[0;34m'RF Confusion Matrix: \\n\\n'\u001b[0m\u001b[0;34m,\u001b[0m \u001b[0mconfusion_matrix\u001b[0m\u001b[0;34m(\u001b[0m\u001b[0my_test\u001b[0m \u001b[0;34m,\u001b[0m \u001b[0my_pred\u001b[0m\u001b[0;34m)\u001b[0m\u001b[0;34m)\u001b[0m\u001b[0;34m\u001b[0m\u001b[0;34m\u001b[0m\u001b[0m\n\u001b[0;32m----> 7\u001b[0;31m \u001b[0mprint\u001b[0m\u001b[0;34m(\u001b[0m\u001b[0;34m'RF Classification Report: \\n\\n'\u001b[0m\u001b[0;34m,\u001b[0m \u001b[0mclassification_report\u001b[0m\u001b[0;34m(\u001b[0m\u001b[0my_test\u001b[0m\u001b[0;34m,\u001b[0m \u001b[0my_pred\u001b[0m\u001b[0;34m)\u001b[0m\u001b[0;34m)\u001b[0m\u001b[0;34m\u001b[0m\u001b[0;34m\u001b[0m\u001b[0m\n\u001b[0m",
      "\u001b[0;31mNameError\u001b[0m: name 'classification_report' is not defined"
     ]
    }
   ],
   "source": [
    "print('RF Accuracy Score: ', accuracy_score(y_test , y_pred))\n",
    "print('RF Precision Score: ', precision_score(y_test, y_pred, average='weighted'))\n",
    "print('RF Recall Score: ', recall_score(y_test, y_pred,  average='weighted'))\n",
    "print('RF F1 Score: ', f1_score(y_test, y_pred,  average='weighted'))\n",
    "print('RF F0.5-Measure: ', fbeta_score(y_test, y_pred, beta=0.5,  average='weighted'))\n",
    "print('RF Confusion Matrix: \\n\\n', confusion_matrix(y_test , y_pred))\n",
    "print('RF Classification Report: \\n\\n', classification_report(y_test, y_pred))"
   ]
  },
  {
   "cell_type": "markdown",
   "id": "ea322a61",
   "metadata": {},
   "source": [
    "## For some reason all my scores are the same: 0.6155048903280179"
   ]
  },
  {
   "cell_type": "code",
   "execution_count": null,
   "id": "f4bfb777",
   "metadata": {},
   "outputs": [],
   "source": []
  },
  {
   "cell_type": "markdown",
   "id": "28658ed9",
   "metadata": {},
   "source": [
    "## Dropping low performing variables?????????/"
   ]
  },
  {
   "cell_type": "code",
   "execution_count": 138,
   "id": "122f17e9",
   "metadata": {},
   "outputs": [],
   "source": [
    "X = df[['scaled_lon_dist','scaled_lon_dist']]"
   ]
  },
  {
   "cell_type": "code",
   "execution_count": 139,
   "id": "2f1dc190",
   "metadata": {},
   "outputs": [],
   "source": [
    "y = df.issue_reported"
   ]
  },
  {
   "cell_type": "code",
   "execution_count": 140,
   "id": "cb5b4be4",
   "metadata": {},
   "outputs": [],
   "source": [
    "X_train, X_test, y_train, y_test = train_test_split(X, y, test_size=0.3, random_state=123)"
   ]
  },
  {
   "cell_type": "code",
   "execution_count": 141,
   "id": "ac81cbb4",
   "metadata": {},
   "outputs": [],
   "source": [
    "X_train = scaler.fit_transform(X_train)\n",
    "X_test = scaler.transform(X_test)"
   ]
  }
 ],
 "metadata": {
  "kernelspec": {
   "display_name": "Python 3 (ipykernel)",
   "language": "python",
   "name": "python3"
  },
  "language_info": {
   "codemirror_mode": {
    "name": "ipython",
    "version": 3
   },
   "file_extension": ".py",
   "mimetype": "text/x-python",
   "name": "python",
   "nbconvert_exporter": "python",
   "pygments_lexer": "ipython3",
   "version": "3.8.11"
  }
 },
 "nbformat": 4,
 "nbformat_minor": 5
}
