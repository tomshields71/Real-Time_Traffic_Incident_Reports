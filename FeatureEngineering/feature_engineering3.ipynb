{
 "cells": [
  {
   "cell_type": "markdown",
   "id": "504b2c1c",
   "metadata": {},
   "source": [
    "# Context of the problem"
   ]
  },
  {
   "cell_type": "markdown",
   "id": "cd6069fb",
   "metadata": {},
   "source": [
    "Cintas is a company that delivers clean uniforms to customers around the city.  While GPS can help navigate routes in real-time, route planning is done in advance based on sequencing stops based on geographical considerations. In fact, after speaking with a representative, I found that they plan routes entirely on zipcodes. The zipcode of a series of stops is not always the greatest predictor of what will complete the series of stops in the least amount of time. Can we predict traffic issues before they occur so that we may avoid them?\n",
    "\n",
    "We will explore the Real-Time Traffic Incident Reports from Austin's Open Data Portal.\n",
    "(https://data.austintexas.gov/Transportation-and-Mobility/Real-Time-Traffic-Incident-Reports/dx9v-zd7x)"
   ]
  },
  {
   "cell_type": "markdown",
   "id": "247030b0",
   "metadata": {},
   "source": [
    "# EDA Steps Taken"
   ]
  },
  {
   "cell_type": "markdown",
   "id": "9bfd8192",
   "metadata": {},
   "source": [
    "1. Latitude and Longitude now both float data types\n",
    "\n",
    "2. Null values removed with little impact on number of rows\n",
    "\n",
    "3. Traffic Report ID, Status columns removed\n",
    "\n",
    "4. Scope of coordinates slightly reduced for a more realistic representation of the city\n",
    "\n",
    "5. The issue_timespan column was engineered (in minutes) and the status_date column was dropped\n",
    "\n",
    "6. Issues with negative resolution times or times beyond 24 hours were removed\n",
    "\n",
    "7. The number of classes in the issue_reported column was reduced from 23 to 8 through either combining similar labels or dropping the class entirely due to a lack of instances.\n",
    "\n",
    "8. Addresses & Location columns deemed less reliable/useful than coordinate data and removed\n",
    "\n",
    "9. No relationship between high volume coordinates and issue timespan was found\n",
    "\n",
    "10. There were correlations between coordinates and certain classes of issue reported\n",
    "\n",
    "11. There were coorelations between issue reported and timespan\n",
    "\n",
    "12. After visualizing incident timespan by volume, it was determined that works best for this dataset is dealing with issues that took less than 8 hours to resolve (480 minutes)."
   ]
  },
  {
   "cell_type": "markdown",
   "id": "6902ca81",
   "metadata": {},
   "source": [
    "# Import necessary libraries"
   ]
  },
  {
   "cell_type": "code",
   "execution_count": 1,
   "id": "8e130e51",
   "metadata": {},
   "outputs": [],
   "source": [
    "import pandas as pd\n",
    "import numpy as np\n",
    "import datetime\n",
    "from datetime import datetime\n",
    "import matplotlib.pyplot as plt\n",
    "import seaborn as sns\n",
    "from numpy.random import seed\n",
    "import plotly.express as px\n",
    "import descartes\n",
    "import geopandas as gpd\n",
    "from shapely.geometry import Point, Polygon\n",
    "%matplotlib inline\n",
    "import calendar"
   ]
  },
  {
   "cell_type": "markdown",
   "id": "564ec4fe",
   "metadata": {},
   "source": [
    "# Data Collection/Organization"
   ]
  },
  {
   "cell_type": "code",
   "execution_count": 2,
   "id": "6cc0f7cb",
   "metadata": {},
   "outputs": [],
   "source": [
    "file = 'feature_engineering2.csv'\n"
   ]
  },
  {
   "cell_type": "code",
   "execution_count": 3,
   "id": "db84472f",
   "metadata": {},
   "outputs": [
    {
     "data": {
      "text/html": [
       "<div>\n",
       "<style scoped>\n",
       "    .dataframe tbody tr th:only-of-type {\n",
       "        vertical-align: middle;\n",
       "    }\n",
       "\n",
       "    .dataframe tbody tr th {\n",
       "        vertical-align: top;\n",
       "    }\n",
       "\n",
       "    .dataframe thead th {\n",
       "        text-align: right;\n",
       "    }\n",
       "</style>\n",
       "<table border=\"1\" class=\"dataframe\">\n",
       "  <thead>\n",
       "    <tr style=\"text-align: right;\">\n",
       "      <th></th>\n",
       "      <th>published_date</th>\n",
       "      <th>issue_reported</th>\n",
       "      <th>Latitude</th>\n",
       "      <th>Longitude</th>\n",
       "      <th>issue_timespan</th>\n",
       "      <th>geometry</th>\n",
       "      <th>day</th>\n",
       "      <th>hour</th>\n",
       "    </tr>\n",
       "  </thead>\n",
       "  <tbody>\n",
       "    <tr>\n",
       "      <th>0</th>\n",
       "      <td>2018-06-13 06:35:59+00:00</td>\n",
       "      <td>Crash Service</td>\n",
       "      <td>30.283797</td>\n",
       "      <td>-97.741906</td>\n",
       "      <td>144.066667</td>\n",
       "      <td>POINT (-97.741906 30.283797)</td>\n",
       "      <td>Wednesday</td>\n",
       "      <td>6</td>\n",
       "    </tr>\n",
       "    <tr>\n",
       "      <th>1</th>\n",
       "      <td>2018-06-13 10:15:36+00:00</td>\n",
       "      <td>Traffic Hazard</td>\n",
       "      <td>30.339593</td>\n",
       "      <td>-97.700963</td>\n",
       "      <td>64.450000</td>\n",
       "      <td>POINT (-97.700963 30.339593)</td>\n",
       "      <td>Wednesday</td>\n",
       "      <td>10</td>\n",
       "    </tr>\n",
       "    <tr>\n",
       "      <th>2</th>\n",
       "      <td>2020-04-17 21:25:03+00:00</td>\n",
       "      <td>Crash Service</td>\n",
       "      <td>30.329455</td>\n",
       "      <td>-97.638105</td>\n",
       "      <td>30.000000</td>\n",
       "      <td>POINT (-97.638105 30.329455)</td>\n",
       "      <td>Friday</td>\n",
       "      <td>21</td>\n",
       "    </tr>\n",
       "    <tr>\n",
       "      <th>3</th>\n",
       "      <td>2020-04-17 21:40:52+00:00</td>\n",
       "      <td>Traffic Hazard</td>\n",
       "      <td>30.202806</td>\n",
       "      <td>-97.760701</td>\n",
       "      <td>14.183333</td>\n",
       "      <td>POINT (-97.760701 30.202806)</td>\n",
       "      <td>Friday</td>\n",
       "      <td>21</td>\n",
       "    </tr>\n",
       "    <tr>\n",
       "      <th>4</th>\n",
       "      <td>2020-04-17 21:00:55+00:00</td>\n",
       "      <td>Crash Service</td>\n",
       "      <td>30.184265</td>\n",
       "      <td>-97.687339</td>\n",
       "      <td>149.150000</td>\n",
       "      <td>POINT (-97.68733899999999 30.184265)</td>\n",
       "      <td>Friday</td>\n",
       "      <td>21</td>\n",
       "    </tr>\n",
       "  </tbody>\n",
       "</table>\n",
       "</div>"
      ],
      "text/plain": [
       "             published_date  issue_reported   Latitude  Longitude  \\\n",
       "0 2018-06-13 06:35:59+00:00   Crash Service  30.283797 -97.741906   \n",
       "1 2018-06-13 10:15:36+00:00  Traffic Hazard  30.339593 -97.700963   \n",
       "2 2020-04-17 21:25:03+00:00   Crash Service  30.329455 -97.638105   \n",
       "3 2020-04-17 21:40:52+00:00  Traffic Hazard  30.202806 -97.760701   \n",
       "4 2020-04-17 21:00:55+00:00   Crash Service  30.184265 -97.687339   \n",
       "\n",
       "   issue_timespan                              geometry        day  hour  \n",
       "0      144.066667          POINT (-97.741906 30.283797)  Wednesday     6  \n",
       "1       64.450000          POINT (-97.700963 30.339593)  Wednesday    10  \n",
       "2       30.000000          POINT (-97.638105 30.329455)     Friday    21  \n",
       "3       14.183333          POINT (-97.760701 30.202806)     Friday    21  \n",
       "4      149.150000  POINT (-97.68733899999999 30.184265)     Friday    21  "
      ]
     },
     "execution_count": 3,
     "metadata": {},
     "output_type": "execute_result"
    }
   ],
   "source": [
    "df = pd.read_csv(file, parse_dates=['published_date'])\n",
    "df.head()\n"
   ]
  },
  {
   "cell_type": "code",
   "execution_count": 4,
   "id": "142cb212",
   "metadata": {},
   "outputs": [
    {
     "data": {
      "text/plain": [
       "(243114, 8)"
      ]
     },
     "execution_count": 4,
     "metadata": {},
     "output_type": "execute_result"
    }
   ],
   "source": [
    "df.shape"
   ]
  },
  {
   "cell_type": "markdown",
   "id": "04aa2142",
   "metadata": {},
   "source": [
    "# Month of Year"
   ]
  },
  {
   "cell_type": "code",
   "execution_count": 5,
   "id": "9bb663d0",
   "metadata": {},
   "outputs": [
    {
     "data": {
      "text/html": [
       "<div>\n",
       "<style scoped>\n",
       "    .dataframe tbody tr th:only-of-type {\n",
       "        vertical-align: middle;\n",
       "    }\n",
       "\n",
       "    .dataframe tbody tr th {\n",
       "        vertical-align: top;\n",
       "    }\n",
       "\n",
       "    .dataframe thead th {\n",
       "        text-align: right;\n",
       "    }\n",
       "</style>\n",
       "<table border=\"1\" class=\"dataframe\">\n",
       "  <thead>\n",
       "    <tr style=\"text-align: right;\">\n",
       "      <th></th>\n",
       "      <th>published_date</th>\n",
       "      <th>issue_reported</th>\n",
       "      <th>Latitude</th>\n",
       "      <th>Longitude</th>\n",
       "      <th>issue_timespan</th>\n",
       "      <th>geometry</th>\n",
       "      <th>day</th>\n",
       "      <th>hour</th>\n",
       "      <th>month</th>\n",
       "    </tr>\n",
       "  </thead>\n",
       "  <tbody>\n",
       "    <tr>\n",
       "      <th>0</th>\n",
       "      <td>2018-06-13 06:35:59+00:00</td>\n",
       "      <td>Crash Service</td>\n",
       "      <td>30.283797</td>\n",
       "      <td>-97.741906</td>\n",
       "      <td>144.066667</td>\n",
       "      <td>POINT (-97.741906 30.283797)</td>\n",
       "      <td>Wednesday</td>\n",
       "      <td>6</td>\n",
       "      <td>June</td>\n",
       "    </tr>\n",
       "    <tr>\n",
       "      <th>1</th>\n",
       "      <td>2018-06-13 10:15:36+00:00</td>\n",
       "      <td>Traffic Hazard</td>\n",
       "      <td>30.339593</td>\n",
       "      <td>-97.700963</td>\n",
       "      <td>64.450000</td>\n",
       "      <td>POINT (-97.700963 30.339593)</td>\n",
       "      <td>Wednesday</td>\n",
       "      <td>10</td>\n",
       "      <td>June</td>\n",
       "    </tr>\n",
       "    <tr>\n",
       "      <th>2</th>\n",
       "      <td>2020-04-17 21:25:03+00:00</td>\n",
       "      <td>Crash Service</td>\n",
       "      <td>30.329455</td>\n",
       "      <td>-97.638105</td>\n",
       "      <td>30.000000</td>\n",
       "      <td>POINT (-97.638105 30.329455)</td>\n",
       "      <td>Friday</td>\n",
       "      <td>21</td>\n",
       "      <td>April</td>\n",
       "    </tr>\n",
       "    <tr>\n",
       "      <th>3</th>\n",
       "      <td>2020-04-17 21:40:52+00:00</td>\n",
       "      <td>Traffic Hazard</td>\n",
       "      <td>30.202806</td>\n",
       "      <td>-97.760701</td>\n",
       "      <td>14.183333</td>\n",
       "      <td>POINT (-97.760701 30.202806)</td>\n",
       "      <td>Friday</td>\n",
       "      <td>21</td>\n",
       "      <td>April</td>\n",
       "    </tr>\n",
       "    <tr>\n",
       "      <th>4</th>\n",
       "      <td>2020-04-17 21:00:55+00:00</td>\n",
       "      <td>Crash Service</td>\n",
       "      <td>30.184265</td>\n",
       "      <td>-97.687339</td>\n",
       "      <td>149.150000</td>\n",
       "      <td>POINT (-97.68733899999999 30.184265)</td>\n",
       "      <td>Friday</td>\n",
       "      <td>21</td>\n",
       "      <td>April</td>\n",
       "    </tr>\n",
       "  </tbody>\n",
       "</table>\n",
       "</div>"
      ],
      "text/plain": [
       "             published_date  issue_reported   Latitude  Longitude  \\\n",
       "0 2018-06-13 06:35:59+00:00   Crash Service  30.283797 -97.741906   \n",
       "1 2018-06-13 10:15:36+00:00  Traffic Hazard  30.339593 -97.700963   \n",
       "2 2020-04-17 21:25:03+00:00   Crash Service  30.329455 -97.638105   \n",
       "3 2020-04-17 21:40:52+00:00  Traffic Hazard  30.202806 -97.760701   \n",
       "4 2020-04-17 21:00:55+00:00   Crash Service  30.184265 -97.687339   \n",
       "\n",
       "   issue_timespan                              geometry        day  hour  \\\n",
       "0      144.066667          POINT (-97.741906 30.283797)  Wednesday     6   \n",
       "1       64.450000          POINT (-97.700963 30.339593)  Wednesday    10   \n",
       "2       30.000000          POINT (-97.638105 30.329455)     Friday    21   \n",
       "3       14.183333          POINT (-97.760701 30.202806)     Friday    21   \n",
       "4      149.150000  POINT (-97.68733899999999 30.184265)     Friday    21   \n",
       "\n",
       "   month  \n",
       "0   June  \n",
       "1   June  \n",
       "2  April  \n",
       "3  April  \n",
       "4  April  "
      ]
     },
     "execution_count": 5,
     "metadata": {},
     "output_type": "execute_result"
    }
   ],
   "source": [
    "df['month'] = df['published_date'].dt.month_name()\n",
    "\n",
    "df.head()"
   ]
  },
  {
   "cell_type": "code",
   "execution_count": 6,
   "id": "35aff898",
   "metadata": {},
   "outputs": [],
   "source": [
    "df['month'] = pd.Categorical(df['month'], categories= ['January','February','March','April',\n",
    "                                                       'May','June', 'July', 'August', 'September',\n",
    "                                                      'October', 'November', 'December'], ordered=True)\n"
   ]
  },
  {
   "cell_type": "code",
   "execution_count": 8,
   "id": "18b0d26d",
   "metadata": {},
   "outputs": [
    {
     "data": {
      "image/png": "[encoded data removed]",
      "text/plain": [
       "<Figure size 1080x720 with 1 Axes>"
      ]
     },
     "metadata": {},
     "output_type": "display_data"
    }
   ],
   "source": [
    "sns.countplot(x='month', data= df)\n",
    "plt.xlabel('Month', fontsize=20)\n",
    "plt.ylabel('Issue Volume by Month', fontsize=20)\n",
    "plt.title('Total Incident Volume Sorted by Month', fontsize=30)\n",
    "sns.set(rc={'figure.figsize':(15,10)})\n",
    "plt.show()"
   ]
  },
  {
   "cell_type": "markdown",
   "id": "e928af52",
   "metadata": {},
   "source": [
    "There appear to be an uneven number of incidents per month. Taking a closer look at when the data sample starts and ends may help us make sense of this."
   ]
  },
  {
   "cell_type": "code",
   "execution_count": 9,
   "id": "4d8f232f",
   "metadata": {},
   "outputs": [
    {
     "data": {
      "text/plain": [
       "Timestamp('2017-10-24 15:48:00+0000', tz='UTC')"
      ]
     },
     "execution_count": 9,
     "metadata": {},
     "output_type": "execute_result"
    }
   ],
   "source": [
    "df['published_date'].min()"
   ]
  },
  {
   "cell_type": "code",
   "execution_count": 10,
   "id": "57d94a4d",
   "metadata": {},
   "outputs": [
    {
     "data": {
      "text/plain": [
       "Timestamp('2021-12-13 19:35:58+0000', tz='UTC')"
      ]
     },
     "execution_count": 10,
     "metadata": {},
     "output_type": "execute_result"
    }
   ],
   "source": [
    "df['published_date'].max()"
   ]
  },
  {
   "cell_type": "markdown",
   "id": "84d243fc",
   "metadata": {},
   "source": [
    "The sample begins with a week to go in October and ends in the middle of December 4 years later. With this in mind November is represented a fifth time. This would explain the high number of incidents for November. October and December are also slightly overepresented here which makes sense based on the numbers. \n",
    "\n",
    "The only thing of interest is the wide variance between April (18682) and May (20945)\n",
    "\n",
    "The uneven nature of the data sample makes total volume difficult to measure and it is probably best to stay away from total volume and look at averages."
   ]
  },
  {
   "cell_type": "markdown",
   "id": "4b1158c0",
   "metadata": {},
   "source": [
    "## Month and Resolution Timespan"
   ]
  },
  {
   "cell_type": "markdown",
   "id": "98ab0e55",
   "metadata": {},
   "source": [
    "Is there any correlation between month and the time it takes to resolve an issue?"
   ]
  },
  {
   "cell_type": "code",
   "execution_count": 11,
   "id": "a4c7ff00",
   "metadata": {},
   "outputs": [
    {
     "data": {
      "image/png": "[encoded data removed]",
      "text/plain": [
       "<Figure size 1080x720 with 1 Axes>"
      ]
     },
     "metadata": {},
     "output_type": "display_data"
    }
   ],
   "source": [
    "sns.barplot(x='month',y='issue_timespan', data= df)\n",
    "plt.xlabel('Month', fontsize=20)\n",
    "plt.ylabel('Timespan in Minutes', fontsize=20)\n",
    "plt.title('Time Taken to Resolve Issue in Minutes Sorted by Month', fontsize=30)\n",
    "sns.set(rc={'figure.figsize':(15,10)})\n",
    "plt.show()"
   ]
  },
  {
   "cell_type": "markdown",
   "id": "c0bdb778",
   "metadata": {},
   "source": [
    "These results are surprising. How can the first three months be so inconsistent with the rest of the year?"
   ]
  },
  {
   "cell_type": "code",
   "execution_count": null,
   "id": "152ada24",
   "metadata": {},
   "outputs": [],
   "source": []
  },
  {
   "cell_type": "markdown",
   "id": "952a1c86",
   "metadata": {},
   "source": [
    "### Month\n",
    "\n",
    "There is a spike in incident volume in the later months but this is likely due to the start and end dates of the sample.\n",
    "\n",
    "Issues appear to take a lot longer to resolve in January, February and March."
   ]
  },
  {
   "cell_type": "code",
   "execution_count": 12,
   "id": "00ba93a6",
   "metadata": {},
   "outputs": [],
   "source": [
    "df.to_csv('feature_engineering3.csv', index = False)"
   ]
  },
  {
   "cell_type": "code",
   "execution_count": null,
   "id": "1192ac27",
   "metadata": {},
   "outputs": [],
   "source": []
  }
 ],
 "metadata": {
  "kernelspec": {
   "display_name": "Python 3 (ipykernel)",
   "language": "python",
   "name": "python3"
  },
  "language_info": {
   "codemirror_mode": {
    "name": "ipython",
    "version": 3
   },
   "file_extension": ".py",
   "mimetype": "text/x-python",
   "name": "python",
   "nbconvert_exporter": "python",
   "pygments_lexer": "ipython3",
   "version": "3.8.11"
  }
 },
 "nbformat": 4,
 "nbformat_minor": 5
}
