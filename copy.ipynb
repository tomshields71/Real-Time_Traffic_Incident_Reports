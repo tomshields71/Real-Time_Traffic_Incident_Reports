{
 "cells": [
  {
   "cell_type": "code",
   "execution_count": null,
   "id": "f6592420",
   "metadata": {},
   "outputs": [],
   "source": []
  },
  {
   "cell_type": "markdown",
   "id": "03c77d5e",
   "metadata": {},
   "source": [
    "In this notebook I will try and predict what kind of an incident occured based on where it took place and how long it took to resolve. \n",
    "\n",
    "Target: issue_reported(y)\n",
    "Input vairables: Latitude, Longitude, timespan_min(x)\n"
   ]
  },
  {
   "cell_type": "code",
   "execution_count": 49,
   "id": "62e38da1",
   "metadata": {},
   "outputs": [],
   "source": [
    "import pandas as pd\n",
    "import numpy as np\n",
    "from datetime import datetime\n",
    "import matplotlib.pyplot as plt\n",
    "import seaborn as sns\n",
    "\n",
    "\n",
    "from sklearn.preprocessing import LabelEncoder\n",
    "from sklearn.model_selection import train_test_split\n",
    "from sklearn.preprocessing import StandardScaler, OneHotEncoder\n",
    "from sklearn.linear_model import LinearRegression\n",
    "from sklearn.ensemble import RandomForestClassifier\n",
    "from sklearn.compose import make_column_transformer\n",
    "from sklearn.pipeline import make_pipeline\n",
    "from sklearn.linear_model import LogisticRegression\n",
    "from sklearn.model_selection import cross_val_score\n",
    "from sklearn.metrics import accuracy_score,log_loss, f1_score, confusion_matrix\n",
    "from sklearn.neighbors import KNeighborsClassifier\n",
    "from sklearn import model_selection, linear_model\n",
    "from sklearn.tree import DecisionTreeClassifier\n",
    "import xgboost as xgb\n",
    "from sklearn.naive_bayes import GaussianNB\n",
    "from sklearn.ensemble import GradientBoostingClassifier\n",
    "import sklearn.cluster\n",
    "from sklearn.model_selection import GridSearchCV\n",
    "from sklearn.svm import SVC\n",
    "from sklearn.metrics import accuracy_score, recall_score, precision_score, f1_score, roc_auc_score, fbeta_score\n",
    "from sklearn.pipeline import make_pipeline"
   ]
  },
  {
   "cell_type": "markdown",
   "id": "f79a4a40",
   "metadata": {},
   "source": [
    "Import data of clean features"
   ]
  },
  {
   "cell_type": "code",
   "execution_count": 50,
   "id": "59bfd444",
   "metadata": {},
   "outputs": [],
   "source": [
    "file = 'traffic_data_features.csv'"
   ]
  },
  {
   "cell_type": "code",
   "execution_count": 51,
   "id": "ca63555d",
   "metadata": {},
   "outputs": [
    {
     "data": {
      "text/html": [
       "<div>\n",
       "<style scoped>\n",
       "    .dataframe tbody tr th:only-of-type {\n",
       "        vertical-align: middle;\n",
       "    }\n",
       "\n",
       "    .dataframe tbody tr th {\n",
       "        vertical-align: top;\n",
       "    }\n",
       "\n",
       "    .dataframe thead th {\n",
       "        text-align: right;\n",
       "    }\n",
       "</style>\n",
       "<table border=\"1\" class=\"dataframe\">\n",
       "  <thead>\n",
       "    <tr style=\"text-align: right;\">\n",
       "      <th></th>\n",
       "      <th>issue_reported</th>\n",
       "      <th>Latitude</th>\n",
       "      <th>Longitude</th>\n",
       "      <th>day</th>\n",
       "      <th>timespan_min</th>\n",
       "      <th>hour</th>\n",
       "      <th>month</th>\n",
       "      <th>region</th>\n",
       "      <th>lat_from_cntr</th>\n",
       "      <th>lon_from_cntr</th>\n",
       "      <th>dist_from_cntr</th>\n",
       "    </tr>\n",
       "  </thead>\n",
       "  <tbody>\n",
       "    <tr>\n",
       "      <th>0</th>\n",
       "      <td>Crash Service</td>\n",
       "      <td>30.283797</td>\n",
       "      <td>-97.741906</td>\n",
       "      <td>2</td>\n",
       "      <td>144.066667</td>\n",
       "      <td>6</td>\n",
       "      <td>6</td>\n",
       "      <td>cnw</td>\n",
       "      <td>-0.016597</td>\n",
       "      <td>-0.001194</td>\n",
       "      <td>1.849061</td>\n",
       "    </tr>\n",
       "    <tr>\n",
       "      <th>1</th>\n",
       "      <td>Traffic Hazard</td>\n",
       "      <td>30.339593</td>\n",
       "      <td>-97.700963</td>\n",
       "      <td>2</td>\n",
       "      <td>64.450000</td>\n",
       "      <td>10</td>\n",
       "      <td>6</td>\n",
       "      <td>vne</td>\n",
       "      <td>-0.072393</td>\n",
       "      <td>-0.042137</td>\n",
       "      <td>9.009002</td>\n",
       "    </tr>\n",
       "    <tr>\n",
       "      <th>2</th>\n",
       "      <td>Crash Service</td>\n",
       "      <td>30.329455</td>\n",
       "      <td>-97.638105</td>\n",
       "      <td>4</td>\n",
       "      <td>30.000000</td>\n",
       "      <td>21</td>\n",
       "      <td>4</td>\n",
       "      <td>vce</td>\n",
       "      <td>-0.062255</td>\n",
       "      <td>-0.104995</td>\n",
       "      <td>12.228301</td>\n",
       "    </tr>\n",
       "    <tr>\n",
       "      <th>3</th>\n",
       "      <td>Traffic Hazard</td>\n",
       "      <td>30.202806</td>\n",
       "      <td>-97.760701</td>\n",
       "      <td>4</td>\n",
       "      <td>14.183333</td>\n",
       "      <td>21</td>\n",
       "      <td>4</td>\n",
       "      <td>vsw</td>\n",
       "      <td>0.064394</td>\n",
       "      <td>0.017601</td>\n",
       "      <td>7.357232</td>\n",
       "    </tr>\n",
       "    <tr>\n",
       "      <th>4</th>\n",
       "      <td>Crash Service</td>\n",
       "      <td>30.184265</td>\n",
       "      <td>-97.687339</td>\n",
       "      <td>4</td>\n",
       "      <td>149.150000</td>\n",
       "      <td>21</td>\n",
       "      <td>4</td>\n",
       "      <td>vse</td>\n",
       "      <td>0.082935</td>\n",
       "      <td>-0.055761</td>\n",
       "      <td>10.665180</td>\n",
       "    </tr>\n",
       "  </tbody>\n",
       "</table>\n",
       "</div>"
      ],
      "text/plain": [
       "   issue_reported   Latitude  Longitude  day  timespan_min  hour  month  \\\n",
       "0   Crash Service  30.283797 -97.741906    2    144.066667     6      6   \n",
       "1  Traffic Hazard  30.339593 -97.700963    2     64.450000    10      6   \n",
       "2   Crash Service  30.329455 -97.638105    4     30.000000    21      4   \n",
       "3  Traffic Hazard  30.202806 -97.760701    4     14.183333    21      4   \n",
       "4   Crash Service  30.184265 -97.687339    4    149.150000    21      4   \n",
       "\n",
       "  region  lat_from_cntr  lon_from_cntr  dist_from_cntr  \n",
       "0    cnw      -0.016597      -0.001194        1.849061  \n",
       "1    vne      -0.072393      -0.042137        9.009002  \n",
       "2    vce      -0.062255      -0.104995       12.228301  \n",
       "3    vsw       0.064394       0.017601        7.357232  \n",
       "4    vse       0.082935      -0.055761       10.665180  "
      ]
     },
     "execution_count": 51,
     "metadata": {},
     "output_type": "execute_result"
    }
   ],
   "source": [
    "df = pd.read_csv(file, index_col=False)\n",
    "df.head()"
   ]
  },
  {
   "cell_type": "code",
   "execution_count": 52,
   "id": "81aaa303",
   "metadata": {},
   "outputs": [
    {
     "data": {
      "text/html": [
       "<div>\n",
       "<style scoped>\n",
       "    .dataframe tbody tr th:only-of-type {\n",
       "        vertical-align: middle;\n",
       "    }\n",
       "\n",
       "    .dataframe tbody tr th {\n",
       "        vertical-align: top;\n",
       "    }\n",
       "\n",
       "    .dataframe thead th {\n",
       "        text-align: right;\n",
       "    }\n",
       "</style>\n",
       "<table border=\"1\" class=\"dataframe\">\n",
       "  <thead>\n",
       "    <tr style=\"text-align: right;\">\n",
       "      <th></th>\n",
       "      <th>Latitude</th>\n",
       "      <th>Longitude</th>\n",
       "      <th>day</th>\n",
       "      <th>timespan_min</th>\n",
       "      <th>hour</th>\n",
       "      <th>month</th>\n",
       "      <th>lat_from_cntr</th>\n",
       "      <th>lon_from_cntr</th>\n",
       "      <th>dist_from_cntr</th>\n",
       "    </tr>\n",
       "  </thead>\n",
       "  <tbody>\n",
       "    <tr>\n",
       "      <th>count</th>\n",
       "      <td>225445.000000</td>\n",
       "      <td>225445.000000</td>\n",
       "      <td>225445.000000</td>\n",
       "      <td>225445.000000</td>\n",
       "      <td>225445.000000</td>\n",
       "      <td>225445.000000</td>\n",
       "      <td>225445.000000</td>\n",
       "      <td>225445.000000</td>\n",
       "      <td>225445.000000</td>\n",
       "    </tr>\n",
       "    <tr>\n",
       "      <th>mean</th>\n",
       "      <td>30.301440</td>\n",
       "      <td>-97.733156</td>\n",
       "      <td>2.906261</td>\n",
       "      <td>49.665617</td>\n",
       "      <td>13.693637</td>\n",
       "      <td>6.980594</td>\n",
       "      <td>-0.034240</td>\n",
       "      <td>-0.009944</td>\n",
       "      <td>11.891963</td>\n",
       "    </tr>\n",
       "    <tr>\n",
       "      <th>std</th>\n",
       "      <td>0.094080</td>\n",
       "      <td>0.087511</td>\n",
       "      <td>1.935056</td>\n",
       "      <td>39.684226</td>\n",
       "      <td>7.140035</td>\n",
       "      <td>3.388540</td>\n",
       "      <td>0.094080</td>\n",
       "      <td>0.087511</td>\n",
       "      <td>7.349437</td>\n",
       "    </tr>\n",
       "    <tr>\n",
       "      <th>min</th>\n",
       "      <td>30.003883</td>\n",
       "      <td>-98.226709</td>\n",
       "      <td>0.000000</td>\n",
       "      <td>0.333333</td>\n",
       "      <td>0.000000</td>\n",
       "      <td>1.000000</td>\n",
       "      <td>-0.531442</td>\n",
       "      <td>-0.449780</td>\n",
       "      <td>0.007638</td>\n",
       "    </tr>\n",
       "    <tr>\n",
       "      <th>25%</th>\n",
       "      <td>30.231715</td>\n",
       "      <td>-97.777183</td>\n",
       "      <td>1.000000</td>\n",
       "      <td>19.500000</td>\n",
       "      <td>9.000000</td>\n",
       "      <td>4.000000</td>\n",
       "      <td>-0.106491</td>\n",
       "      <td>-0.056178</td>\n",
       "      <td>6.060222</td>\n",
       "    </tr>\n",
       "    <tr>\n",
       "      <th>50%</th>\n",
       "      <td>30.293602</td>\n",
       "      <td>-97.734450</td>\n",
       "      <td>3.000000</td>\n",
       "      <td>37.500000</td>\n",
       "      <td>15.000000</td>\n",
       "      <td>7.000000</td>\n",
       "      <td>-0.026402</td>\n",
       "      <td>-0.008650</td>\n",
       "      <td>11.071200</td>\n",
       "    </tr>\n",
       "    <tr>\n",
       "      <th>75%</th>\n",
       "      <td>30.373691</td>\n",
       "      <td>-97.686922</td>\n",
       "      <td>5.000000</td>\n",
       "      <td>68.516667</td>\n",
       "      <td>20.000000</td>\n",
       "      <td>10.000000</td>\n",
       "      <td>0.035485</td>\n",
       "      <td>0.034083</td>\n",
       "      <td>16.999669</td>\n",
       "    </tr>\n",
       "    <tr>\n",
       "      <th>max</th>\n",
       "      <td>30.798642</td>\n",
       "      <td>-97.293320</td>\n",
       "      <td>6.000000</td>\n",
       "      <td>200.000000</td>\n",
       "      <td>23.000000</td>\n",
       "      <td>12.000000</td>\n",
       "      <td>0.263317</td>\n",
       "      <td>0.483609</td>\n",
       "      <td>60.669983</td>\n",
       "    </tr>\n",
       "  </tbody>\n",
       "</table>\n",
       "</div>"
      ],
      "text/plain": [
       "            Latitude      Longitude            day   timespan_min  \\\n",
       "count  225445.000000  225445.000000  225445.000000  225445.000000   \n",
       "mean       30.301440     -97.733156       2.906261      49.665617   \n",
       "std         0.094080       0.087511       1.935056      39.684226   \n",
       "min        30.003883     -98.226709       0.000000       0.333333   \n",
       "25%        30.231715     -97.777183       1.000000      19.500000   \n",
       "50%        30.293602     -97.734450       3.000000      37.500000   \n",
       "75%        30.373691     -97.686922       5.000000      68.516667   \n",
       "max        30.798642     -97.293320       6.000000     200.000000   \n",
       "\n",
       "                hour          month  lat_from_cntr  lon_from_cntr  \\\n",
       "count  225445.000000  225445.000000  225445.000000  225445.000000   \n",
       "mean       13.693637       6.980594      -0.034240      -0.009944   \n",
       "std         7.140035       3.388540       0.094080       0.087511   \n",
       "min         0.000000       1.000000      -0.531442      -0.449780   \n",
       "25%         9.000000       4.000000      -0.106491      -0.056178   \n",
       "50%        15.000000       7.000000      -0.026402      -0.008650   \n",
       "75%        20.000000      10.000000       0.035485       0.034083   \n",
       "max        23.000000      12.000000       0.263317       0.483609   \n",
       "\n",
       "       dist_from_cntr  \n",
       "count   225445.000000  \n",
       "mean        11.891963  \n",
       "std          7.349437  \n",
       "min          0.007638  \n",
       "25%          6.060222  \n",
       "50%         11.071200  \n",
       "75%         16.999669  \n",
       "max         60.669983  "
      ]
     },
     "execution_count": 52,
     "metadata": {},
     "output_type": "execute_result"
    }
   ],
   "source": [
    "df.describe()"
   ]
  },
  {
   "cell_type": "code",
   "execution_count": 53,
   "id": "6ebd5676",
   "metadata": {},
   "outputs": [
    {
     "data": {
      "text/plain": [
       "Traffic Hazard           92530\n",
       "Crash Service            85024\n",
       "COLLISION                25467\n",
       "Stalled Vehicle          10818\n",
       "LOOSE LIVESTOCK           5567\n",
       "COLLISION WITH INJURY     5286\n",
       "VEHICLE FIRE               753\n",
       "Name: issue_reported, dtype: int64"
      ]
     },
     "execution_count": 53,
     "metadata": {},
     "output_type": "execute_result"
    }
   ],
   "source": [
    "df.issue_reported.value_counts()"
   ]
  },
  {
   "cell_type": "code",
   "execution_count": 54,
   "id": "8ff80d43",
   "metadata": {},
   "outputs": [
    {
     "data": {
      "text/plain": [
       "(225445, 11)"
      ]
     },
     "execution_count": 54,
     "metadata": {},
     "output_type": "execute_result"
    }
   ],
   "source": [
    "df.shape"
   ]
  },
  {
   "cell_type": "code",
   "execution_count": 59,
   "id": "fc9ff81c",
   "metadata": {},
   "outputs": [],
   "source": [
    "df = df[df[\"issue_reported\"].str.contains(\"COLLISION|VEHICLE FIRE|COLLISION WITH INJURY|Stalled Vehicle\")==False]"
   ]
  },
  {
   "cell_type": "code",
   "execution_count": 60,
   "id": "2a31d638",
   "metadata": {},
   "outputs": [
    {
     "data": {
      "text/plain": [
       "Traffic Hazard     92530\n",
       "Crash Service      85024\n",
       "LOOSE LIVESTOCK     5567\n",
       "Name: issue_reported, dtype: int64"
      ]
     },
     "execution_count": 60,
     "metadata": {},
     "output_type": "execute_result"
    }
   ],
   "source": [
    "df.issue_reported.value_counts()"
   ]
  },
  {
   "cell_type": "code",
   "execution_count": null,
   "id": "02d2400e",
   "metadata": {},
   "outputs": [],
   "source": []
  },
  {
   "cell_type": "code",
   "execution_count": null,
   "id": "f3ecd1c8",
   "metadata": {},
   "outputs": [],
   "source": []
  },
  {
   "cell_type": "markdown",
   "id": "7d96c9b3",
   "metadata": {},
   "source": [
    "#  Use Label Encoder for categorical data we are trying to predict\n",
    "Trying to predict the \"issue_reported\" involves transforming the column using LabelEncoder(). Then a quick check to ensure the numbers line up like before."
   ]
  },
  {
   "cell_type": "code",
   "execution_count": 46,
   "id": "2a36eedc",
   "metadata": {},
   "outputs": [
    {
     "data": {
      "text/html": [
       "<div>\n",
       "<style scoped>\n",
       "    .dataframe tbody tr th:only-of-type {\n",
       "        vertical-align: middle;\n",
       "    }\n",
       "\n",
       "    .dataframe tbody tr th {\n",
       "        vertical-align: top;\n",
       "    }\n",
       "\n",
       "    .dataframe thead th {\n",
       "        text-align: right;\n",
       "    }\n",
       "</style>\n",
       "<table border=\"1\" class=\"dataframe\">\n",
       "  <thead>\n",
       "    <tr style=\"text-align: right;\">\n",
       "      <th></th>\n",
       "      <th>issue_reported</th>\n",
       "      <th>Latitude</th>\n",
       "      <th>Longitude</th>\n",
       "      <th>day</th>\n",
       "      <th>timespan_min</th>\n",
       "      <th>hour</th>\n",
       "      <th>month</th>\n",
       "      <th>region</th>\n",
       "      <th>lat_from_cntr</th>\n",
       "      <th>lon_from_cntr</th>\n",
       "      <th>dist_from_cntr</th>\n",
       "    </tr>\n",
       "  </thead>\n",
       "  <tbody>\n",
       "    <tr>\n",
       "      <th>0</th>\n",
       "      <td>2</td>\n",
       "      <td>30.283797</td>\n",
       "      <td>-97.741906</td>\n",
       "      <td>2</td>\n",
       "      <td>144.066667</td>\n",
       "      <td>6</td>\n",
       "      <td>6</td>\n",
       "      <td>cnw</td>\n",
       "      <td>-0.016597</td>\n",
       "      <td>-0.001194</td>\n",
       "      <td>1.849061</td>\n",
       "    </tr>\n",
       "    <tr>\n",
       "      <th>1</th>\n",
       "      <td>5</td>\n",
       "      <td>30.339593</td>\n",
       "      <td>-97.700963</td>\n",
       "      <td>2</td>\n",
       "      <td>64.450000</td>\n",
       "      <td>10</td>\n",
       "      <td>6</td>\n",
       "      <td>vne</td>\n",
       "      <td>-0.072393</td>\n",
       "      <td>-0.042137</td>\n",
       "      <td>9.009002</td>\n",
       "    </tr>\n",
       "    <tr>\n",
       "      <th>2</th>\n",
       "      <td>2</td>\n",
       "      <td>30.329455</td>\n",
       "      <td>-97.638105</td>\n",
       "      <td>4</td>\n",
       "      <td>30.000000</td>\n",
       "      <td>21</td>\n",
       "      <td>4</td>\n",
       "      <td>vce</td>\n",
       "      <td>-0.062255</td>\n",
       "      <td>-0.104995</td>\n",
       "      <td>12.228301</td>\n",
       "    </tr>\n",
       "    <tr>\n",
       "      <th>3</th>\n",
       "      <td>5</td>\n",
       "      <td>30.202806</td>\n",
       "      <td>-97.760701</td>\n",
       "      <td>4</td>\n",
       "      <td>14.183333</td>\n",
       "      <td>21</td>\n",
       "      <td>4</td>\n",
       "      <td>vsw</td>\n",
       "      <td>0.064394</td>\n",
       "      <td>0.017601</td>\n",
       "      <td>7.357232</td>\n",
       "    </tr>\n",
       "    <tr>\n",
       "      <th>4</th>\n",
       "      <td>2</td>\n",
       "      <td>30.184265</td>\n",
       "      <td>-97.687339</td>\n",
       "      <td>4</td>\n",
       "      <td>149.150000</td>\n",
       "      <td>21</td>\n",
       "      <td>4</td>\n",
       "      <td>vse</td>\n",
       "      <td>0.082935</td>\n",
       "      <td>-0.055761</td>\n",
       "      <td>10.665180</td>\n",
       "    </tr>\n",
       "  </tbody>\n",
       "</table>\n",
       "</div>"
      ],
      "text/plain": [
       "   issue_reported   Latitude  Longitude  day  timespan_min  hour  month  \\\n",
       "0               2  30.283797 -97.741906    2    144.066667     6      6   \n",
       "1               5  30.339593 -97.700963    2     64.450000    10      6   \n",
       "2               2  30.329455 -97.638105    4     30.000000    21      4   \n",
       "3               5  30.202806 -97.760701    4     14.183333    21      4   \n",
       "4               2  30.184265 -97.687339    4    149.150000    21      4   \n",
       "\n",
       "  region  lat_from_cntr  lon_from_cntr  dist_from_cntr  \n",
       "0    cnw      -0.016597      -0.001194        1.849061  \n",
       "1    vne      -0.072393      -0.042137        9.009002  \n",
       "2    vce      -0.062255      -0.104995       12.228301  \n",
       "3    vsw       0.064394       0.017601        7.357232  \n",
       "4    vse       0.082935      -0.055761       10.665180  "
      ]
     },
     "execution_count": 46,
     "metadata": {},
     "output_type": "execute_result"
    }
   ],
   "source": [
    "le = LabelEncoder()\n",
    "df['issue_reported']=le.fit_transform(df['issue_reported'])\n",
    "df.head()"
   ]
  },
  {
   "cell_type": "code",
   "execution_count": 47,
   "id": "ac6a9210",
   "metadata": {},
   "outputs": [
    {
     "name": "stdout",
     "output_type": "stream",
     "text": [
      "<class 'pandas.core.frame.DataFrame'>\n",
      "RangeIndex: 225445 entries, 0 to 225444\n",
      "Data columns (total 11 columns):\n",
      " #   Column          Non-Null Count   Dtype  \n",
      "---  ------          --------------   -----  \n",
      " 0   issue_reported  225445 non-null  int64  \n",
      " 1   Latitude        225445 non-null  float64\n",
      " 2   Longitude       225445 non-null  float64\n",
      " 3   day             225445 non-null  int64  \n",
      " 4   timespan_min    225445 non-null  float64\n",
      " 5   hour            225445 non-null  int64  \n",
      " 6   month           225445 non-null  int64  \n",
      " 7   region          225445 non-null  object \n",
      " 8   lat_from_cntr   225445 non-null  float64\n",
      " 9   lon_from_cntr   225445 non-null  float64\n",
      " 10  dist_from_cntr  225445 non-null  float64\n",
      "dtypes: float64(6), int64(4), object(1)\n",
      "memory usage: 18.9+ MB\n"
     ]
    }
   ],
   "source": [
    "df.info()"
   ]
  },
  {
   "cell_type": "code",
   "execution_count": 48,
   "id": "81785191",
   "metadata": {},
   "outputs": [
    {
     "data": {
      "text/plain": [
       "array([2, 5, 1, 4, 0, 3, 6])"
      ]
     },
     "execution_count": 48,
     "metadata": {},
     "output_type": "execute_result"
    }
   ],
   "source": [
    "df['issue_reported'].unique()"
   ]
  },
  {
   "cell_type": "code",
   "execution_count": 9,
   "id": "afc90c49",
   "metadata": {},
   "outputs": [
    {
     "data": {
      "text/plain": [
       "5    92530\n",
       "2    85024\n",
       "0    25467\n",
       "4    10818\n",
       "3     5567\n",
       "1     5286\n",
       "6      753\n",
       "Name: issue_reported, dtype: int64"
      ]
     },
     "execution_count": 9,
     "metadata": {},
     "output_type": "execute_result"
    }
   ],
   "source": [
    "df['issue_reported'].value_counts()"
   ]
  },
  {
   "cell_type": "code",
   "execution_count": 10,
   "id": "604e9337",
   "metadata": {},
   "outputs": [
    {
     "data": {
      "text/plain": [
       "issue_reported\n",
       "0    42.979385\n",
       "1    55.196339\n",
       "2    68.461010\n",
       "3    42.089731\n",
       "4    31.433333\n",
       "5    36.540976\n",
       "6    45.440106\n",
       "Name: timespan_min, dtype: float64"
      ]
     },
     "execution_count": 10,
     "metadata": {},
     "output_type": "execute_result"
    }
   ],
   "source": [
    "avg_issue = df.groupby('issue_reported').mean()\n",
    "avg_issue_span = avg_issue.timespan_min\n",
    "avg_issue_span"
   ]
  },
  {
   "cell_type": "code",
   "execution_count": null,
   "id": "bd717ab1",
   "metadata": {},
   "outputs": [],
   "source": []
  },
  {
   "cell_type": "code",
   "execution_count": 10,
   "id": "0710b073",
   "metadata": {},
   "outputs": [
    {
     "data": {
      "text/plain": [
       "issue_reported\n",
       "0    36.016667\n",
       "1    50.450000\n",
       "2    60.466667\n",
       "3    32.066667\n",
       "4    22.775000\n",
       "5    27.000000\n",
       "6    31.833333\n",
       "Name: timespan_min, dtype: float64"
      ]
     },
     "execution_count": 10,
     "metadata": {},
     "output_type": "execute_result"
    }
   ],
   "source": [
    "median_issue = df.groupby('issue_reported').median()\n",
    "median_issue_span = median_issue.timespan_min\n",
    "median_issue_span"
   ]
  },
  {
   "cell_type": "code",
   "execution_count": 11,
   "id": "17b150e9",
   "metadata": {},
   "outputs": [
    {
     "data": {
      "text/plain": [
       "vne    46522\n",
       "vnw    34619\n",
       "vcw    29815\n",
       "vsw    28881\n",
       "cne    16911\n",
       "vse    13828\n",
       "cw     13356\n",
       "vce    13000\n",
       "cnw     9623\n",
       "csw     7660\n",
       "cse     6366\n",
       "ce      4864\n",
       "Name: region, dtype: int64"
      ]
     },
     "execution_count": 11,
     "metadata": {},
     "output_type": "execute_result"
    }
   ],
   "source": [
    "df['region'].value_counts()"
   ]
  },
  {
   "cell_type": "markdown",
   "id": "c7d7cf2e",
   "metadata": {},
   "source": [
    "## Apply LabelEncoder on the new categorical column 'region'."
   ]
  },
  {
   "cell_type": "code",
   "execution_count": 12,
   "id": "d4fa3505",
   "metadata": {},
   "outputs": [
    {
     "data": {
      "text/html": [
       "<div>\n",
       "<style scoped>\n",
       "    .dataframe tbody tr th:only-of-type {\n",
       "        vertical-align: middle;\n",
       "    }\n",
       "\n",
       "    .dataframe tbody tr th {\n",
       "        vertical-align: top;\n",
       "    }\n",
       "\n",
       "    .dataframe thead th {\n",
       "        text-align: right;\n",
       "    }\n",
       "</style>\n",
       "<table border=\"1\" class=\"dataframe\">\n",
       "  <thead>\n",
       "    <tr style=\"text-align: right;\">\n",
       "      <th></th>\n",
       "      <th>issue_reported</th>\n",
       "      <th>Latitude</th>\n",
       "      <th>Longitude</th>\n",
       "      <th>day</th>\n",
       "      <th>timespan_min</th>\n",
       "      <th>hour</th>\n",
       "      <th>month</th>\n",
       "      <th>region</th>\n",
       "      <th>lat_from_cntr</th>\n",
       "      <th>lon_from_cntr</th>\n",
       "      <th>dist_from_cntr</th>\n",
       "    </tr>\n",
       "  </thead>\n",
       "  <tbody>\n",
       "    <tr>\n",
       "      <th>0</th>\n",
       "      <td>2</td>\n",
       "      <td>30.283797</td>\n",
       "      <td>-97.741906</td>\n",
       "      <td>2</td>\n",
       "      <td>144.066667</td>\n",
       "      <td>6</td>\n",
       "      <td>6</td>\n",
       "      <td>2</td>\n",
       "      <td>-0.016597</td>\n",
       "      <td>-0.001194</td>\n",
       "      <td>1.849061</td>\n",
       "    </tr>\n",
       "    <tr>\n",
       "      <th>1</th>\n",
       "      <td>5</td>\n",
       "      <td>30.339593</td>\n",
       "      <td>-97.700963</td>\n",
       "      <td>2</td>\n",
       "      <td>64.450000</td>\n",
       "      <td>10</td>\n",
       "      <td>6</td>\n",
       "      <td>8</td>\n",
       "      <td>-0.072393</td>\n",
       "      <td>-0.042137</td>\n",
       "      <td>9.009002</td>\n",
       "    </tr>\n",
       "    <tr>\n",
       "      <th>2</th>\n",
       "      <td>2</td>\n",
       "      <td>30.329455</td>\n",
       "      <td>-97.638105</td>\n",
       "      <td>4</td>\n",
       "      <td>30.000000</td>\n",
       "      <td>21</td>\n",
       "      <td>4</td>\n",
       "      <td>6</td>\n",
       "      <td>-0.062255</td>\n",
       "      <td>-0.104995</td>\n",
       "      <td>12.228301</td>\n",
       "    </tr>\n",
       "    <tr>\n",
       "      <th>3</th>\n",
       "      <td>5</td>\n",
       "      <td>30.202806</td>\n",
       "      <td>-97.760701</td>\n",
       "      <td>4</td>\n",
       "      <td>14.183333</td>\n",
       "      <td>21</td>\n",
       "      <td>4</td>\n",
       "      <td>11</td>\n",
       "      <td>0.064394</td>\n",
       "      <td>0.017601</td>\n",
       "      <td>7.357232</td>\n",
       "    </tr>\n",
       "    <tr>\n",
       "      <th>4</th>\n",
       "      <td>2</td>\n",
       "      <td>30.184265</td>\n",
       "      <td>-97.687339</td>\n",
       "      <td>4</td>\n",
       "      <td>149.150000</td>\n",
       "      <td>21</td>\n",
       "      <td>4</td>\n",
       "      <td>10</td>\n",
       "      <td>0.082935</td>\n",
       "      <td>-0.055761</td>\n",
       "      <td>10.665180</td>\n",
       "    </tr>\n",
       "  </tbody>\n",
       "</table>\n",
       "</div>"
      ],
      "text/plain": [
       "   issue_reported   Latitude  Longitude  day  timespan_min  hour  month  \\\n",
       "0               2  30.283797 -97.741906    2    144.066667     6      6   \n",
       "1               5  30.339593 -97.700963    2     64.450000    10      6   \n",
       "2               2  30.329455 -97.638105    4     30.000000    21      4   \n",
       "3               5  30.202806 -97.760701    4     14.183333    21      4   \n",
       "4               2  30.184265 -97.687339    4    149.150000    21      4   \n",
       "\n",
       "   region  lat_from_cntr  lon_from_cntr  dist_from_cntr  \n",
       "0       2      -0.016597      -0.001194        1.849061  \n",
       "1       8      -0.072393      -0.042137        9.009002  \n",
       "2       6      -0.062255      -0.104995       12.228301  \n",
       "3      11       0.064394       0.017601        7.357232  \n",
       "4      10       0.082935      -0.055761       10.665180  "
      ]
     },
     "execution_count": 12,
     "metadata": {},
     "output_type": "execute_result"
    }
   ],
   "source": [
    "le2 = LabelEncoder()\n",
    "df['region']=le2.fit_transform(df['region'])\n",
    "df.head()"
   ]
  },
  {
   "cell_type": "markdown",
   "id": "6746b6bd",
   "metadata": {},
   "source": [
    "### Drop \"Latitude\" and \"Longitude\""
   ]
  },
  {
   "cell_type": "code",
   "execution_count": 13,
   "id": "6616e839",
   "metadata": {},
   "outputs": [
    {
     "data": {
      "text/html": [
       "<div>\n",
       "<style scoped>\n",
       "    .dataframe tbody tr th:only-of-type {\n",
       "        vertical-align: middle;\n",
       "    }\n",
       "\n",
       "    .dataframe tbody tr th {\n",
       "        vertical-align: top;\n",
       "    }\n",
       "\n",
       "    .dataframe thead th {\n",
       "        text-align: right;\n",
       "    }\n",
       "</style>\n",
       "<table border=\"1\" class=\"dataframe\">\n",
       "  <thead>\n",
       "    <tr style=\"text-align: right;\">\n",
       "      <th></th>\n",
       "      <th>issue_reported</th>\n",
       "      <th>day</th>\n",
       "      <th>timespan_min</th>\n",
       "      <th>hour</th>\n",
       "      <th>month</th>\n",
       "      <th>region</th>\n",
       "      <th>lat_from_cntr</th>\n",
       "      <th>lon_from_cntr</th>\n",
       "      <th>dist_from_cntr</th>\n",
       "    </tr>\n",
       "  </thead>\n",
       "  <tbody>\n",
       "    <tr>\n",
       "      <th>0</th>\n",
       "      <td>2</td>\n",
       "      <td>2</td>\n",
       "      <td>144.066667</td>\n",
       "      <td>6</td>\n",
       "      <td>6</td>\n",
       "      <td>2</td>\n",
       "      <td>-0.016597</td>\n",
       "      <td>-0.001194</td>\n",
       "      <td>1.849061</td>\n",
       "    </tr>\n",
       "    <tr>\n",
       "      <th>1</th>\n",
       "      <td>5</td>\n",
       "      <td>2</td>\n",
       "      <td>64.450000</td>\n",
       "      <td>10</td>\n",
       "      <td>6</td>\n",
       "      <td>8</td>\n",
       "      <td>-0.072393</td>\n",
       "      <td>-0.042137</td>\n",
       "      <td>9.009002</td>\n",
       "    </tr>\n",
       "    <tr>\n",
       "      <th>2</th>\n",
       "      <td>2</td>\n",
       "      <td>4</td>\n",
       "      <td>30.000000</td>\n",
       "      <td>21</td>\n",
       "      <td>4</td>\n",
       "      <td>6</td>\n",
       "      <td>-0.062255</td>\n",
       "      <td>-0.104995</td>\n",
       "      <td>12.228301</td>\n",
       "    </tr>\n",
       "    <tr>\n",
       "      <th>3</th>\n",
       "      <td>5</td>\n",
       "      <td>4</td>\n",
       "      <td>14.183333</td>\n",
       "      <td>21</td>\n",
       "      <td>4</td>\n",
       "      <td>11</td>\n",
       "      <td>0.064394</td>\n",
       "      <td>0.017601</td>\n",
       "      <td>7.357232</td>\n",
       "    </tr>\n",
       "    <tr>\n",
       "      <th>4</th>\n",
       "      <td>2</td>\n",
       "      <td>4</td>\n",
       "      <td>149.150000</td>\n",
       "      <td>21</td>\n",
       "      <td>4</td>\n",
       "      <td>10</td>\n",
       "      <td>0.082935</td>\n",
       "      <td>-0.055761</td>\n",
       "      <td>10.665180</td>\n",
       "    </tr>\n",
       "  </tbody>\n",
       "</table>\n",
       "</div>"
      ],
      "text/plain": [
       "   issue_reported  day  timespan_min  hour  month  region  lat_from_cntr  \\\n",
       "0               2    2    144.066667     6      6       2      -0.016597   \n",
       "1               5    2     64.450000    10      6       8      -0.072393   \n",
       "2               2    4     30.000000    21      4       6      -0.062255   \n",
       "3               5    4     14.183333    21      4      11       0.064394   \n",
       "4               2    4    149.150000    21      4      10       0.082935   \n",
       "\n",
       "   lon_from_cntr  dist_from_cntr  \n",
       "0      -0.001194        1.849061  \n",
       "1      -0.042137        9.009002  \n",
       "2      -0.104995       12.228301  \n",
       "3       0.017601        7.357232  \n",
       "4      -0.055761       10.665180  "
      ]
     },
     "execution_count": 13,
     "metadata": {},
     "output_type": "execute_result"
    }
   ],
   "source": [
    "df = df.drop(columns=['Latitude', 'Longitude'])\n",
    "df.head()"
   ]
  },
  {
   "cell_type": "raw",
   "id": "8d4af752",
   "metadata": {},
   "source": []
  },
  {
   "cell_type": "code",
   "execution_count": null,
   "id": "b688b99b",
   "metadata": {},
   "outputs": [],
   "source": []
  },
  {
   "cell_type": "markdown",
   "id": "dbb786ec",
   "metadata": {},
   "source": [
    "## Scaling Timespan and Latitude/Longitude Features\n",
    "First, create a series variable using .values"
   ]
  },
  {
   "cell_type": "code",
   "execution_count": 14,
   "id": "5150aa8d",
   "metadata": {},
   "outputs": [],
   "source": [
    "#series1 = df.timespan_min.values\n",
    "series2 = df.dist_from_cntr.values\n",
    "series3 = df.lat_from_cntr.values\n",
    "series4 = df.lon_from_cntr.values"
   ]
  },
  {
   "cell_type": "markdown",
   "id": "3248e25f",
   "metadata": {},
   "source": [
    "Then reshape the series to scale it as 2D arrays"
   ]
  },
  {
   "cell_type": "code",
   "execution_count": 15,
   "id": "acce04bb",
   "metadata": {},
   "outputs": [],
   "source": [
    "#series1 = series1.reshape(-1,1)"
   ]
  },
  {
   "cell_type": "code",
   "execution_count": 16,
   "id": "e11a173d",
   "metadata": {},
   "outputs": [],
   "source": [
    "series2 = series2.reshape(-1,1)"
   ]
  },
  {
   "cell_type": "code",
   "execution_count": 17,
   "id": "0fcafbf5",
   "metadata": {},
   "outputs": [],
   "source": [
    "series3 = series3.reshape(-1,1)"
   ]
  },
  {
   "cell_type": "code",
   "execution_count": 18,
   "id": "3429cbc0",
   "metadata": {},
   "outputs": [],
   "source": [
    "series4 = series4.reshape(-1,1)"
   ]
  },
  {
   "cell_type": "code",
   "execution_count": 19,
   "id": "19f09ae4",
   "metadata": {},
   "outputs": [],
   "source": [
    "scaler = StandardScaler()"
   ]
  },
  {
   "cell_type": "code",
   "execution_count": null,
   "id": "43535753",
   "metadata": {},
   "outputs": [],
   "source": []
  },
  {
   "cell_type": "code",
   "execution_count": null,
   "id": "c3e876c0",
   "metadata": {},
   "outputs": [],
   "source": []
  },
  {
   "cell_type": "markdown",
   "id": "bdb2064f",
   "metadata": {},
   "source": [
    "Then create new columns for for each of the series."
   ]
  },
  {
   "cell_type": "code",
   "execution_count": 20,
   "id": "6f04b81e",
   "metadata": {},
   "outputs": [],
   "source": [
    "#df['scaled_timespan'] = scaler.fit_transform(series1)"
   ]
  },
  {
   "cell_type": "code",
   "execution_count": 21,
   "id": "61b87f47",
   "metadata": {},
   "outputs": [],
   "source": [
    "df['scaled_dist'] = scaler.fit_transform(series2)"
   ]
  },
  {
   "cell_type": "code",
   "execution_count": 22,
   "id": "b323bda1",
   "metadata": {},
   "outputs": [],
   "source": [
    "df['scaled_lat_dist'] = scaler.fit_transform(series3)"
   ]
  },
  {
   "cell_type": "code",
   "execution_count": 23,
   "id": "b0ae821a",
   "metadata": {},
   "outputs": [],
   "source": [
    "df['scaled_lon_dist'] = scaler.fit_transform(series4)"
   ]
  },
  {
   "cell_type": "code",
   "execution_count": 24,
   "id": "fe5864fd",
   "metadata": {},
   "outputs": [
    {
     "data": {
      "text/html": [
       "<div>\n",
       "<style scoped>\n",
       "    .dataframe tbody tr th:only-of-type {\n",
       "        vertical-align: middle;\n",
       "    }\n",
       "\n",
       "    .dataframe tbody tr th {\n",
       "        vertical-align: top;\n",
       "    }\n",
       "\n",
       "    .dataframe thead th {\n",
       "        text-align: right;\n",
       "    }\n",
       "</style>\n",
       "<table border=\"1\" class=\"dataframe\">\n",
       "  <thead>\n",
       "    <tr style=\"text-align: right;\">\n",
       "      <th></th>\n",
       "      <th>issue_reported</th>\n",
       "      <th>day</th>\n",
       "      <th>timespan_min</th>\n",
       "      <th>hour</th>\n",
       "      <th>month</th>\n",
       "      <th>region</th>\n",
       "      <th>lat_from_cntr</th>\n",
       "      <th>lon_from_cntr</th>\n",
       "      <th>dist_from_cntr</th>\n",
       "      <th>scaled_dist</th>\n",
       "      <th>scaled_lat_dist</th>\n",
       "      <th>scaled_lon_dist</th>\n",
       "    </tr>\n",
       "  </thead>\n",
       "  <tbody>\n",
       "    <tr>\n",
       "      <th>0</th>\n",
       "      <td>2</td>\n",
       "      <td>2</td>\n",
       "      <td>144.066667</td>\n",
       "      <td>6</td>\n",
       "      <td>6</td>\n",
       "      <td>2</td>\n",
       "      <td>-0.016597</td>\n",
       "      <td>-0.001194</td>\n",
       "      <td>1.849061</td>\n",
       "      <td>-1.366489</td>\n",
       "      <td>0.187527</td>\n",
       "      <td>0.099986</td>\n",
       "    </tr>\n",
       "    <tr>\n",
       "      <th>1</th>\n",
       "      <td>5</td>\n",
       "      <td>2</td>\n",
       "      <td>64.450000</td>\n",
       "      <td>10</td>\n",
       "      <td>6</td>\n",
       "      <td>8</td>\n",
       "      <td>-0.072393</td>\n",
       "      <td>-0.042137</td>\n",
       "      <td>9.009002</td>\n",
       "      <td>-0.392271</td>\n",
       "      <td>-0.405543</td>\n",
       "      <td>-0.367876</td>\n",
       "    </tr>\n",
       "    <tr>\n",
       "      <th>2</th>\n",
       "      <td>2</td>\n",
       "      <td>4</td>\n",
       "      <td>30.000000</td>\n",
       "      <td>21</td>\n",
       "      <td>4</td>\n",
       "      <td>6</td>\n",
       "      <td>-0.062255</td>\n",
       "      <td>-0.104995</td>\n",
       "      <td>12.228301</td>\n",
       "      <td>0.045764</td>\n",
       "      <td>-0.297783</td>\n",
       "      <td>-1.086165</td>\n",
       "    </tr>\n",
       "    <tr>\n",
       "      <th>3</th>\n",
       "      <td>5</td>\n",
       "      <td>4</td>\n",
       "      <td>14.183333</td>\n",
       "      <td>21</td>\n",
       "      <td>4</td>\n",
       "      <td>11</td>\n",
       "      <td>0.064394</td>\n",
       "      <td>0.017601</td>\n",
       "      <td>7.357232</td>\n",
       "      <td>-0.617019</td>\n",
       "      <td>1.048402</td>\n",
       "      <td>0.314760</td>\n",
       "    </tr>\n",
       "    <tr>\n",
       "      <th>4</th>\n",
       "      <td>2</td>\n",
       "      <td>4</td>\n",
       "      <td>149.150000</td>\n",
       "      <td>21</td>\n",
       "      <td>4</td>\n",
       "      <td>10</td>\n",
       "      <td>0.082935</td>\n",
       "      <td>-0.055761</td>\n",
       "      <td>10.665180</td>\n",
       "      <td>-0.166922</td>\n",
       "      <td>1.245479</td>\n",
       "      <td>-0.523560</td>\n",
       "    </tr>\n",
       "  </tbody>\n",
       "</table>\n",
       "</div>"
      ],
      "text/plain": [
       "   issue_reported  day  timespan_min  hour  month  region  lat_from_cntr  \\\n",
       "0               2    2    144.066667     6      6       2      -0.016597   \n",
       "1               5    2     64.450000    10      6       8      -0.072393   \n",
       "2               2    4     30.000000    21      4       6      -0.062255   \n",
       "3               5    4     14.183333    21      4      11       0.064394   \n",
       "4               2    4    149.150000    21      4      10       0.082935   \n",
       "\n",
       "   lon_from_cntr  dist_from_cntr  scaled_dist  scaled_lat_dist  \\\n",
       "0      -0.001194        1.849061    -1.366489         0.187527   \n",
       "1      -0.042137        9.009002    -0.392271        -0.405543   \n",
       "2      -0.104995       12.228301     0.045764        -0.297783   \n",
       "3       0.017601        7.357232    -0.617019         1.048402   \n",
       "4      -0.055761       10.665180    -0.166922         1.245479   \n",
       "\n",
       "   scaled_lon_dist  \n",
       "0         0.099986  \n",
       "1        -0.367876  \n",
       "2        -1.086165  \n",
       "3         0.314760  \n",
       "4        -0.523560  "
      ]
     },
     "execution_count": 24,
     "metadata": {},
     "output_type": "execute_result"
    }
   ],
   "source": [
    "\n",
    "df.head()"
   ]
  },
  {
   "cell_type": "code",
   "execution_count": 25,
   "id": "098a1a38",
   "metadata": {},
   "outputs": [],
   "source": [
    "dummies = pd.get_dummies(df, columns=['day','hour','month'])"
   ]
  },
  {
   "cell_type": "code",
   "execution_count": 26,
   "id": "93abcc0d",
   "metadata": {},
   "outputs": [],
   "source": [
    "dummies = dummies.drop(columns=[ 'timespan_min', 'dist_from_cntr', 'lat_from_cntr', 'lon_from_cntr'])"
   ]
  },
  {
   "cell_type": "code",
   "execution_count": 27,
   "id": "3cfc42f9",
   "metadata": {},
   "outputs": [
    {
     "data": {
      "text/html": [
       "<div>\n",
       "<style scoped>\n",
       "    .dataframe tbody tr th:only-of-type {\n",
       "        vertical-align: middle;\n",
       "    }\n",
       "\n",
       "    .dataframe tbody tr th {\n",
       "        vertical-align: top;\n",
       "    }\n",
       "\n",
       "    .dataframe thead th {\n",
       "        text-align: right;\n",
       "    }\n",
       "</style>\n",
       "<table border=\"1\" class=\"dataframe\">\n",
       "  <thead>\n",
       "    <tr style=\"text-align: right;\">\n",
       "      <th></th>\n",
       "      <th>issue_reported</th>\n",
       "      <th>region</th>\n",
       "      <th>scaled_dist</th>\n",
       "      <th>scaled_lat_dist</th>\n",
       "      <th>scaled_lon_dist</th>\n",
       "      <th>day_0</th>\n",
       "      <th>day_1</th>\n",
       "      <th>day_2</th>\n",
       "      <th>day_3</th>\n",
       "      <th>day_4</th>\n",
       "      <th>...</th>\n",
       "      <th>month_3</th>\n",
       "      <th>month_4</th>\n",
       "      <th>month_5</th>\n",
       "      <th>month_6</th>\n",
       "      <th>month_7</th>\n",
       "      <th>month_8</th>\n",
       "      <th>month_9</th>\n",
       "      <th>month_10</th>\n",
       "      <th>month_11</th>\n",
       "      <th>month_12</th>\n",
       "    </tr>\n",
       "  </thead>\n",
       "  <tbody>\n",
       "    <tr>\n",
       "      <th>0</th>\n",
       "      <td>2</td>\n",
       "      <td>2</td>\n",
       "      <td>-1.366489</td>\n",
       "      <td>0.187527</td>\n",
       "      <td>0.099986</td>\n",
       "      <td>0</td>\n",
       "      <td>0</td>\n",
       "      <td>1</td>\n",
       "      <td>0</td>\n",
       "      <td>0</td>\n",
       "      <td>...</td>\n",
       "      <td>0</td>\n",
       "      <td>0</td>\n",
       "      <td>0</td>\n",
       "      <td>1</td>\n",
       "      <td>0</td>\n",
       "      <td>0</td>\n",
       "      <td>0</td>\n",
       "      <td>0</td>\n",
       "      <td>0</td>\n",
       "      <td>0</td>\n",
       "    </tr>\n",
       "    <tr>\n",
       "      <th>1</th>\n",
       "      <td>5</td>\n",
       "      <td>8</td>\n",
       "      <td>-0.392271</td>\n",
       "      <td>-0.405543</td>\n",
       "      <td>-0.367876</td>\n",
       "      <td>0</td>\n",
       "      <td>0</td>\n",
       "      <td>1</td>\n",
       "      <td>0</td>\n",
       "      <td>0</td>\n",
       "      <td>...</td>\n",
       "      <td>0</td>\n",
       "      <td>0</td>\n",
       "      <td>0</td>\n",
       "      <td>1</td>\n",
       "      <td>0</td>\n",
       "      <td>0</td>\n",
       "      <td>0</td>\n",
       "      <td>0</td>\n",
       "      <td>0</td>\n",
       "      <td>0</td>\n",
       "    </tr>\n",
       "    <tr>\n",
       "      <th>2</th>\n",
       "      <td>2</td>\n",
       "      <td>6</td>\n",
       "      <td>0.045764</td>\n",
       "      <td>-0.297783</td>\n",
       "      <td>-1.086165</td>\n",
       "      <td>0</td>\n",
       "      <td>0</td>\n",
       "      <td>0</td>\n",
       "      <td>0</td>\n",
       "      <td>1</td>\n",
       "      <td>...</td>\n",
       "      <td>0</td>\n",
       "      <td>1</td>\n",
       "      <td>0</td>\n",
       "      <td>0</td>\n",
       "      <td>0</td>\n",
       "      <td>0</td>\n",
       "      <td>0</td>\n",
       "      <td>0</td>\n",
       "      <td>0</td>\n",
       "      <td>0</td>\n",
       "    </tr>\n",
       "    <tr>\n",
       "      <th>3</th>\n",
       "      <td>5</td>\n",
       "      <td>11</td>\n",
       "      <td>-0.617019</td>\n",
       "      <td>1.048402</td>\n",
       "      <td>0.314760</td>\n",
       "      <td>0</td>\n",
       "      <td>0</td>\n",
       "      <td>0</td>\n",
       "      <td>0</td>\n",
       "      <td>1</td>\n",
       "      <td>...</td>\n",
       "      <td>0</td>\n",
       "      <td>1</td>\n",
       "      <td>0</td>\n",
       "      <td>0</td>\n",
       "      <td>0</td>\n",
       "      <td>0</td>\n",
       "      <td>0</td>\n",
       "      <td>0</td>\n",
       "      <td>0</td>\n",
       "      <td>0</td>\n",
       "    </tr>\n",
       "    <tr>\n",
       "      <th>4</th>\n",
       "      <td>2</td>\n",
       "      <td>10</td>\n",
       "      <td>-0.166922</td>\n",
       "      <td>1.245479</td>\n",
       "      <td>-0.523560</td>\n",
       "      <td>0</td>\n",
       "      <td>0</td>\n",
       "      <td>0</td>\n",
       "      <td>0</td>\n",
       "      <td>1</td>\n",
       "      <td>...</td>\n",
       "      <td>0</td>\n",
       "      <td>1</td>\n",
       "      <td>0</td>\n",
       "      <td>0</td>\n",
       "      <td>0</td>\n",
       "      <td>0</td>\n",
       "      <td>0</td>\n",
       "      <td>0</td>\n",
       "      <td>0</td>\n",
       "      <td>0</td>\n",
       "    </tr>\n",
       "  </tbody>\n",
       "</table>\n",
       "<p>5 rows × 48 columns</p>\n",
       "</div>"
      ],
      "text/plain": [
       "   issue_reported  region  scaled_dist  scaled_lat_dist  scaled_lon_dist  \\\n",
       "0               2       2    -1.366489         0.187527         0.099986   \n",
       "1               5       8    -0.392271        -0.405543        -0.367876   \n",
       "2               2       6     0.045764        -0.297783        -1.086165   \n",
       "3               5      11    -0.617019         1.048402         0.314760   \n",
       "4               2      10    -0.166922         1.245479        -0.523560   \n",
       "\n",
       "   day_0  day_1  day_2  day_3  day_4  ...  month_3  month_4  month_5  month_6  \\\n",
       "0      0      0      1      0      0  ...        0        0        0        1   \n",
       "1      0      0      1      0      0  ...        0        0        0        1   \n",
       "2      0      0      0      0      1  ...        0        1        0        0   \n",
       "3      0      0      0      0      1  ...        0        1        0        0   \n",
       "4      0      0      0      0      1  ...        0        1        0        0   \n",
       "\n",
       "   month_7  month_8  month_9  month_10  month_11  month_12  \n",
       "0        0        0        0         0         0         0  \n",
       "1        0        0        0         0         0         0  \n",
       "2        0        0        0         0         0         0  \n",
       "3        0        0        0         0         0         0  \n",
       "4        0        0        0         0         0         0  \n",
       "\n",
       "[5 rows x 48 columns]"
      ]
     },
     "execution_count": 27,
     "metadata": {},
     "output_type": "execute_result"
    }
   ],
   "source": [
    "dummies.head()"
   ]
  },
  {
   "cell_type": "code",
   "execution_count": 28,
   "id": "603cb9d0",
   "metadata": {},
   "outputs": [],
   "source": [
    "X = dummies"
   ]
  },
  {
   "cell_type": "code",
   "execution_count": 29,
   "id": "1b039e7a",
   "metadata": {},
   "outputs": [],
   "source": [
    "\n",
    "y = df.issue_reported"
   ]
  },
  {
   "cell_type": "code",
   "execution_count": 30,
   "id": "93405838",
   "metadata": {},
   "outputs": [
    {
     "data": {
      "text/plain": [
       "0    2\n",
       "1    5\n",
       "2    2\n",
       "3    5\n",
       "4    2\n",
       "Name: issue_reported, dtype: int64"
      ]
     },
     "execution_count": 30,
     "metadata": {},
     "output_type": "execute_result"
    }
   ],
   "source": [
    "y.head()"
   ]
  },
  {
   "cell_type": "code",
   "execution_count": 32,
   "id": "16c3a6a1",
   "metadata": {},
   "outputs": [],
   "source": [
    "y = pd.Series(y).where(lambda x : x!=2).dropna()"
   ]
  },
  {
   "cell_type": "code",
   "execution_count": 34,
   "id": "bf078cde",
   "metadata": {},
   "outputs": [
    {
     "data": {
      "text/plain": [
       "1     5.0\n",
       "3     5.0\n",
       "6     5.0\n",
       "7     5.0\n",
       "8     5.0\n",
       "9     5.0\n",
       "10    5.0\n",
       "11    1.0\n",
       "13    4.0\n",
       "15    5.0\n",
       "17    5.0\n",
       "18    5.0\n",
       "19    5.0\n",
       "20    5.0\n",
       "21    5.0\n",
       "23    0.0\n",
       "24    4.0\n",
       "25    5.0\n",
       "26    5.0\n",
       "27    5.0\n",
       "Name: issue_reported, dtype: float64"
      ]
     },
     "execution_count": 34,
     "metadata": {},
     "output_type": "execute_result"
    }
   ],
   "source": []
  },
  {
   "cell_type": "code",
   "execution_count": null,
   "id": "983f19e1",
   "metadata": {},
   "outputs": [],
   "source": []
  },
  {
   "cell_type": "code",
   "execution_count": 118,
   "id": "d9ee460f",
   "metadata": {},
   "outputs": [
    {
     "data": {
      "text/plain": [
       "(225445, 48)"
      ]
     },
     "execution_count": 118,
     "metadata": {},
     "output_type": "execute_result"
    }
   ],
   "source": [
    "X.shape"
   ]
  },
  {
   "cell_type": "code",
   "execution_count": 119,
   "id": "78aed533",
   "metadata": {},
   "outputs": [
    {
     "data": {
      "text/plain": [
       "(225445,)"
      ]
     },
     "execution_count": 119,
     "metadata": {},
     "output_type": "execute_result"
    }
   ],
   "source": [
    "y.shape"
   ]
  },
  {
   "cell_type": "markdown",
   "id": "c0d7e444",
   "metadata": {},
   "source": [
    "## Train Test Split and Scale"
   ]
  },
  {
   "cell_type": "code",
   "execution_count": 120,
   "id": "972c89ed",
   "metadata": {},
   "outputs": [],
   "source": [
    "X_train, X_test, y_train, y_test = train_test_split(X, y, test_size=0.4, random_state=123)"
   ]
  },
  {
   "cell_type": "code",
   "execution_count": 121,
   "id": "388f5802",
   "metadata": {},
   "outputs": [],
   "source": [
    "X_train = scaler.fit_transform(X_train)\n",
    "X_test = scaler.transform(X_test)"
   ]
  },
  {
   "cell_type": "code",
   "execution_count": null,
   "id": "059e9f65",
   "metadata": {},
   "outputs": [],
   "source": [
    "\n",
    "select = SelectKBest(k=25)\n",
    "X_train_selected = select.fit_transform(X_train, y_train)\n",
    "\n",
    "gbc = GradientBoostingClassifier(random_state=1)\n",
    "gbc.fit(X_train_selected, y_train)\n",
    "GradientBoostingClassifier(random_state=1)\n",
    "\n",
    "X_test_selected = select.transform(X_test)\n",
    "y_pred = gbc.predict(X_test_selected)\n",
    "accuracy_score(y_test, y_pred)"
   ]
  },
  {
   "cell_type": "code",
   "execution_count": 130,
   "id": "72dc81ef",
   "metadata": {},
   "outputs": [
    {
     "ename": "NameError",
     "evalue": "name 'pipeline' is not defined",
     "output_type": "error",
     "traceback": [
      "\u001b[0;31m---------------------------------------------------------------------------\u001b[0m",
      "\u001b[0;31mNameError\u001b[0m                                 Traceback (most recent call last)",
      "\u001b[0;32m/var/folders/d2/b8_107b155z0478lwpx5ssrr0000gp/T/ipykernel_8627/3108873241.py\u001b[0m in \u001b[0;36m<module>\u001b[0;34m\u001b[0m\n\u001b[1;32m      1\u001b[0m \u001b[0mmodel\u001b[0m \u001b[0;34m=\u001b[0m \u001b[0mmake_pipeline\u001b[0m\u001b[0;34m(\u001b[0m\u001b[0mStandardScaler\u001b[0m\u001b[0;34m(\u001b[0m\u001b[0;34m)\u001b[0m\u001b[0;34m,\u001b[0m \u001b[0mLinearRegression\u001b[0m\u001b[0;34m(\u001b[0m\u001b[0;34m)\u001b[0m\u001b[0;34m)\u001b[0m\u001b[0;34m\u001b[0m\u001b[0;34m\u001b[0m\u001b[0m\n\u001b[1;32m      2\u001b[0m \u001b[0mmodel\u001b[0m\u001b[0;34m.\u001b[0m\u001b[0mfit\u001b[0m\u001b[0;34m(\u001b[0m\u001b[0mX_train\u001b[0m\u001b[0;34m,\u001b[0m \u001b[0my_train\u001b[0m\u001b[0;34m)\u001b[0m\u001b[0;34m\u001b[0m\u001b[0;34m\u001b[0m\u001b[0m\n\u001b[0;32m----> 3\u001b[0;31m pipeline(steps=[('standardscaler', StandardScaler()),\n\u001b[0m\u001b[1;32m      4\u001b[0m                 ('linearregression', LinearRegression())])\n\u001b[1;32m      5\u001b[0m \u001b[0mmean_squared_error\u001b[0m\u001b[0;34m(\u001b[0m\u001b[0my_test\u001b[0m\u001b[0;34m,\u001b[0m \u001b[0mmodel\u001b[0m\u001b[0;34m.\u001b[0m\u001b[0mpredict\u001b[0m\u001b[0;34m(\u001b[0m\u001b[0mX_test\u001b[0m\u001b[0;34m)\u001b[0m\u001b[0;34m)\u001b[0m\u001b[0;34m\u001b[0m\u001b[0;34m\u001b[0m\u001b[0m\n",
      "\u001b[0;31mNameError\u001b[0m: name 'pipeline' is not defined"
     ]
    }
   ],
   "source": [
    "\n",
    "\n",
    "model = make_pipeline(StandardScaler(), LinearRegression())\n",
    "model.fit(X_train, y_train)\n",
    "Pipeline(steps=[('standardscaler', StandardScaler()),\n",
    "                ('linearregression', LinearRegression())])\n",
    "mean_squared_error(y_test, model.predict(X_test))"
   ]
  },
  {
   "cell_type": "code",
   "execution_count": 122,
   "id": "320cfe82",
   "metadata": {},
   "outputs": [],
   "source": [
    "rModel = linear_model.LinearRegression(normalize=True)"
   ]
  },
  {
   "cell_type": "code",
   "execution_count": 126,
   "id": "eb8e28ba",
   "metadata": {},
   "outputs": [
    {
     "name": "stderr",
     "output_type": "stream",
     "text": [
      "/Users/tshields/opt/anaconda3/envs/Springboard/lib/python3.8/site-packages/sklearn/linear_model/_base.py:141: FutureWarning: 'normalize' was deprecated in version 1.0 and will be removed in 1.2.\n",
      "If you wish to scale the data, use Pipeline with a StandardScaler in a preprocessing stage. To reproduce the previous behavior:\n",
      "\n",
      "from sklearn.pipeline import make_pipeline\n",
      "\n",
      "model = make_pipeline(StandardScaler(with_mean=False), LinearRegression())\n",
      "\n",
      "If you wish to pass a sample_weight parameter, you need to pass it as a fit parameter to each step of the pipeline as follows:\n",
      "\n",
      "kwargs = {s[0] + '__sample_weight': sample_weight for s in model.steps}\n",
      "model.fit(X, y, **kwargs)\n",
      "\n",
      "\n",
      "  warnings.warn(\n"
     ]
    },
    {
     "data": {
      "text/plain": [
       "LinearRegression(normalize=True)"
      ]
     },
     "execution_count": 126,
     "metadata": {},
     "output_type": "execute_result"
    }
   ],
   "source": [
    "\n",
    "rModel.fit(X_train, y_train)"
   ]
  },
  {
   "cell_type": "code",
   "execution_count": null,
   "id": "b6939a17",
   "metadata": {},
   "outputs": [],
   "source": []
  },
  {
   "cell_type": "code",
   "execution_count": null,
   "id": "efdaf0f9",
   "metadata": {},
   "outputs": [],
   "source": []
  },
  {
   "cell_type": "code",
   "execution_count": null,
   "id": "822e3d84",
   "metadata": {},
   "outputs": [],
   "source": []
  },
  {
   "cell_type": "code",
   "execution_count": null,
   "id": "5512b538",
   "metadata": {},
   "outputs": [],
   "source": []
  },
  {
   "cell_type": "code",
   "execution_count": null,
   "id": "6c87a292",
   "metadata": {},
   "outputs": [],
   "source": []
  },
  {
   "cell_type": "code",
   "execution_count": null,
   "id": "a4f55cd5",
   "metadata": {},
   "outputs": [],
   "source": []
  },
  {
   "cell_type": "code",
   "execution_count": null,
   "id": "cfdf371e",
   "metadata": {},
   "outputs": [],
   "source": []
  },
  {
   "cell_type": "code",
   "execution_count": null,
   "id": "7e665736",
   "metadata": {},
   "outputs": [],
   "source": []
  },
  {
   "cell_type": "code",
   "execution_count": 133,
   "id": "e8490a34",
   "metadata": {},
   "outputs": [],
   "source": [
    "models = []\n",
    "\n",
    "models.append(('RFC', RandomForestClassifier()))\n",
    "models.append(('KNN', KNeighborsClassifier()))\n",
    "models.append(('NB', GradientBoostingClassifier()))\n"
   ]
  },
  {
   "cell_type": "code",
   "execution_count": 134,
   "id": "e7a476cc",
   "metadata": {},
   "outputs": [
    {
     "name": "stdout",
     "output_type": "stream",
     "text": [
      "RFC: 0.603797 (0.007903)\n",
      "KNN: 0.505219 (0.007158)\n",
      "NB: 0.596514 (0.007246)\n"
     ]
    }
   ],
   "source": [
    "results = []\n",
    "names = []\n",
    "scoring = 'accuracy'\n",
    "for name, model in models:\n",
    "    kfold = model_selection.KFold(n_splits=5, random_state=None)\n",
    "    cv_results = model_selection.cross_val_score(model, X, y, cv=kfold, scoring=scoring)\n",
    "    results.append(cv_results)\n",
    "    names.append(name)\n",
    "    msg = \"%s: %f (%f)\" % (name, cv_results.mean(), cv_results.std())\n",
    "    print(msg)"
   ]
  },
  {
   "cell_type": "code",
   "execution_count": 135,
   "id": "fde7dc97",
   "metadata": {},
   "outputs": [
    {
     "data": {
      "image/png": "[encoded data removed]",
      "text/plain": [
       "<Figure size 432x288 with 1 Axes>"
      ]
     },
     "metadata": {
      "needs_background": "light"
     },
     "output_type": "display_data"
    }
   ],
   "source": [
    "fig = plt.figure()\n",
    "fig.suptitle('Algorithm Comparison')\n",
    "ax = fig.add_subplot(111)\n",
    "plt.boxplot(results)\n",
    "ax.set_xticklabels(names)\n",
    "plt.show()"
   ]
  },
  {
   "cell_type": "markdown",
   "id": "0701740b",
   "metadata": {},
   "source": [
    "## Random Forest Hyperparamter Tuning"
   ]
  },
  {
   "cell_type": "code",
   "execution_count": 136,
   "id": "ca99ecbc",
   "metadata": {},
   "outputs": [],
   "source": [
    "forest = RandomForestClassifier()"
   ]
  },
  {
   "cell_type": "code",
   "execution_count": 138,
   "id": "e9320615",
   "metadata": {},
   "outputs": [
    {
     "name": "stdout",
     "output_type": "stream",
     "text": [
      "Fitting 3 folds for each of 64 candidates, totalling 192 fits\n"
     ]
    }
   ],
   "source": [
    "n_estimators = [100, 300, 500, 800]\n",
    "max_depth = [5, 8, 15, 25]\n",
    "min_samples_split = [2, 5, 10, 15]\n",
    "\n",
    "\n",
    "hyperF = dict(n_estimators = n_estimators, max_depth = max_depth,  \n",
    "              min_samples_split = min_samples_split, \n",
    "             )\n",
    "\n",
    "gridF = GridSearchCV(forest, hyperF, cv = 3, verbose = 1, \n",
    "                      n_jobs = -1)\n",
    "bestF = gridF.fit(X_train, y_train)"
   ]
  },
  {
   "cell_type": "code",
   "execution_count": 139,
   "id": "b5acac6a",
   "metadata": {},
   "outputs": [
    {
     "name": "stdout",
     "output_type": "stream",
     "text": [
      "Best n_estimators: 800\n",
      "Best max_depth: 25\n",
      "Best min_samples_split: 2\n"
     ]
    }
   ],
   "source": [
    "print('Best n_estimators:', bestF.best_estimator_.get_params()['n_estimators'])\n",
    "print('Best max_depth:', bestF.best_estimator_.get_params()['max_depth'])\n",
    "print('Best min_samples_split:', bestF.best_estimator_.get_params()['min_samples_split'])"
   ]
  },
  {
   "cell_type": "code",
   "execution_count": 140,
   "id": "33726f0d",
   "metadata": {},
   "outputs": [],
   "source": [
    "forestOpt = RandomForestClassifier(random_state = 1, max_depth = 25, n_estimators = 800, min_samples_split = 2)\n",
    "                                   \n",
    "modelOpt = forestOpt.fit(X_train, y_train)\n",
    "y_pred = modelOpt.predict(X_test)"
   ]
  },
  {
   "cell_type": "markdown",
   "id": "d40b2aa4",
   "metadata": {},
   "source": [
    "## Attempting to perform a confusion matrix on Random Forest model"
   ]
  },
  {
   "cell_type": "code",
   "execution_count": 151,
   "id": "9a42bc9e",
   "metadata": {},
   "outputs": [],
   "source": [
    "\n",
    "from sklearn.metrics import accuracy_score, f1_score, confusion_matrix\n"
   ]
  },
  {
   "cell_type": "code",
   "execution_count": 153,
   "id": "8e0acd65",
   "metadata": {},
   "outputs": [],
   "source": [
    "cm = confusion_matrix(y_test, y_pred)"
   ]
  },
  {
   "cell_type": "code",
   "execution_count": 156,
   "id": "466dc023",
   "metadata": {},
   "outputs": [
    {
     "name": "stderr",
     "output_type": "stream",
     "text": [
      "/Users/tshields/opt/anaconda3/envs/Springboard/lib/python3.8/site-packages/sklearn/utils/deprecation.py:87: FutureWarning: Function plot_confusion_matrix is deprecated; Function `plot_confusion_matrix` is deprecated in 1.0 and will be removed in 1.2. Use one of the class methods: ConfusionMatrixDisplay.from_predictions or ConfusionMatrixDisplay.from_estimator.\n",
      "  warnings.warn(msg, category=FutureWarning)\n"
     ]
    },
    {
     "data": {
      "image/png": "[encoded data removed]",
      "text/plain": [
       "<Figure size 432x288 with 2 Axes>"
      ]
     },
     "metadata": {
      "needs_background": "light"
     },
     "output_type": "display_data"
    }
   ],
   "source": [
    "\n",
    "plot_confusion_matrix(modelOpt, X_test, y_test)  \n",
    "plt.show() "
   ]
  },
  {
   "cell_type": "code",
   "execution_count": 158,
   "id": "0d98006b",
   "metadata": {},
   "outputs": [
    {
     "data": {
      "text/html": [
       "<div>\n",
       "<style scoped>\n",
       "    .dataframe tbody tr th:only-of-type {\n",
       "        vertical-align: middle;\n",
       "    }\n",
       "\n",
       "    .dataframe tbody tr th {\n",
       "        vertical-align: top;\n",
       "    }\n",
       "\n",
       "    .dataframe thead th {\n",
       "        text-align: right;\n",
       "    }\n",
       "</style>\n",
       "<table border=\"1\" class=\"dataframe\">\n",
       "  <thead>\n",
       "    <tr style=\"text-align: right;\">\n",
       "      <th></th>\n",
       "      <th>Real Values</th>\n",
       "      <th>Predicted Values</th>\n",
       "    </tr>\n",
       "  </thead>\n",
       "  <tbody>\n",
       "    <tr>\n",
       "      <th>201927</th>\n",
       "      <td>2</td>\n",
       "      <td>2</td>\n",
       "    </tr>\n",
       "    <tr>\n",
       "      <th>25560</th>\n",
       "      <td>0</td>\n",
       "      <td>0</td>\n",
       "    </tr>\n",
       "    <tr>\n",
       "      <th>27432</th>\n",
       "      <td>5</td>\n",
       "      <td>2</td>\n",
       "    </tr>\n",
       "    <tr>\n",
       "      <th>87182</th>\n",
       "      <td>2</td>\n",
       "      <td>2</td>\n",
       "    </tr>\n",
       "    <tr>\n",
       "      <th>181100</th>\n",
       "      <td>2</td>\n",
       "      <td>2</td>\n",
       "    </tr>\n",
       "    <tr>\n",
       "      <th>...</th>\n",
       "      <td>...</td>\n",
       "      <td>...</td>\n",
       "    </tr>\n",
       "    <tr>\n",
       "      <th>39486</th>\n",
       "      <td>2</td>\n",
       "      <td>2</td>\n",
       "    </tr>\n",
       "    <tr>\n",
       "      <th>211582</th>\n",
       "      <td>2</td>\n",
       "      <td>2</td>\n",
       "    </tr>\n",
       "    <tr>\n",
       "      <th>57044</th>\n",
       "      <td>3</td>\n",
       "      <td>0</td>\n",
       "    </tr>\n",
       "    <tr>\n",
       "      <th>72715</th>\n",
       "      <td>0</td>\n",
       "      <td>0</td>\n",
       "    </tr>\n",
       "    <tr>\n",
       "      <th>166812</th>\n",
       "      <td>2</td>\n",
       "      <td>2</td>\n",
       "    </tr>\n",
       "  </tbody>\n",
       "</table>\n",
       "<p>90178 rows × 2 columns</p>\n",
       "</div>"
      ],
      "text/plain": [
       "        Real Values  Predicted Values\n",
       "201927            2                 2\n",
       "25560             0                 0\n",
       "27432             5                 2\n",
       "87182             2                 2\n",
       "181100            2                 2\n",
       "...             ...               ...\n",
       "39486             2                 2\n",
       "211582            2                 2\n",
       "57044             3                 0\n",
       "72715             0                 0\n",
       "166812            2                 2\n",
       "\n",
       "[90178 rows x 2 columns]"
      ]
     },
     "execution_count": 158,
     "metadata": {},
     "output_type": "execute_result"
    }
   ],
   "source": [
    "df = pd.DataFrame({'Real Values':y_test, 'Predicted Values':y_pred})\n",
    "df"
   ]
  },
  {
   "cell_type": "code",
   "execution_count": 171,
   "id": "0c923532",
   "metadata": {},
   "outputs": [
    {
     "name": "stdout",
     "output_type": "stream",
     "text": [
      "LR Accuracy Score:  0.6155048903280179\n",
      "LR Precision Score:  0.6155048903280179\n",
      "LR Recall Score:  0.6155048903280179\n",
      "LR F1 Score:  0.6155048903280179\n",
      "LR F0.5-Measure:  0.6155048903280179\n",
      "LR Confusion Matrix: \n",
      "\n",
      " [[ 6253    74   497   333     0  3042     0]\n",
      " [ 1334   119   175    49     0   452     0]\n",
      " [  221     4 22482     4     9 11318     0]\n",
      " [  741     2    32   754     0   620     0]\n",
      " [   25     1  1168     0     5  3129     0]\n",
      " [ 2072    11  8811   266     0 25891     0]\n",
      " [  162     8    15    11     0    87     1]]\n",
      "LR Classification Report: \n",
      "\n",
      "               precision    recall  f1-score   support\n",
      "\n",
      "           0       0.58      0.61      0.60     10199\n",
      "           1       0.54      0.06      0.10      2129\n",
      "           2       0.68      0.66      0.67     34038\n",
      "           3       0.53      0.35      0.42      2149\n",
      "           4       0.36      0.00      0.00      4328\n",
      "           5       0.58      0.70      0.63     37051\n",
      "           6       1.00      0.00      0.01       284\n",
      "\n",
      "    accuracy                           0.62     90178\n",
      "   macro avg       0.61      0.34      0.35     90178\n",
      "weighted avg       0.61      0.62      0.59     90178\n",
      "\n"
     ]
    },
    {
     "name": "stderr",
     "output_type": "stream",
     "text": [
      "/Users/tshields/opt/anaconda3/envs/Springboard/lib/python3.8/site-packages/sklearn/metrics/_classification.py:1370: UserWarning: Note that pos_label (set to 'positive') is ignored when average != 'binary' (got 'micro'). You may use labels=[pos_label] to specify a single positive class.\n",
      "  warnings.warn(\n",
      "/Users/tshields/opt/anaconda3/envs/Springboard/lib/python3.8/site-packages/sklearn/metrics/_classification.py:1370: UserWarning: Note that pos_label (set to 'positive') is ignored when average != 'binary' (got 'micro'). You may use labels=[pos_label] to specify a single positive class.\n",
      "  warnings.warn(\n",
      "/Users/tshields/opt/anaconda3/envs/Springboard/lib/python3.8/site-packages/sklearn/metrics/_classification.py:1370: UserWarning: Note that pos_label (set to 'positive') is ignored when average != 'binary' (got 'micro'). You may use labels=[pos_label] to specify a single positive class.\n",
      "  warnings.warn(\n",
      "/Users/tshields/opt/anaconda3/envs/Springboard/lib/python3.8/site-packages/sklearn/metrics/_classification.py:1370: UserWarning: Note that pos_label (set to 'positive') is ignored when average != 'binary' (got 'micro'). You may use labels=[pos_label] to specify a single positive class.\n",
      "  warnings.warn(\n"
     ]
    }
   ],
   "source": [
    "print('LR Accuracy Score: ', accuracy_score(y_test , y_pred))\n",
    "print('LR Precision Score: ', precision_score(y_test, y_pred, pos_label='positive', average='micro'))\n",
    "print('LR Recall Score: ', recall_score(y_test, y_pred, pos_label='positive', average='micro'))\n",
    "print('LR F1 Score: ', f1_score(y_test, y_pred, pos_label='positive', average='micro'))\n",
    "print('LR F0.5-Measure: ', fbeta_score(y_test, y_pred, beta=0.5, pos_label='positive', average='micro'))\n",
    "print('LR Confusion Matrix: \\n\\n', confusion_matrix(y_test , y_pred))\n",
    "print('LR Classification Report: \\n\\n', classification_report(y_test, y_pred))"
   ]
  },
  {
   "cell_type": "markdown",
   "id": "d462888b",
   "metadata": {},
   "source": [
    "## For some reason all my scores are the same: 0.6155048903280179"
   ]
  },
  {
   "cell_type": "code",
   "execution_count": null,
   "id": "cc42fe90",
   "metadata": {},
   "outputs": [],
   "source": []
  }
 ],
 "metadata": {
  "kernelspec": {
   "display_name": "Python 3 (ipykernel)",
   "language": "python",
   "name": "python3"
  },
  "language_info": {
   "codemirror_mode": {
    "name": "ipython",
    "version": 3
   },
   "file_extension": ".py",
   "mimetype": "text/x-python",
   "name": "python",
   "nbconvert_exporter": "python",
   "pygments_lexer": "ipython3",
   "version": "3.8.11"
  }
 },
 "nbformat": 4,
 "nbformat_minor": 5
}
