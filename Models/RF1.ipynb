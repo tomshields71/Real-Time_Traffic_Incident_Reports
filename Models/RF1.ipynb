{
 "cells": [
  {
   "cell_type": "markdown",
   "id": "6f1ddabd",
   "metadata": {},
   "source": [
    "# Choosing and Training a Model"
   ]
  },
  {
   "cell_type": "markdown",
   "id": "03c77d5e",
   "metadata": {},
   "source": [
    "In this notebook I will focus in on the Random Forest classifier with all 6 classes in my target category.\n",
    "\n",
    "Target: issue_reported(y)\n",
    "\n"
   ]
  },
  {
   "cell_type": "code",
   "execution_count": 1,
   "id": "62e38da1",
   "metadata": {},
   "outputs": [],
   "source": [
    "import pandas as pd\n",
    "import numpy as np\n",
    "from datetime import datetime\n",
    "import matplotlib.pyplot as plt\n",
    "import seaborn as sns\n",
    "from sklearn.preprocessing import LabelEncoder\n",
    "from sklearn.model_selection import train_test_split\n",
    "from sklearn.preprocessing import StandardScaler, OneHotEncoder\n",
    "from sklearn.ensemble import RandomForestClassifier\n",
    "from sklearn.compose import make_column_transformer\n",
    "from sklearn.pipeline import make_pipeline\n",
    "from sklearn.linear_model import LogisticRegression\n",
    "from sklearn.model_selection import cross_val_score\n",
    "from sklearn.metrics import log_loss, confusion_matrix\n",
    "from sklearn.neighbors import KNeighborsClassifier\n",
    "from sklearn import model_selection\n",
    "from sklearn.tree import DecisionTreeClassifier\n",
    "import xgboost as xgb\n",
    "from sklearn.naive_bayes import GaussianNB\n",
    "from sklearn.ensemble import GradientBoostingClassifier\n",
    "import sklearn.cluster\n",
    "from sklearn.model_selection import GridSearchCV\n",
    "from sklearn.svm import SVC\n",
    "from sklearn.metrics import accuracy_score, recall_score, precision_score, f1_score, roc_auc_score, fbeta_score\n",
    "from sklearn.metrics import confusion_matrix, balanced_accuracy_score"
   ]
  },
  {
   "cell_type": "markdown",
   "id": "f79a4a40",
   "metadata": {},
   "source": [
    "Import data of clean features"
   ]
  },
  {
   "cell_type": "code",
   "execution_count": 2,
   "id": "59bfd444",
   "metadata": {},
   "outputs": [],
   "source": [
    "file = '/Users/tshields/Documents/GitHub/Real-Time_Traffic_Incident_Reports/FeatureEngineering/feature_engineering4.csv'"
   ]
  },
  {
   "cell_type": "code",
   "execution_count": 3,
   "id": "ca63555d",
   "metadata": {},
   "outputs": [
    {
     "data": {
      "text/html": [
       "<div>\n",
       "<style scoped>\n",
       "    .dataframe tbody tr th:only-of-type {\n",
       "        vertical-align: middle;\n",
       "    }\n",
       "\n",
       "    .dataframe tbody tr th {\n",
       "        vertical-align: top;\n",
       "    }\n",
       "\n",
       "    .dataframe thead th {\n",
       "        text-align: right;\n",
       "    }\n",
       "</style>\n",
       "<table border=\"1\" class=\"dataframe\">\n",
       "  <thead>\n",
       "    <tr style=\"text-align: right;\">\n",
       "      <th></th>\n",
       "      <th>published_date</th>\n",
       "      <th>issue_reported</th>\n",
       "      <th>Latitude</th>\n",
       "      <th>Longitude</th>\n",
       "      <th>issue_timespan</th>\n",
       "      <th>geometry</th>\n",
       "      <th>day</th>\n",
       "      <th>hour</th>\n",
       "      <th>month</th>\n",
       "      <th>region</th>\n",
       "      <th>quadrant</th>\n",
       "      <th>dist_cntr_km</th>\n",
       "    </tr>\n",
       "  </thead>\n",
       "  <tbody>\n",
       "    <tr>\n",
       "      <th>0</th>\n",
       "      <td>2018-06-13 06:35:59+00:00</td>\n",
       "      <td>Crash Service</td>\n",
       "      <td>30.283797</td>\n",
       "      <td>-97.741906</td>\n",
       "      <td>144.066667</td>\n",
       "      <td>POINT (-97.741906 30.283797)</td>\n",
       "      <td>Wednesday</td>\n",
       "      <td>6</td>\n",
       "      <td>June</td>\n",
       "      <td>cnw</td>\n",
       "      <td>ne</td>\n",
       "      <td>1.849061</td>\n",
       "    </tr>\n",
       "    <tr>\n",
       "      <th>1</th>\n",
       "      <td>2018-06-13 10:15:36+00:00</td>\n",
       "      <td>Traffic Hazard</td>\n",
       "      <td>30.339593</td>\n",
       "      <td>-97.700963</td>\n",
       "      <td>64.450000</td>\n",
       "      <td>POINT (-97.700963 30.339593)</td>\n",
       "      <td>Wednesday</td>\n",
       "      <td>10</td>\n",
       "      <td>June</td>\n",
       "      <td>vne</td>\n",
       "      <td>ne</td>\n",
       "      <td>9.009002</td>\n",
       "    </tr>\n",
       "    <tr>\n",
       "      <th>2</th>\n",
       "      <td>2020-04-17 21:25:03+00:00</td>\n",
       "      <td>Crash Service</td>\n",
       "      <td>30.329455</td>\n",
       "      <td>-97.638105</td>\n",
       "      <td>30.000000</td>\n",
       "      <td>POINT (-97.638105 30.329455)</td>\n",
       "      <td>Friday</td>\n",
       "      <td>21</td>\n",
       "      <td>April</td>\n",
       "      <td>vce</td>\n",
       "      <td>ne</td>\n",
       "      <td>12.228301</td>\n",
       "    </tr>\n",
       "    <tr>\n",
       "      <th>3</th>\n",
       "      <td>2020-04-17 21:40:52+00:00</td>\n",
       "      <td>Traffic Hazard</td>\n",
       "      <td>30.202806</td>\n",
       "      <td>-97.760701</td>\n",
       "      <td>14.183333</td>\n",
       "      <td>POINT (-97.760701 30.202806)</td>\n",
       "      <td>Friday</td>\n",
       "      <td>21</td>\n",
       "      <td>April</td>\n",
       "      <td>vsw</td>\n",
       "      <td>sw</td>\n",
       "      <td>7.357232</td>\n",
       "    </tr>\n",
       "    <tr>\n",
       "      <th>4</th>\n",
       "      <td>2020-04-17 21:00:55+00:00</td>\n",
       "      <td>Crash Service</td>\n",
       "      <td>30.184265</td>\n",
       "      <td>-97.687339</td>\n",
       "      <td>149.150000</td>\n",
       "      <td>POINT (-97.68733899999999 30.184265)</td>\n",
       "      <td>Friday</td>\n",
       "      <td>21</td>\n",
       "      <td>April</td>\n",
       "      <td>vse</td>\n",
       "      <td>se</td>\n",
       "      <td>10.665180</td>\n",
       "    </tr>\n",
       "  </tbody>\n",
       "</table>\n",
       "</div>"
      ],
      "text/plain": [
       "              published_date  issue_reported   Latitude  Longitude  \\\n",
       "0  2018-06-13 06:35:59+00:00   Crash Service  30.283797 -97.741906   \n",
       "1  2018-06-13 10:15:36+00:00  Traffic Hazard  30.339593 -97.700963   \n",
       "2  2020-04-17 21:25:03+00:00   Crash Service  30.329455 -97.638105   \n",
       "3  2020-04-17 21:40:52+00:00  Traffic Hazard  30.202806 -97.760701   \n",
       "4  2020-04-17 21:00:55+00:00   Crash Service  30.184265 -97.687339   \n",
       "\n",
       "   issue_timespan                              geometry        day  hour  \\\n",
       "0      144.066667          POINT (-97.741906 30.283797)  Wednesday     6   \n",
       "1       64.450000          POINT (-97.700963 30.339593)  Wednesday    10   \n",
       "2       30.000000          POINT (-97.638105 30.329455)     Friday    21   \n",
       "3       14.183333          POINT (-97.760701 30.202806)     Friday    21   \n",
       "4      149.150000  POINT (-97.68733899999999 30.184265)     Friday    21   \n",
       "\n",
       "   month region quadrant  dist_cntr_km  \n",
       "0   June    cnw       ne      1.849061  \n",
       "1   June    vne       ne      9.009002  \n",
       "2  April    vce       ne     12.228301  \n",
       "3  April    vsw       sw      7.357232  \n",
       "4  April    vse       se     10.665180  "
      ]
     },
     "execution_count": 3,
     "metadata": {},
     "output_type": "execute_result"
    }
   ],
   "source": [
    "df = pd.read_csv(file, index_col=0)\n",
    "df.head()"
   ]
  },
  {
   "cell_type": "code",
   "execution_count": 4,
   "id": "81aaa303",
   "metadata": {},
   "outputs": [
    {
     "data": {
      "text/html": [
       "<div>\n",
       "<style scoped>\n",
       "    .dataframe tbody tr th:only-of-type {\n",
       "        vertical-align: middle;\n",
       "    }\n",
       "\n",
       "    .dataframe tbody tr th {\n",
       "        vertical-align: top;\n",
       "    }\n",
       "\n",
       "    .dataframe thead th {\n",
       "        text-align: right;\n",
       "    }\n",
       "</style>\n",
       "<table border=\"1\" class=\"dataframe\">\n",
       "  <thead>\n",
       "    <tr style=\"text-align: right;\">\n",
       "      <th></th>\n",
       "      <th>Latitude</th>\n",
       "      <th>Longitude</th>\n",
       "      <th>issue_timespan</th>\n",
       "      <th>hour</th>\n",
       "      <th>dist_cntr_km</th>\n",
       "    </tr>\n",
       "  </thead>\n",
       "  <tbody>\n",
       "    <tr>\n",
       "      <th>count</th>\n",
       "      <td>243114.000000</td>\n",
       "      <td>243114.000000</td>\n",
       "      <td>243114.000000</td>\n",
       "      <td>243114.000000</td>\n",
       "      <td>243114.000000</td>\n",
       "    </tr>\n",
       "    <tr>\n",
       "      <th>mean</th>\n",
       "      <td>30.301716</td>\n",
       "      <td>-97.733273</td>\n",
       "      <td>72.641459</td>\n",
       "      <td>13.659287</td>\n",
       "      <td>11.826093</td>\n",
       "    </tr>\n",
       "    <tr>\n",
       "      <th>std</th>\n",
       "      <td>0.093666</td>\n",
       "      <td>0.086736</td>\n",
       "      <td>90.826579</td>\n",
       "      <td>7.055001</td>\n",
       "      <td>7.320069</td>\n",
       "    </tr>\n",
       "    <tr>\n",
       "      <th>min</th>\n",
       "      <td>30.004413</td>\n",
       "      <td>-98.226709</td>\n",
       "      <td>0.333333</td>\n",
       "      <td>0.000000</td>\n",
       "      <td>0.007638</td>\n",
       "    </tr>\n",
       "    <tr>\n",
       "      <th>25%</th>\n",
       "      <td>30.232036</td>\n",
       "      <td>-97.776903</td>\n",
       "      <td>20.766667</td>\n",
       "      <td>9.000000</td>\n",
       "      <td>6.040102</td>\n",
       "    </tr>\n",
       "    <tr>\n",
       "      <th>50%</th>\n",
       "      <td>30.294241</td>\n",
       "      <td>-97.734390</td>\n",
       "      <td>41.316667</td>\n",
       "      <td>15.000000</td>\n",
       "      <td>10.961410</td>\n",
       "    </tr>\n",
       "    <tr>\n",
       "      <th>75%</th>\n",
       "      <td>30.373598</td>\n",
       "      <td>-97.687501</td>\n",
       "      <td>81.166667</td>\n",
       "      <td>19.000000</td>\n",
       "      <td>16.959760</td>\n",
       "    </tr>\n",
       "    <tr>\n",
       "      <th>max</th>\n",
       "      <td>30.798642</td>\n",
       "      <td>-97.293320</td>\n",
       "      <td>480.000000</td>\n",
       "      <td>23.000000</td>\n",
       "      <td>60.669983</td>\n",
       "    </tr>\n",
       "  </tbody>\n",
       "</table>\n",
       "</div>"
      ],
      "text/plain": [
       "            Latitude      Longitude  issue_timespan           hour  \\\n",
       "count  243114.000000  243114.000000   243114.000000  243114.000000   \n",
       "mean       30.301716     -97.733273       72.641459      13.659287   \n",
       "std         0.093666       0.086736       90.826579       7.055001   \n",
       "min        30.004413     -98.226709        0.333333       0.000000   \n",
       "25%        30.232036     -97.776903       20.766667       9.000000   \n",
       "50%        30.294241     -97.734390       41.316667      15.000000   \n",
       "75%        30.373598     -97.687501       81.166667      19.000000   \n",
       "max        30.798642     -97.293320      480.000000      23.000000   \n",
       "\n",
       "        dist_cntr_km  \n",
       "count  243114.000000  \n",
       "mean       11.826093  \n",
       "std         7.320069  \n",
       "min         0.007638  \n",
       "25%         6.040102  \n",
       "50%        10.961410  \n",
       "75%        16.959760  \n",
       "max        60.669983  "
      ]
     },
     "execution_count": 4,
     "metadata": {},
     "output_type": "execute_result"
    }
   ],
   "source": [
    "df.describe()"
   ]
  },
  {
   "cell_type": "code",
   "execution_count": 5,
   "id": "6ebd5676",
   "metadata": {},
   "outputs": [
    {
     "name": "stdout",
     "output_type": "stream",
     "text": [
      "<class 'pandas.core.frame.DataFrame'>\n",
      "Int64Index: 243114 entries, 0 to 243113\n",
      "Data columns (total 12 columns):\n",
      " #   Column          Non-Null Count   Dtype  \n",
      "---  ------          --------------   -----  \n",
      " 0   published_date  243114 non-null  object \n",
      " 1   issue_reported  243114 non-null  object \n",
      " 2   Latitude        243114 non-null  float64\n",
      " 3   Longitude       243114 non-null  float64\n",
      " 4   issue_timespan  243114 non-null  float64\n",
      " 5   geometry        243114 non-null  object \n",
      " 6   day             243114 non-null  object \n",
      " 7   hour            243114 non-null  int64  \n",
      " 8   month           243114 non-null  object \n",
      " 9   region          243114 non-null  object \n",
      " 10  quadrant        243114 non-null  object \n",
      " 11  dist_cntr_km    243114 non-null  float64\n",
      "dtypes: float64(4), int64(1), object(7)\n",
      "memory usage: 24.1+ MB\n"
     ]
    }
   ],
   "source": [
    "df.info()"
   ]
  },
  {
   "cell_type": "code",
   "execution_count": 6,
   "id": "26656d7a",
   "metadata": {},
   "outputs": [
    {
     "data": {
      "text/plain": [
       "array(['Crash Service', 'Traffic Hazard', 'Collision', 'Stalled Vehicle',\n",
       "       'Loose Livestock', 'Traffic Impediment'], dtype=object)"
      ]
     },
     "execution_count": 6,
     "metadata": {},
     "output_type": "execute_result"
    }
   ],
   "source": [
    "df['issue_reported'].unique()"
   ]
  },
  {
   "cell_type": "markdown",
   "id": "7d96c9b3",
   "metadata": {},
   "source": [
    "#  Use Label Encoder for categorical data we are trying to predict\n",
    "Trying to predict the \"issue_reported\" involves transforming the column using LabelEncoder(). Then a quick check to ensure the numbers line up like before."
   ]
  },
  {
   "cell_type": "code",
   "execution_count": 7,
   "id": "2a36eedc",
   "metadata": {},
   "outputs": [
    {
     "data": {
      "text/html": [
       "<div>\n",
       "<style scoped>\n",
       "    .dataframe tbody tr th:only-of-type {\n",
       "        vertical-align: middle;\n",
       "    }\n",
       "\n",
       "    .dataframe tbody tr th {\n",
       "        vertical-align: top;\n",
       "    }\n",
       "\n",
       "    .dataframe thead th {\n",
       "        text-align: right;\n",
       "    }\n",
       "</style>\n",
       "<table border=\"1\" class=\"dataframe\">\n",
       "  <thead>\n",
       "    <tr style=\"text-align: right;\">\n",
       "      <th></th>\n",
       "      <th>published_date</th>\n",
       "      <th>issue_reported</th>\n",
       "      <th>Latitude</th>\n",
       "      <th>Longitude</th>\n",
       "      <th>issue_timespan</th>\n",
       "      <th>geometry</th>\n",
       "      <th>day</th>\n",
       "      <th>hour</th>\n",
       "      <th>month</th>\n",
       "      <th>region</th>\n",
       "      <th>quadrant</th>\n",
       "      <th>dist_cntr_km</th>\n",
       "    </tr>\n",
       "  </thead>\n",
       "  <tbody>\n",
       "    <tr>\n",
       "      <th>0</th>\n",
       "      <td>2018-06-13 06:35:59+00:00</td>\n",
       "      <td>1</td>\n",
       "      <td>30.283797</td>\n",
       "      <td>-97.741906</td>\n",
       "      <td>144.066667</td>\n",
       "      <td>POINT (-97.741906 30.283797)</td>\n",
       "      <td>Wednesday</td>\n",
       "      <td>6</td>\n",
       "      <td>June</td>\n",
       "      <td>cnw</td>\n",
       "      <td>ne</td>\n",
       "      <td>1.849061</td>\n",
       "    </tr>\n",
       "    <tr>\n",
       "      <th>1</th>\n",
       "      <td>2018-06-13 10:15:36+00:00</td>\n",
       "      <td>4</td>\n",
       "      <td>30.339593</td>\n",
       "      <td>-97.700963</td>\n",
       "      <td>64.450000</td>\n",
       "      <td>POINT (-97.700963 30.339593)</td>\n",
       "      <td>Wednesday</td>\n",
       "      <td>10</td>\n",
       "      <td>June</td>\n",
       "      <td>vne</td>\n",
       "      <td>ne</td>\n",
       "      <td>9.009002</td>\n",
       "    </tr>\n",
       "    <tr>\n",
       "      <th>2</th>\n",
       "      <td>2020-04-17 21:25:03+00:00</td>\n",
       "      <td>1</td>\n",
       "      <td>30.329455</td>\n",
       "      <td>-97.638105</td>\n",
       "      <td>30.000000</td>\n",
       "      <td>POINT (-97.638105 30.329455)</td>\n",
       "      <td>Friday</td>\n",
       "      <td>21</td>\n",
       "      <td>April</td>\n",
       "      <td>vce</td>\n",
       "      <td>ne</td>\n",
       "      <td>12.228301</td>\n",
       "    </tr>\n",
       "    <tr>\n",
       "      <th>3</th>\n",
       "      <td>2020-04-17 21:40:52+00:00</td>\n",
       "      <td>4</td>\n",
       "      <td>30.202806</td>\n",
       "      <td>-97.760701</td>\n",
       "      <td>14.183333</td>\n",
       "      <td>POINT (-97.760701 30.202806)</td>\n",
       "      <td>Friday</td>\n",
       "      <td>21</td>\n",
       "      <td>April</td>\n",
       "      <td>vsw</td>\n",
       "      <td>sw</td>\n",
       "      <td>7.357232</td>\n",
       "    </tr>\n",
       "    <tr>\n",
       "      <th>4</th>\n",
       "      <td>2020-04-17 21:00:55+00:00</td>\n",
       "      <td>1</td>\n",
       "      <td>30.184265</td>\n",
       "      <td>-97.687339</td>\n",
       "      <td>149.150000</td>\n",
       "      <td>POINT (-97.68733899999999 30.184265)</td>\n",
       "      <td>Friday</td>\n",
       "      <td>21</td>\n",
       "      <td>April</td>\n",
       "      <td>vse</td>\n",
       "      <td>se</td>\n",
       "      <td>10.665180</td>\n",
       "    </tr>\n",
       "  </tbody>\n",
       "</table>\n",
       "</div>"
      ],
      "text/plain": [
       "              published_date  issue_reported   Latitude  Longitude  \\\n",
       "0  2018-06-13 06:35:59+00:00               1  30.283797 -97.741906   \n",
       "1  2018-06-13 10:15:36+00:00               4  30.339593 -97.700963   \n",
       "2  2020-04-17 21:25:03+00:00               1  30.329455 -97.638105   \n",
       "3  2020-04-17 21:40:52+00:00               4  30.202806 -97.760701   \n",
       "4  2020-04-17 21:00:55+00:00               1  30.184265 -97.687339   \n",
       "\n",
       "   issue_timespan                              geometry        day  hour  \\\n",
       "0      144.066667          POINT (-97.741906 30.283797)  Wednesday     6   \n",
       "1       64.450000          POINT (-97.700963 30.339593)  Wednesday    10   \n",
       "2       30.000000          POINT (-97.638105 30.329455)     Friday    21   \n",
       "3       14.183333          POINT (-97.760701 30.202806)     Friday    21   \n",
       "4      149.150000  POINT (-97.68733899999999 30.184265)     Friday    21   \n",
       "\n",
       "   month region quadrant  dist_cntr_km  \n",
       "0   June    cnw       ne      1.849061  \n",
       "1   June    vne       ne      9.009002  \n",
       "2  April    vce       ne     12.228301  \n",
       "3  April    vsw       sw      7.357232  \n",
       "4  April    vse       se     10.665180  "
      ]
     },
     "execution_count": 7,
     "metadata": {},
     "output_type": "execute_result"
    }
   ],
   "source": [
    "le = LabelEncoder()\n",
    "df['issue_reported']=le.fit_transform(df['issue_reported'])\n",
    "df.head()"
   ]
  },
  {
   "cell_type": "code",
   "execution_count": 8,
   "id": "ac6a9210",
   "metadata": {},
   "outputs": [
    {
     "name": "stdout",
     "output_type": "stream",
     "text": [
      "<class 'pandas.core.frame.DataFrame'>\n",
      "Int64Index: 243114 entries, 0 to 243113\n",
      "Data columns (total 12 columns):\n",
      " #   Column          Non-Null Count   Dtype  \n",
      "---  ------          --------------   -----  \n",
      " 0   published_date  243114 non-null  object \n",
      " 1   issue_reported  243114 non-null  int64  \n",
      " 2   Latitude        243114 non-null  float64\n",
      " 3   Longitude       243114 non-null  float64\n",
      " 4   issue_timespan  243114 non-null  float64\n",
      " 5   geometry        243114 non-null  object \n",
      " 6   day             243114 non-null  object \n",
      " 7   hour            243114 non-null  int64  \n",
      " 8   month           243114 non-null  object \n",
      " 9   region          243114 non-null  object \n",
      " 10  quadrant        243114 non-null  object \n",
      " 11  dist_cntr_km    243114 non-null  float64\n",
      "dtypes: float64(4), int64(2), object(6)\n",
      "memory usage: 24.1+ MB\n"
     ]
    }
   ],
   "source": [
    "df.info()"
   ]
  },
  {
   "cell_type": "code",
   "execution_count": 9,
   "id": "81785191",
   "metadata": {},
   "outputs": [
    {
     "data": {
      "text/plain": [
       "array([1, 4, 0, 3, 2, 5])"
      ]
     },
     "execution_count": 9,
     "metadata": {},
     "output_type": "execute_result"
    }
   ],
   "source": [
    "df['issue_reported'].unique()"
   ]
  },
  {
   "cell_type": "code",
   "execution_count": 10,
   "id": "afc90c49",
   "metadata": {},
   "outputs": [
    {
     "data": {
      "text/plain": [
       "1    93808\n",
       "4    93012\n",
       "0    32536\n",
       "3    11965\n",
       "2     5914\n",
       "5     5879\n",
       "Name: issue_reported, dtype: int64"
      ]
     },
     "execution_count": 10,
     "metadata": {},
     "output_type": "execute_result"
    }
   ],
   "source": [
    "df['issue_reported'].value_counts()"
   ]
  },
  {
   "cell_type": "code",
   "execution_count": null,
   "id": "c2bdb107",
   "metadata": {},
   "outputs": [],
   "source": []
  },
  {
   "cell_type": "markdown",
   "id": "dbb786ec",
   "metadata": {},
   "source": [
    "## Scaling Timespan and Latitude/Longitude Features\n",
    "First, create a series variable using .values"
   ]
  },
  {
   "cell_type": "code",
   "execution_count": 11,
   "id": "5150aa8d",
   "metadata": {},
   "outputs": [],
   "source": [
    "series1 = df.issue_timespan.values\n",
    "series2 = df.dist_cntr_km.values"
   ]
  },
  {
   "cell_type": "markdown",
   "id": "ac737b05",
   "metadata": {},
   "source": [
    "Then reshape the series to scale it as 2D arrays"
   ]
  },
  {
   "cell_type": "code",
   "execution_count": 12,
   "id": "acce04bb",
   "metadata": {},
   "outputs": [],
   "source": [
    "series1 = series1.reshape(-1,1)"
   ]
  },
  {
   "cell_type": "code",
   "execution_count": 13,
   "id": "cc83288f",
   "metadata": {},
   "outputs": [],
   "source": [
    "series2 = series2.reshape(-1,1)"
   ]
  },
  {
   "cell_type": "code",
   "execution_count": 14,
   "id": "19f09ae4",
   "metadata": {},
   "outputs": [],
   "source": [
    "scaler = StandardScaler()"
   ]
  },
  {
   "cell_type": "markdown",
   "id": "c6f1d8d7",
   "metadata": {},
   "source": [
    "Then create new columns for for each of the series."
   ]
  },
  {
   "cell_type": "code",
   "execution_count": 15,
   "id": "6f04b81e",
   "metadata": {},
   "outputs": [],
   "source": [
    "df['scaled_timespan'] = scaler.fit_transform(series1)"
   ]
  },
  {
   "cell_type": "code",
   "execution_count": 16,
   "id": "185bad02",
   "metadata": {},
   "outputs": [],
   "source": [
    "df['scaled_dist_km'] = scaler.fit_transform(series2)"
   ]
  },
  {
   "cell_type": "code",
   "execution_count": 17,
   "id": "fe5864fd",
   "metadata": {},
   "outputs": [
    {
     "data": {
      "text/html": [
       "<div>\n",
       "<style scoped>\n",
       "    .dataframe tbody tr th:only-of-type {\n",
       "        vertical-align: middle;\n",
       "    }\n",
       "\n",
       "    .dataframe tbody tr th {\n",
       "        vertical-align: top;\n",
       "    }\n",
       "\n",
       "    .dataframe thead th {\n",
       "        text-align: right;\n",
       "    }\n",
       "</style>\n",
       "<table border=\"1\" class=\"dataframe\">\n",
       "  <thead>\n",
       "    <tr style=\"text-align: right;\">\n",
       "      <th></th>\n",
       "      <th>published_date</th>\n",
       "      <th>issue_reported</th>\n",
       "      <th>Latitude</th>\n",
       "      <th>Longitude</th>\n",
       "      <th>issue_timespan</th>\n",
       "      <th>geometry</th>\n",
       "      <th>day</th>\n",
       "      <th>hour</th>\n",
       "      <th>month</th>\n",
       "      <th>region</th>\n",
       "      <th>quadrant</th>\n",
       "      <th>dist_cntr_km</th>\n",
       "      <th>scaled_timespan</th>\n",
       "      <th>scaled_dist_km</th>\n",
       "    </tr>\n",
       "  </thead>\n",
       "  <tbody>\n",
       "    <tr>\n",
       "      <th>0</th>\n",
       "      <td>2018-06-13 06:35:59+00:00</td>\n",
       "      <td>1</td>\n",
       "      <td>30.283797</td>\n",
       "      <td>-97.741906</td>\n",
       "      <td>144.066667</td>\n",
       "      <td>POINT (-97.741906 30.283797)</td>\n",
       "      <td>Wednesday</td>\n",
       "      <td>6</td>\n",
       "      <td>June</td>\n",
       "      <td>cnw</td>\n",
       "      <td>ne</td>\n",
       "      <td>1.849061</td>\n",
       "      <td>0.786393</td>\n",
       "      <td>-1.362973</td>\n",
       "    </tr>\n",
       "    <tr>\n",
       "      <th>1</th>\n",
       "      <td>2018-06-13 10:15:36+00:00</td>\n",
       "      <td>4</td>\n",
       "      <td>30.339593</td>\n",
       "      <td>-97.700963</td>\n",
       "      <td>64.450000</td>\n",
       "      <td>POINT (-97.700963 30.339593)</td>\n",
       "      <td>Wednesday</td>\n",
       "      <td>10</td>\n",
       "      <td>June</td>\n",
       "      <td>vne</td>\n",
       "      <td>ne</td>\n",
       "      <td>9.009002</td>\n",
       "      <td>-0.090188</td>\n",
       "      <td>-0.384846</td>\n",
       "    </tr>\n",
       "    <tr>\n",
       "      <th>2</th>\n",
       "      <td>2020-04-17 21:25:03+00:00</td>\n",
       "      <td>1</td>\n",
       "      <td>30.329455</td>\n",
       "      <td>-97.638105</td>\n",
       "      <td>30.000000</td>\n",
       "      <td>POINT (-97.638105 30.329455)</td>\n",
       "      <td>Friday</td>\n",
       "      <td>21</td>\n",
       "      <td>April</td>\n",
       "      <td>vce</td>\n",
       "      <td>ne</td>\n",
       "      <td>12.228301</td>\n",
       "      <td>-0.469483</td>\n",
       "      <td>0.054946</td>\n",
       "    </tr>\n",
       "    <tr>\n",
       "      <th>3</th>\n",
       "      <td>2020-04-17 21:40:52+00:00</td>\n",
       "      <td>4</td>\n",
       "      <td>30.202806</td>\n",
       "      <td>-97.760701</td>\n",
       "      <td>14.183333</td>\n",
       "      <td>POINT (-97.760701 30.202806)</td>\n",
       "      <td>Friday</td>\n",
       "      <td>21</td>\n",
       "      <td>April</td>\n",
       "      <td>vsw</td>\n",
       "      <td>sw</td>\n",
       "      <td>7.357232</td>\n",
       "      <td>-0.643625</td>\n",
       "      <td>-0.610496</td>\n",
       "    </tr>\n",
       "    <tr>\n",
       "      <th>4</th>\n",
       "      <td>2020-04-17 21:00:55+00:00</td>\n",
       "      <td>1</td>\n",
       "      <td>30.184265</td>\n",
       "      <td>-97.687339</td>\n",
       "      <td>149.150000</td>\n",
       "      <td>POINT (-97.68733899999999 30.184265)</td>\n",
       "      <td>Friday</td>\n",
       "      <td>21</td>\n",
       "      <td>April</td>\n",
       "      <td>vse</td>\n",
       "      <td>se</td>\n",
       "      <td>10.665180</td>\n",
       "      <td>0.842360</td>\n",
       "      <td>-0.158594</td>\n",
       "    </tr>\n",
       "  </tbody>\n",
       "</table>\n",
       "</div>"
      ],
      "text/plain": [
       "              published_date  issue_reported   Latitude  Longitude  \\\n",
       "0  2018-06-13 06:35:59+00:00               1  30.283797 -97.741906   \n",
       "1  2018-06-13 10:15:36+00:00               4  30.339593 -97.700963   \n",
       "2  2020-04-17 21:25:03+00:00               1  30.329455 -97.638105   \n",
       "3  2020-04-17 21:40:52+00:00               4  30.202806 -97.760701   \n",
       "4  2020-04-17 21:00:55+00:00               1  30.184265 -97.687339   \n",
       "\n",
       "   issue_timespan                              geometry        day  hour  \\\n",
       "0      144.066667          POINT (-97.741906 30.283797)  Wednesday     6   \n",
       "1       64.450000          POINT (-97.700963 30.339593)  Wednesday    10   \n",
       "2       30.000000          POINT (-97.638105 30.329455)     Friday    21   \n",
       "3       14.183333          POINT (-97.760701 30.202806)     Friday    21   \n",
       "4      149.150000  POINT (-97.68733899999999 30.184265)     Friday    21   \n",
       "\n",
       "   month region quadrant  dist_cntr_km  scaled_timespan  scaled_dist_km  \n",
       "0   June    cnw       ne      1.849061         0.786393       -1.362973  \n",
       "1   June    vne       ne      9.009002        -0.090188       -0.384846  \n",
       "2  April    vce       ne     12.228301        -0.469483        0.054946  \n",
       "3  April    vsw       sw      7.357232        -0.643625       -0.610496  \n",
       "4  April    vse       se     10.665180         0.842360       -0.158594  "
      ]
     },
     "execution_count": 17,
     "metadata": {},
     "output_type": "execute_result"
    }
   ],
   "source": [
    "\n",
    "df.head()"
   ]
  },
  {
   "cell_type": "markdown",
   "id": "e3abeb28",
   "metadata": {},
   "source": [
    "## One Hot Encoding"
   ]
  },
  {
   "cell_type": "code",
   "execution_count": 18,
   "id": "67b261af",
   "metadata": {},
   "outputs": [],
   "source": [
    "dummies = pd.get_dummies(df, columns=['day','hour','month','region', 'quadrant'])"
   ]
  },
  {
   "cell_type": "code",
   "execution_count": 19,
   "id": "93abcc0d",
   "metadata": {},
   "outputs": [],
   "source": [
    "dummies = dummies.drop(columns=['issue_reported', 'issue_timespan', 'Latitude','Longitude', 'geometry', \n",
    "                                'published_date', 'dist_cntr_km'])"
   ]
  },
  {
   "cell_type": "code",
   "execution_count": 20,
   "id": "3cfc42f9",
   "metadata": {},
   "outputs": [
    {
     "data": {
      "text/html": [
       "<div>\n",
       "<style scoped>\n",
       "    .dataframe tbody tr th:only-of-type {\n",
       "        vertical-align: middle;\n",
       "    }\n",
       "\n",
       "    .dataframe tbody tr th {\n",
       "        vertical-align: top;\n",
       "    }\n",
       "\n",
       "    .dataframe thead th {\n",
       "        text-align: right;\n",
       "    }\n",
       "</style>\n",
       "<table border=\"1\" class=\"dataframe\">\n",
       "  <thead>\n",
       "    <tr style=\"text-align: right;\">\n",
       "      <th></th>\n",
       "      <th>scaled_timespan</th>\n",
       "      <th>scaled_dist_km</th>\n",
       "      <th>day_Friday</th>\n",
       "      <th>day_Monday</th>\n",
       "      <th>day_Saturday</th>\n",
       "      <th>day_Sunday</th>\n",
       "      <th>day_Thursday</th>\n",
       "      <th>day_Tuesday</th>\n",
       "      <th>day_Wednesday</th>\n",
       "      <th>hour_0</th>\n",
       "      <th>...</th>\n",
       "      <th>region_vce</th>\n",
       "      <th>region_vcw</th>\n",
       "      <th>region_vne</th>\n",
       "      <th>region_vnw</th>\n",
       "      <th>region_vse</th>\n",
       "      <th>region_vsw</th>\n",
       "      <th>quadrant_ne</th>\n",
       "      <th>quadrant_nw</th>\n",
       "      <th>quadrant_se</th>\n",
       "      <th>quadrant_sw</th>\n",
       "    </tr>\n",
       "  </thead>\n",
       "  <tbody>\n",
       "    <tr>\n",
       "      <th>0</th>\n",
       "      <td>0.786393</td>\n",
       "      <td>-1.362973</td>\n",
       "      <td>0</td>\n",
       "      <td>0</td>\n",
       "      <td>0</td>\n",
       "      <td>0</td>\n",
       "      <td>0</td>\n",
       "      <td>0</td>\n",
       "      <td>1</td>\n",
       "      <td>0</td>\n",
       "      <td>...</td>\n",
       "      <td>0</td>\n",
       "      <td>0</td>\n",
       "      <td>0</td>\n",
       "      <td>0</td>\n",
       "      <td>0</td>\n",
       "      <td>0</td>\n",
       "      <td>1</td>\n",
       "      <td>0</td>\n",
       "      <td>0</td>\n",
       "      <td>0</td>\n",
       "    </tr>\n",
       "    <tr>\n",
       "      <th>1</th>\n",
       "      <td>-0.090188</td>\n",
       "      <td>-0.384846</td>\n",
       "      <td>0</td>\n",
       "      <td>0</td>\n",
       "      <td>0</td>\n",
       "      <td>0</td>\n",
       "      <td>0</td>\n",
       "      <td>0</td>\n",
       "      <td>1</td>\n",
       "      <td>0</td>\n",
       "      <td>...</td>\n",
       "      <td>0</td>\n",
       "      <td>0</td>\n",
       "      <td>1</td>\n",
       "      <td>0</td>\n",
       "      <td>0</td>\n",
       "      <td>0</td>\n",
       "      <td>1</td>\n",
       "      <td>0</td>\n",
       "      <td>0</td>\n",
       "      <td>0</td>\n",
       "    </tr>\n",
       "    <tr>\n",
       "      <th>2</th>\n",
       "      <td>-0.469483</td>\n",
       "      <td>0.054946</td>\n",
       "      <td>1</td>\n",
       "      <td>0</td>\n",
       "      <td>0</td>\n",
       "      <td>0</td>\n",
       "      <td>0</td>\n",
       "      <td>0</td>\n",
       "      <td>0</td>\n",
       "      <td>0</td>\n",
       "      <td>...</td>\n",
       "      <td>1</td>\n",
       "      <td>0</td>\n",
       "      <td>0</td>\n",
       "      <td>0</td>\n",
       "      <td>0</td>\n",
       "      <td>0</td>\n",
       "      <td>1</td>\n",
       "      <td>0</td>\n",
       "      <td>0</td>\n",
       "      <td>0</td>\n",
       "    </tr>\n",
       "    <tr>\n",
       "      <th>3</th>\n",
       "      <td>-0.643625</td>\n",
       "      <td>-0.610496</td>\n",
       "      <td>1</td>\n",
       "      <td>0</td>\n",
       "      <td>0</td>\n",
       "      <td>0</td>\n",
       "      <td>0</td>\n",
       "      <td>0</td>\n",
       "      <td>0</td>\n",
       "      <td>0</td>\n",
       "      <td>...</td>\n",
       "      <td>0</td>\n",
       "      <td>0</td>\n",
       "      <td>0</td>\n",
       "      <td>0</td>\n",
       "      <td>0</td>\n",
       "      <td>1</td>\n",
       "      <td>0</td>\n",
       "      <td>0</td>\n",
       "      <td>0</td>\n",
       "      <td>1</td>\n",
       "    </tr>\n",
       "    <tr>\n",
       "      <th>4</th>\n",
       "      <td>0.842360</td>\n",
       "      <td>-0.158594</td>\n",
       "      <td>1</td>\n",
       "      <td>0</td>\n",
       "      <td>0</td>\n",
       "      <td>0</td>\n",
       "      <td>0</td>\n",
       "      <td>0</td>\n",
       "      <td>0</td>\n",
       "      <td>0</td>\n",
       "      <td>...</td>\n",
       "      <td>0</td>\n",
       "      <td>0</td>\n",
       "      <td>0</td>\n",
       "      <td>0</td>\n",
       "      <td>1</td>\n",
       "      <td>0</td>\n",
       "      <td>0</td>\n",
       "      <td>0</td>\n",
       "      <td>1</td>\n",
       "      <td>0</td>\n",
       "    </tr>\n",
       "  </tbody>\n",
       "</table>\n",
       "<p>5 rows × 61 columns</p>\n",
       "</div>"
      ],
      "text/plain": [
       "   scaled_timespan  scaled_dist_km  day_Friday  day_Monday  day_Saturday  \\\n",
       "0         0.786393       -1.362973           0           0             0   \n",
       "1        -0.090188       -0.384846           0           0             0   \n",
       "2        -0.469483        0.054946           1           0             0   \n",
       "3        -0.643625       -0.610496           1           0             0   \n",
       "4         0.842360       -0.158594           1           0             0   \n",
       "\n",
       "   day_Sunday  day_Thursday  day_Tuesday  day_Wednesday  hour_0  ...  \\\n",
       "0           0             0            0              1       0  ...   \n",
       "1           0             0            0              1       0  ...   \n",
       "2           0             0            0              0       0  ...   \n",
       "3           0             0            0              0       0  ...   \n",
       "4           0             0            0              0       0  ...   \n",
       "\n",
       "   region_vce  region_vcw  region_vne  region_vnw  region_vse  region_vsw  \\\n",
       "0           0           0           0           0           0           0   \n",
       "1           0           0           1           0           0           0   \n",
       "2           1           0           0           0           0           0   \n",
       "3           0           0           0           0           0           1   \n",
       "4           0           0           0           0           1           0   \n",
       "\n",
       "   quadrant_ne  quadrant_nw  quadrant_se  quadrant_sw  \n",
       "0            1            0            0            0  \n",
       "1            1            0            0            0  \n",
       "2            1            0            0            0  \n",
       "3            0            0            0            1  \n",
       "4            0            0            1            0  \n",
       "\n",
       "[5 rows x 61 columns]"
      ]
     },
     "execution_count": 20,
     "metadata": {},
     "output_type": "execute_result"
    }
   ],
   "source": [
    "dummies.head()"
   ]
  },
  {
   "cell_type": "code",
   "execution_count": 21,
   "id": "603cb9d0",
   "metadata": {},
   "outputs": [],
   "source": [
    "X = dummies"
   ]
  },
  {
   "cell_type": "code",
   "execution_count": 22,
   "id": "1b039e7a",
   "metadata": {},
   "outputs": [],
   "source": [
    "\n",
    "y = df.issue_reported"
   ]
  },
  {
   "cell_type": "code",
   "execution_count": 23,
   "id": "d9ee460f",
   "metadata": {},
   "outputs": [
    {
     "data": {
      "text/plain": [
       "(243114, 61)"
      ]
     },
     "execution_count": 23,
     "metadata": {},
     "output_type": "execute_result"
    }
   ],
   "source": [
    "X.shape"
   ]
  },
  {
   "cell_type": "code",
   "execution_count": 24,
   "id": "78aed533",
   "metadata": {},
   "outputs": [
    {
     "data": {
      "text/plain": [
       "(243114,)"
      ]
     },
     "execution_count": 24,
     "metadata": {},
     "output_type": "execute_result"
    }
   ],
   "source": [
    "y.shape"
   ]
  },
  {
   "cell_type": "markdown",
   "id": "c0d7e444",
   "metadata": {},
   "source": [
    "## Train Test Split and Scale"
   ]
  },
  {
   "cell_type": "code",
   "execution_count": 25,
   "id": "972c89ed",
   "metadata": {},
   "outputs": [],
   "source": [
    "X_train, X_test, y_train, y_test = train_test_split(X, y, test_size=0.3, random_state=123)"
   ]
  },
  {
   "cell_type": "code",
   "execution_count": 26,
   "id": "388f5802",
   "metadata": {},
   "outputs": [],
   "source": [
    "X_train = scaler.fit_transform(X_train)\n",
    "X_test = scaler.transform(X_test)"
   ]
  },
  {
   "cell_type": "markdown",
   "id": "120a8c7a",
   "metadata": {},
   "source": [
    "## Random Forest Accuracy and F1 Scores"
   ]
  },
  {
   "cell_type": "code",
   "execution_count": 32,
   "id": "5d29a6c5",
   "metadata": {},
   "outputs": [
    {
     "name": "stdout",
     "output_type": "stream",
     "text": [
      "Random Forest: Accuracy=0.571\n",
      "Random Forest: f1-score=0.551\n",
      "Random Forest: Balanced Accuracy=0.343\n"
     ]
    }
   ],
   "source": [
    "clf = RandomForestClassifier(n_estimators=300, random_state = 1,n_jobs=-1)\n",
    "model_res = clf.fit(X_train, y_train)\n",
    "y_pred = model_res.predict(X_test)\n",
    "y_pred_prob = model_res.predict_proba(X_test)\n",
    "lr_probs = y_pred_prob[:,1]\n",
    "ac = accuracy_score(y_test, y_pred)\n",
    "\n",
    "f1 = f1_score(y_test, y_pred, average='weighted')\n",
    "cm = confusion_matrix(y_test, y_pred)\n",
    "ba = balanced_accuracy_score(y_test, y_pred)\n",
    "\n",
    "print('Random Forest: Accuracy=%.3f' % (ac))\n",
    "\n",
    "print('Random Forest: f1-score=%.3f' % (f1))\n",
    "\n",
    "print('Random Forest: Balanced Accuracy=%.3f' % (ba))"
   ]
  },
  {
   "cell_type": "markdown",
   "id": "0701740b",
   "metadata": {},
   "source": [
    "## Random Forest Hyperparamter Tuning\n",
    "\n",
    "\n",
    "The Random Forest default performed best. Now to find the best parameters to tune."
   ]
  },
  {
   "cell_type": "code",
   "execution_count": 33,
   "id": "bfeca793",
   "metadata": {},
   "outputs": [],
   "source": [
    "forest = RandomForestClassifier()"
   ]
  },
  {
   "cell_type": "code",
   "execution_count": 34,
   "id": "e9320615",
   "metadata": {},
   "outputs": [
    {
     "name": "stdout",
     "output_type": "stream",
     "text": [
      "Fitting 3 folds for each of 64 candidates, totalling 192 fits\n"
     ]
    }
   ],
   "source": [
    "n_estimators = [120, 300, 500, 800]\n",
    "max_depth = [5, 8, 15, 25]\n",
    "min_samples_split = [2, 5, 10, 15]\n",
    "\n",
    "\n",
    "hyperF = dict(n_estimators = n_estimators, max_depth = max_depth,  \n",
    "              min_samples_split = min_samples_split, \n",
    "             )\n",
    "\n",
    "gridF = GridSearchCV(forest, hyperF, cv = 3, verbose = 1, \n",
    "                      n_jobs = -1)\n",
    "bestF = gridF.fit(X_train, y_train)"
   ]
  },
  {
   "cell_type": "code",
   "execution_count": 35,
   "id": "b5acac6a",
   "metadata": {},
   "outputs": [
    {
     "name": "stdout",
     "output_type": "stream",
     "text": [
      "Best n_estimators: 500\n",
      "Best max_depth: 25\n",
      "Best min_samples_split: 15\n"
     ]
    }
   ],
   "source": [
    "print('Best n_estimators:', bestF.best_estimator_.get_params()['n_estimators'])\n",
    "print('Best max_depth:', bestF.best_estimator_.get_params()['max_depth'])\n",
    "print('Best min_samples_split:', bestF.best_estimator_.get_params()['min_samples_split'])"
   ]
  },
  {
   "cell_type": "code",
   "execution_count": 31,
   "id": "33726f0d",
   "metadata": {},
   "outputs": [],
   "source": [
    "forestOpt = RandomForestClassifier(random_state = 1, max_depth = 25, n_estimators = 500, min_samples_split = 15)\n",
    "                                   \n",
    "modelOpt = forestOpt.fit(X_train, y_train)\n",
    "y_pred = modelOpt.predict(X_test)"
   ]
  },
  {
   "cell_type": "markdown",
   "id": "d40b2aa4",
   "metadata": {},
   "source": [
    "## A confusion matrix on Random Forest model"
   ]
  },
  {
   "cell_type": "code",
   "execution_count": 131,
   "id": "80d2c5c4",
   "metadata": {},
   "outputs": [],
   "source": [
    "class_names=['Crash Service', 'Traffic Hazard', 'Stalled Vehicle', 'Collision', 'Loose Livestock', \n",
    "             'Traffic Impediment'] # name  of classes"
   ]
  },
  {
   "cell_type": "code",
   "execution_count": 132,
   "id": "12013310",
   "metadata": {},
   "outputs": [
    {
     "name": "stdout",
     "output_type": "stream",
     "text": [
      "Confusion matrix, without normalization\n",
      "[[ 5777   950   106     0  2930     0]\n",
      " [  601 19092     3     0  8615     0]\n",
      " [  980    76   197     0   531     0]\n",
      " [  133   991     1     1  2410     0]\n",
      " [ 2204  7560    93     1 17904     0]\n",
      " [   23   872     0     0   884     0]]\n",
      "Normalized confusion matrix\n",
      "[[5.92e-01 9.73e-02 1.09e-02 0.00e+00 3.00e-01 0.00e+00]\n",
      " [2.12e-02 6.74e-01 1.06e-04 0.00e+00 3.04e-01 0.00e+00]\n",
      " [5.49e-01 4.26e-02 1.10e-01 0.00e+00 2.98e-01 0.00e+00]\n",
      " [3.76e-02 2.80e-01 2.83e-04 2.83e-04 6.82e-01 0.00e+00]\n",
      " [7.94e-02 2.72e-01 3.35e-03 3.60e-05 6.45e-01 0.00e+00]\n",
      " [1.29e-02 4.90e-01 0.00e+00 0.00e+00 4.97e-01 0.00e+00]]\n"
     ]
    },
    {
     "data": {
      "image/png": "[encoded data removed]",
      "text/plain": [
       "<Figure size 640x480 with 2 Axes>"
      ]
     },
     "metadata": {
      "needs_background": "light"
     },
     "output_type": "display_data"
    },
    {
     "data": {
      "image/png": "[encoded data removed]",
      "text/plain": [
       "<Figure size 640x480 with 2 Axes>"
      ]
     },
     "metadata": {
      "needs_background": "light"
     },
     "output_type": "display_data"
    }
   ],
   "source": [
    "def plot_confusion_matrix(cm, classes,\n",
    "                          normalize=False,\n",
    "                          title='Confusion matrix',\n",
    "                          cmap=plt.cm.Blues):\n",
    "    \"\"\"\n",
    "    This function prints and plots the confusion matrix.\n",
    "    Normalization can be applied by setting `normalize=True`.\n",
    "    \"\"\"\n",
    "    if normalize:\n",
    "        cm = cm.astype('float') / cm.sum(axis=1)[:, np.newaxis]\n",
    "        print(\"Normalized confusion matrix\")\n",
    "    else:\n",
    "        print('Confusion matrix, without normalization')\n",
    "\n",
    "    print(cm)\n",
    "\n",
    "    plt.imshow(cm, interpolation='nearest', cmap=cmap)\n",
    "    plt.title(title)\n",
    "    plt.colorbar()\n",
    "    tick_marks = np.arange(len(classes))\n",
    "    plt.xticks(tick_marks, classes, rotation=45)\n",
    "    plt.yticks(tick_marks, classes)\n",
    "\n",
    "    fmt = '.2f' if normalize else 'd'\n",
    "    thresh = cm.max() / 2.\n",
    "    #for i, j in itertools.product(range(cm.shape[0]), range(cm.shape[1])):\n",
    "    for i in range (cm.shape[0]):\n",
    "        for j in range (cm.shape[1]):\n",
    "            plt.text(j, i, format(cm[i, j], fmt),\n",
    "                 horizontalalignment=\"center\",\n",
    "                 color=\"white\" if cm[i, j] > thresh else \"black\")\n",
    "\n",
    "    plt.ylabel('True label')\n",
    "    plt.xlabel('Predicted label')\n",
    "    plt.tight_layout()\n",
    "\n",
    "# Compute confusion matrix\n",
    "cnf_matrix = confusion_matrix(y_test, y_pred)\n",
    "np.set_printoptions(precision=2)\n",
    "\n",
    "# Plot non-normalized confusion matrix\n",
    "plt.figure(figsize=(8, 6), dpi=80)\n",
    "plot_confusion_matrix(cnf_matrix, classes=class_names,\n",
    "                      title='Confusion matrix, without normalization')\n",
    "#plt.savefig('figures/RF_cm_multi_class.png')\n",
    "\n",
    "# Plot normalized confusion matrix\n",
    "plt.figure(figsize=(8, 6), dpi=80)\n",
    "plot_confusion_matrix(cnf_matrix, classes=class_names, normalize=True,\n",
    "                      title='Normalized confusion matrix')\n",
    "#plt.savefig('figures/RF_cm_proportion_multi_class.png', bbox_inches=\"tight\")\n",
    "plt.show()"
   ]
  },
  {
   "cell_type": "markdown",
   "id": "48dfc20e",
   "metadata": {},
   "source": [
    "There appears to be 3 classes in particular that stand out:\n",
    "\n",
    "Crash Service\n",
    "\n",
    "Traffic Hazard\n",
    "\n",
    "Loose Livestock"
   ]
  },
  {
   "cell_type": "markdown",
   "id": "a6f1ce45",
   "metadata": {},
   "source": [
    "# What were the most important variables?"
   ]
  },
  {
   "cell_type": "code",
   "execution_count": 133,
   "id": "de1d250e",
   "metadata": {},
   "outputs": [
    {
     "name": "stdout",
     "output_type": "stream",
     "text": [
      "30\n"
     ]
    },
    {
     "data": {
      "image/png": "[encoded data removed]",
      "text/plain": [
       "<Figure size 720x720 with 1 Axes>"
      ]
     },
     "metadata": {
      "needs_background": "light"
     },
     "output_type": "display_data"
    }
   ],
   "source": [
    "feature_importance = clf.feature_importances_\n",
    "# make importances relative to max importance\n",
    "feature_importance = 100.0 * (feature_importance / feature_importance.max())[:30]\n",
    "sorted_idx = np.argsort(feature_importance)[:30]\n",
    "\n",
    "pos = np.arange(sorted_idx.shape[0]) + .5\n",
    "print(pos.size)\n",
    "sorted_idx.size\n",
    "plt.figure(figsize=(10,10))\n",
    "plt.barh(pos, feature_importance[sorted_idx], align='center')\n",
    "plt.yticks(pos, X.columns[sorted_idx])\n",
    "plt.xlabel('Relative Importance')\n",
    "plt.title('Variable Importance')\n",
    "plt.show()"
   ]
  },
  {
   "cell_type": "code",
   "execution_count": 134,
   "id": "a48cbb9f",
   "metadata": {},
   "outputs": [
    {
     "data": {
      "text/html": [
       "<div>\n",
       "<style scoped>\n",
       "    .dataframe tbody tr th:only-of-type {\n",
       "        vertical-align: middle;\n",
       "    }\n",
       "\n",
       "    .dataframe tbody tr th {\n",
       "        vertical-align: top;\n",
       "    }\n",
       "\n",
       "    .dataframe thead th {\n",
       "        text-align: right;\n",
       "    }\n",
       "</style>\n",
       "<table border=\"1\" class=\"dataframe\">\n",
       "  <thead>\n",
       "    <tr style=\"text-align: right;\">\n",
       "      <th></th>\n",
       "      <th>Real Values</th>\n",
       "      <th>Predicted Values</th>\n",
       "    </tr>\n",
       "  </thead>\n",
       "  <tbody>\n",
       "    <tr>\n",
       "      <th>43</th>\n",
       "      <td>1</td>\n",
       "      <td>1</td>\n",
       "    </tr>\n",
       "    <tr>\n",
       "      <th>146776</th>\n",
       "      <td>1</td>\n",
       "      <td>1</td>\n",
       "    </tr>\n",
       "    <tr>\n",
       "      <th>96622</th>\n",
       "      <td>4</td>\n",
       "      <td>1</td>\n",
       "    </tr>\n",
       "    <tr>\n",
       "      <th>87263</th>\n",
       "      <td>0</td>\n",
       "      <td>4</td>\n",
       "    </tr>\n",
       "    <tr>\n",
       "      <th>112654</th>\n",
       "      <td>1</td>\n",
       "      <td>1</td>\n",
       "    </tr>\n",
       "    <tr>\n",
       "      <th>...</th>\n",
       "      <td>...</td>\n",
       "      <td>...</td>\n",
       "    </tr>\n",
       "    <tr>\n",
       "      <th>117431</th>\n",
       "      <td>0</td>\n",
       "      <td>4</td>\n",
       "    </tr>\n",
       "    <tr>\n",
       "      <th>238726</th>\n",
       "      <td>1</td>\n",
       "      <td>4</td>\n",
       "    </tr>\n",
       "    <tr>\n",
       "      <th>49844</th>\n",
       "      <td>5</td>\n",
       "      <td>1</td>\n",
       "    </tr>\n",
       "    <tr>\n",
       "      <th>152669</th>\n",
       "      <td>4</td>\n",
       "      <td>4</td>\n",
       "    </tr>\n",
       "    <tr>\n",
       "      <th>83125</th>\n",
       "      <td>4</td>\n",
       "      <td>4</td>\n",
       "    </tr>\n",
       "  </tbody>\n",
       "</table>\n",
       "<p>72935 rows × 2 columns</p>\n",
       "</div>"
      ],
      "text/plain": [
       "        Real Values  Predicted Values\n",
       "43                1                 1\n",
       "146776            1                 1\n",
       "96622             4                 1\n",
       "87263             0                 4\n",
       "112654            1                 1\n",
       "...             ...               ...\n",
       "117431            0                 4\n",
       "238726            1                 4\n",
       "49844             5                 1\n",
       "152669            4                 4\n",
       "83125             4                 4\n",
       "\n",
       "[72935 rows x 2 columns]"
      ]
     },
     "execution_count": 134,
     "metadata": {},
     "output_type": "execute_result"
    }
   ],
   "source": [
    "df = pd.DataFrame({'Real Values':y_test, 'Predicted Values':y_pred})\n",
    "df"
   ]
  },
  {
   "cell_type": "markdown",
   "id": "248636b9",
   "metadata": {},
   "source": [
    "# Running Reports"
   ]
  },
  {
   "cell_type": "code",
   "execution_count": 136,
   "id": "10cd7682",
   "metadata": {},
   "outputs": [
    {
     "name": "stdout",
     "output_type": "stream",
     "text": [
      "Random Forest: Accuracy=0.571\n",
      "Random Forest: f1-score=0.563\n",
      "Random Forest: Balanced Accuracy=0.337\n"
     ]
    }
   ],
   "source": [
    "from sklearn.metrics import mean_squared_error\n",
    "f1 = f1_score(y_test, y_pred, average='weighted')\n",
    "cm = confusion_matrix(y_test, y_pred)\n",
    "ba = balanced_accuracy_score(y_test, y_pred)\n",
    "\n",
    "print('Random Forest: Accuracy=%.3f' % (ac))\n",
    "\n",
    "print('Random Forest: f1-score=%.3f' % (f1))\n",
    "\n",
    "print('Random Forest: Balanced Accuracy=%.3f' % (ba))\n"
   ]
  },
  {
   "cell_type": "code",
   "execution_count": null,
   "id": "8b126e5c",
   "metadata": {},
   "outputs": [],
   "source": []
  }
 ],
 "metadata": {
  "kernelspec": {
   "display_name": "Python 3 (ipykernel)",
   "language": "python",
   "name": "python3"
  },
  "language_info": {
   "codemirror_mode": {
    "name": "ipython",
    "version": 3
   },
   "file_extension": ".py",
   "mimetype": "text/x-python",
   "name": "python",
   "nbconvert_exporter": "python",
   "pygments_lexer": "ipython3",
   "version": "3.8.11"
  }
 },
 "nbformat": 4,
 "nbformat_minor": 5
}
